{
 "cells": [
  {
   "cell_type": "code",
   "execution_count": 1,
   "metadata": {},
   "outputs": [
    {
     "data": {
      "text/html": [
       "<pre style=\"white-space:pre;overflow-x:auto;line-height:normal;font-family:Menlo,'DejaVu Sans Mono',consolas,'Courier New',monospace\"><span style=\"color: #7fbfbf; text-decoration-color: #7fbfbf\">[06/27/24 19:55:09] </span><span style=\"color: #000080; text-decoration-color: #000080\">INFO    </span> Registered line magic <span style=\"color: #008000; text-decoration-color: #008000\">'%reload_kedro'</span>                                   <a href=\"file://C:\\Users\\carga\\AppData\\Local\\Packages\\PythonSoftwareFoundation.Python.3.8_qbz5n2kfra8p0\\LocalCache\\local-packages\\Python38\\site-packages\\kedro\\ipython\\__init__.py\" target=\"_blank\"><span style=\"color: #7f7f7f; text-decoration-color: #7f7f7f\">__init__.py</span></a><span style=\"color: #7f7f7f; text-decoration-color: #7f7f7f\">:</span><a href=\"file://C:\\Users\\carga\\AppData\\Local\\Packages\\PythonSoftwareFoundation.Python.3.8_qbz5n2kfra8p0\\LocalCache\\local-packages\\Python38\\site-packages\\kedro\\ipython\\__init__.py#58\" target=\"_blank\"><span style=\"color: #7f7f7f; text-decoration-color: #7f7f7f\">58</span></a>\n",
       "</pre>\n"
      ],
      "text/plain": [
       "\u001b[2;36m[06/27/24 19:55:09]\u001b[0m\u001b[2;36m \u001b[0m\u001b[34mINFO    \u001b[0m Registered line magic \u001b[32m'%reload_kedro'\u001b[0m                                   \u001b]8;id=846476;file://C:\\Users\\carga\\AppData\\Local\\Packages\\PythonSoftwareFoundation.Python.3.8_qbz5n2kfra8p0\\LocalCache\\local-packages\\Python38\\site-packages\\kedro\\ipython\\__init__.py\u001b\\\u001b[2m__init__.py\u001b[0m\u001b]8;;\u001b\\\u001b[2m:\u001b[0m\u001b]8;id=633750;file://C:\\Users\\carga\\AppData\\Local\\Packages\\PythonSoftwareFoundation.Python.3.8_qbz5n2kfra8p0\\LocalCache\\local-packages\\Python38\\site-packages\\kedro\\ipython\\__init__.py#58\u001b\\\u001b[2m58\u001b[0m\u001b]8;;\u001b\\\n"
      ]
     },
     "metadata": {},
     "output_type": "display_data"
    },
    {
     "data": {
      "text/html": [
       "<pre style=\"white-space:pre;overflow-x:auto;line-height:normal;font-family:Menlo,'DejaVu Sans Mono',consolas,'Courier New',monospace\"><span style=\"color: #7fbfbf; text-decoration-color: #7fbfbf\">                    </span><span style=\"color: #000080; text-decoration-color: #000080\">INFO    </span> Registered line magic <span style=\"color: #008000; text-decoration-color: #008000\">'%load_node'</span>                                      <a href=\"file://C:\\Users\\carga\\AppData\\Local\\Packages\\PythonSoftwareFoundation.Python.3.8_qbz5n2kfra8p0\\LocalCache\\local-packages\\Python38\\site-packages\\kedro\\ipython\\__init__.py\" target=\"_blank\"><span style=\"color: #7f7f7f; text-decoration-color: #7f7f7f\">__init__.py</span></a><span style=\"color: #7f7f7f; text-decoration-color: #7f7f7f\">:</span><a href=\"file://C:\\Users\\carga\\AppData\\Local\\Packages\\PythonSoftwareFoundation.Python.3.8_qbz5n2kfra8p0\\LocalCache\\local-packages\\Python38\\site-packages\\kedro\\ipython\\__init__.py#60\" target=\"_blank\"><span style=\"color: #7f7f7f; text-decoration-color: #7f7f7f\">60</span></a>\n",
       "</pre>\n"
      ],
      "text/plain": [
       "\u001b[2;36m                   \u001b[0m\u001b[2;36m \u001b[0m\u001b[34mINFO    \u001b[0m Registered line magic \u001b[32m'%load_node'\u001b[0m                                      \u001b]8;id=196958;file://C:\\Users\\carga\\AppData\\Local\\Packages\\PythonSoftwareFoundation.Python.3.8_qbz5n2kfra8p0\\LocalCache\\local-packages\\Python38\\site-packages\\kedro\\ipython\\__init__.py\u001b\\\u001b[2m__init__.py\u001b[0m\u001b]8;;\u001b\\\u001b[2m:\u001b[0m\u001b]8;id=209235;file://C:\\Users\\carga\\AppData\\Local\\Packages\\PythonSoftwareFoundation.Python.3.8_qbz5n2kfra8p0\\LocalCache\\local-packages\\Python38\\site-packages\\kedro\\ipython\\__init__.py#60\u001b\\\u001b[2m60\u001b[0m\u001b]8;;\u001b\\\n"
      ]
     },
     "metadata": {},
     "output_type": "display_data"
    },
    {
     "data": {
      "text/html": [
       "<pre style=\"white-space:pre;overflow-x:auto;line-height:normal;font-family:Menlo,'DejaVu Sans Mono',consolas,'Courier New',monospace\"><span style=\"color: #7fbfbf; text-decoration-color: #7fbfbf\">                    </span><span style=\"color: #000080; text-decoration-color: #000080\">INFO    </span> Resolved project path as:                                              <a href=\"file://C:\\Users\\carga\\AppData\\Local\\Packages\\PythonSoftwareFoundation.Python.3.8_qbz5n2kfra8p0\\LocalCache\\local-packages\\Python38\\site-packages\\kedro\\ipython\\__init__.py\" target=\"_blank\"><span style=\"color: #7f7f7f; text-decoration-color: #7f7f7f\">__init__.py</span></a><span style=\"color: #7f7f7f; text-decoration-color: #7f7f7f\">:</span><a href=\"file://C:\\Users\\carga\\AppData\\Local\\Packages\\PythonSoftwareFoundation.Python.3.8_qbz5n2kfra8p0\\LocalCache\\local-packages\\Python38\\site-packages\\kedro\\ipython\\__init__.py#171\" target=\"_blank\"><span style=\"color: #7f7f7f; text-decoration-color: #7f7f7f\">171</span></a>\n",
       "<span style=\"color: #7fbfbf; text-decoration-color: #7fbfbf\">                    </span>         c:\\Users\\carga\\Documents\\KedroTutorial\\montrealfirepredicition.        <span style=\"color: #7f7f7f; text-decoration-color: #7f7f7f\">               </span>\n",
       "<span style=\"color: #7fbfbf; text-decoration-color: #7fbfbf\">                    </span>         To set a different path, run <span style=\"color: #008000; text-decoration-color: #008000\">'%reload_kedro &lt;project_root&gt;'</span>            <span style=\"color: #7f7f7f; text-decoration-color: #7f7f7f\">               </span>\n",
       "</pre>\n"
      ],
      "text/plain": [
       "\u001b[2;36m                   \u001b[0m\u001b[2;36m \u001b[0m\u001b[34mINFO    \u001b[0m Resolved project path as:                                              \u001b]8;id=179512;file://C:\\Users\\carga\\AppData\\Local\\Packages\\PythonSoftwareFoundation.Python.3.8_qbz5n2kfra8p0\\LocalCache\\local-packages\\Python38\\site-packages\\kedro\\ipython\\__init__.py\u001b\\\u001b[2m__init__.py\u001b[0m\u001b]8;;\u001b\\\u001b[2m:\u001b[0m\u001b]8;id=110778;file://C:\\Users\\carga\\AppData\\Local\\Packages\\PythonSoftwareFoundation.Python.3.8_qbz5n2kfra8p0\\LocalCache\\local-packages\\Python38\\site-packages\\kedro\\ipython\\__init__.py#171\u001b\\\u001b[2m171\u001b[0m\u001b]8;;\u001b\\\n",
       "\u001b[2;36m                    \u001b[0m         c:\\Users\\carga\\Documents\\KedroTutorial\\montrealfirepredicition.        \u001b[2m               \u001b[0m\n",
       "\u001b[2;36m                    \u001b[0m         To set a different path, run \u001b[32m'%reload_kedro \u001b[0m\u001b[32m<\u001b[0m\u001b[32mproject_root\u001b[0m\u001b[32m>\u001b[0m\u001b[32m'\u001b[0m            \u001b[2m               \u001b[0m\n"
      ]
     },
     "metadata": {},
     "output_type": "display_data"
    },
    {
     "data": {
      "text/html": [
       "<pre style=\"white-space:pre;overflow-x:auto;line-height:normal;font-family:Menlo,'DejaVu Sans Mono',consolas,'Courier New',monospace\"><span style=\"color: #7fbfbf; text-decoration-color: #7fbfbf\">[06/27/24 19:55:11] </span><span style=\"color: #800000; text-decoration-color: #800000\">WARNING </span> C:\\Users\\carga\\AppData\\Local\\Packages\\PythonSoftwareFoundation.Python. <span style=\"color: #7f7f7f; text-decoration-color: #7f7f7f\">warnings.py:109</span>\n",
       "<span style=\"color: #7fbfbf; text-decoration-color: #7fbfbf\">                    </span>         <span style=\"color: #008080; text-decoration-color: #008080; font-weight: bold\">3.</span>8_qbz5n2kfra8p0\\LocalCache\\local-packages\\Python38\\site-packages\\ked <span style=\"color: #7f7f7f; text-decoration-color: #7f7f7f\">               </span>\n",
       "<span style=\"color: #7fbfbf; text-decoration-color: #7fbfbf\">                    </span>         ro_viz\\integrations\\kedro\\hooks.py:<span style=\"color: #008080; text-decoration-color: #008080; font-weight: bold\">13</span>: KedroDeprecationWarning:        <span style=\"color: #7f7f7f; text-decoration-color: #7f7f7f\">               </span>\n",
       "<span style=\"color: #7fbfbf; text-decoration-color: #7fbfbf\">                    </span>         <span style=\"color: #008000; text-decoration-color: #008000\">'TRANSCODING_SEPARATOR'</span> has been moved to                              <span style=\"color: #7f7f7f; text-decoration-color: #7f7f7f\">               </span>\n",
       "<span style=\"color: #7fbfbf; text-decoration-color: #7fbfbf\">                    </span>         <span style=\"color: #008000; text-decoration-color: #008000\">'kedro.pipeline.transcoding'</span>, and the alias will be removed in Kedro   <span style=\"color: #7f7f7f; text-decoration-color: #7f7f7f\">               </span>\n",
       "<span style=\"color: #7fbfbf; text-decoration-color: #7fbfbf\">                    </span>         <span style=\"color: #008080; text-decoration-color: #008080; font-weight: bold\">0.20</span>.<span style=\"color: #008080; text-decoration-color: #008080; font-weight: bold\">0</span>                                                                 <span style=\"color: #7f7f7f; text-decoration-color: #7f7f7f\">               </span>\n",
       "<span style=\"color: #7fbfbf; text-decoration-color: #7fbfbf\">                    </span>           from kedro.pipeline.pipeline import TRANSCODING_SEPARATOR,           <span style=\"color: #7f7f7f; text-decoration-color: #7f7f7f\">               </span>\n",
       "<span style=\"color: #7fbfbf; text-decoration-color: #7fbfbf\">                    </span>         _strip_transcoding                                                     <span style=\"color: #7f7f7f; text-decoration-color: #7f7f7f\">               </span>\n",
       "<span style=\"color: #7fbfbf; text-decoration-color: #7fbfbf\">                    </span>                                                                                <span style=\"color: #7f7f7f; text-decoration-color: #7f7f7f\">               </span>\n",
       "</pre>\n"
      ],
      "text/plain": [
       "\u001b[2;36m[06/27/24 19:55:11]\u001b[0m\u001b[2;36m \u001b[0m\u001b[31mWARNING \u001b[0m C:\\Users\\carga\\AppData\\Local\\Packages\\PythonSoftwareFoundation.Python. \u001b[2mwarnings.py\u001b[0m\u001b[2m:\u001b[0m\u001b[2m109\u001b[0m\n",
       "\u001b[2;36m                    \u001b[0m         \u001b[1;36m3.\u001b[0m8_qbz5n2kfra8p0\\LocalCache\\local-packages\\Python38\\site-packages\\ked \u001b[2m               \u001b[0m\n",
       "\u001b[2;36m                    \u001b[0m         ro_viz\\integrations\\kedro\\hooks.py:\u001b[1;36m13\u001b[0m: KedroDeprecationWarning:        \u001b[2m               \u001b[0m\n",
       "\u001b[2;36m                    \u001b[0m         \u001b[32m'TRANSCODING_SEPARATOR'\u001b[0m has been moved to                              \u001b[2m               \u001b[0m\n",
       "\u001b[2;36m                    \u001b[0m         \u001b[32m'kedro.pipeline.transcoding'\u001b[0m, and the alias will be removed in Kedro   \u001b[2m               \u001b[0m\n",
       "\u001b[2;36m                    \u001b[0m         \u001b[1;36m0.20\u001b[0m.\u001b[1;36m0\u001b[0m                                                                 \u001b[2m               \u001b[0m\n",
       "\u001b[2;36m                    \u001b[0m           from kedro.pipeline.pipeline import TRANSCODING_SEPARATOR,           \u001b[2m               \u001b[0m\n",
       "\u001b[2;36m                    \u001b[0m         _strip_transcoding                                                     \u001b[2m               \u001b[0m\n",
       "\u001b[2;36m                    \u001b[0m                                                                                \u001b[2m               \u001b[0m\n"
      ]
     },
     "metadata": {},
     "output_type": "display_data"
    },
    {
     "data": {
      "text/html": [
       "<pre style=\"white-space:pre;overflow-x:auto;line-height:normal;font-family:Menlo,'DejaVu Sans Mono',consolas,'Courier New',monospace\"><span style=\"color: #7fbfbf; text-decoration-color: #7fbfbf\">[06/27/24 19:55:13] </span><span style=\"color: #800000; text-decoration-color: #800000\">WARNING </span> C:\\Users\\carga\\AppData\\Local\\Packages\\PythonSoftwareFoundation.Python. <span style=\"color: #7f7f7f; text-decoration-color: #7f7f7f\">warnings.py:109</span>\n",
       "<span style=\"color: #7fbfbf; text-decoration-color: #7fbfbf\">                    </span>         <span style=\"color: #008080; text-decoration-color: #008080; font-weight: bold\">3.</span>8_qbz5n2kfra8p0\\LocalCache\\local-packages\\Python38\\site-packages\\laz <span style=\"color: #7f7f7f; text-decoration-color: #7f7f7f\">               </span>\n",
       "<span style=\"color: #7fbfbf; text-decoration-color: #7fbfbf\">                    </span>         y_loader\\__init__.py:<span style=\"color: #008080; text-decoration-color: #008080; font-weight: bold\">83</span>: KedroDeprecationWarning: <span style=\"color: #008000; text-decoration-color: #008000\">'GeoJSONDataSet'</span> has <span style=\"color: #7f7f7f; text-decoration-color: #7f7f7f\">               </span>\n",
       "<span style=\"color: #7fbfbf; text-decoration-color: #7fbfbf\">                    </span>         been renamed to <span style=\"color: #008000; text-decoration-color: #008000\">'GeoJSONDataset'</span>, and the alias will be removed in     <span style=\"color: #7f7f7f; text-decoration-color: #7f7f7f\">               </span>\n",
       "<span style=\"color: #7fbfbf; text-decoration-color: #7fbfbf\">                    </span>         Kedro-Datasets <span style=\"color: #008080; text-decoration-color: #008080; font-weight: bold\">2.0</span>.<span style=\"color: #008080; text-decoration-color: #008080; font-weight: bold\">0</span>                                                   <span style=\"color: #7f7f7f; text-decoration-color: #7f7f7f\">               </span>\n",
       "<span style=\"color: #7fbfbf; text-decoration-color: #7fbfbf\">                    </span>           attr = <span style=\"color: #800080; text-decoration-color: #800080; font-weight: bold\">getattr</span><span style=\"font-weight: bold\">(</span>submod, name<span style=\"font-weight: bold\">)</span>                                         <span style=\"color: #7f7f7f; text-decoration-color: #7f7f7f\">               </span>\n",
       "<span style=\"color: #7fbfbf; text-decoration-color: #7fbfbf\">                    </span>                                                                                <span style=\"color: #7f7f7f; text-decoration-color: #7f7f7f\">               </span>\n",
       "</pre>\n"
      ],
      "text/plain": [
       "\u001b[2;36m[06/27/24 19:55:13]\u001b[0m\u001b[2;36m \u001b[0m\u001b[31mWARNING \u001b[0m C:\\Users\\carga\\AppData\\Local\\Packages\\PythonSoftwareFoundation.Python. \u001b[2mwarnings.py\u001b[0m\u001b[2m:\u001b[0m\u001b[2m109\u001b[0m\n",
       "\u001b[2;36m                    \u001b[0m         \u001b[1;36m3.\u001b[0m8_qbz5n2kfra8p0\\LocalCache\\local-packages\\Python38\\site-packages\\laz \u001b[2m               \u001b[0m\n",
       "\u001b[2;36m                    \u001b[0m         y_loader\\__init__.py:\u001b[1;36m83\u001b[0m: KedroDeprecationWarning: \u001b[32m'GeoJSONDataSet'\u001b[0m has \u001b[2m               \u001b[0m\n",
       "\u001b[2;36m                    \u001b[0m         been renamed to \u001b[32m'GeoJSONDataset'\u001b[0m, and the alias will be removed in     \u001b[2m               \u001b[0m\n",
       "\u001b[2;36m                    \u001b[0m         Kedro-Datasets \u001b[1;36m2.0\u001b[0m.\u001b[1;36m0\u001b[0m                                                   \u001b[2m               \u001b[0m\n",
       "\u001b[2;36m                    \u001b[0m           attr = \u001b[1;35mgetattr\u001b[0m\u001b[1m(\u001b[0msubmod, name\u001b[1m)\u001b[0m                                         \u001b[2m               \u001b[0m\n",
       "\u001b[2;36m                    \u001b[0m                                                                                \u001b[2m               \u001b[0m\n"
      ]
     },
     "metadata": {},
     "output_type": "display_data"
    },
    {
     "data": {
      "text/html": [
       "<pre style=\"white-space:pre;overflow-x:auto;line-height:normal;font-family:Menlo,'DejaVu Sans Mono',consolas,'Courier New',monospace\"><span style=\"color: #7fbfbf; text-decoration-color: #7fbfbf\">                    </span><span style=\"color: #000080; text-decoration-color: #000080\">INFO    </span> Kedro project montrealfirepredicition                                  <a href=\"file://C:\\Users\\carga\\AppData\\Local\\Packages\\PythonSoftwareFoundation.Python.3.8_qbz5n2kfra8p0\\LocalCache\\local-packages\\Python38\\site-packages\\kedro\\ipython\\__init__.py\" target=\"_blank\"><span style=\"color: #7f7f7f; text-decoration-color: #7f7f7f\">__init__.py</span></a><span style=\"color: #7f7f7f; text-decoration-color: #7f7f7f\">:</span><a href=\"file://C:\\Users\\carga\\AppData\\Local\\Packages\\PythonSoftwareFoundation.Python.3.8_qbz5n2kfra8p0\\LocalCache\\local-packages\\Python38\\site-packages\\kedro\\ipython\\__init__.py#141\" target=\"_blank\"><span style=\"color: #7f7f7f; text-decoration-color: #7f7f7f\">141</span></a>\n",
       "</pre>\n"
      ],
      "text/plain": [
       "\u001b[2;36m                   \u001b[0m\u001b[2;36m \u001b[0m\u001b[34mINFO    \u001b[0m Kedro project montrealfirepredicition                                  \u001b]8;id=234555;file://C:\\Users\\carga\\AppData\\Local\\Packages\\PythonSoftwareFoundation.Python.3.8_qbz5n2kfra8p0\\LocalCache\\local-packages\\Python38\\site-packages\\kedro\\ipython\\__init__.py\u001b\\\u001b[2m__init__.py\u001b[0m\u001b]8;;\u001b\\\u001b[2m:\u001b[0m\u001b]8;id=3070;file://C:\\Users\\carga\\AppData\\Local\\Packages\\PythonSoftwareFoundation.Python.3.8_qbz5n2kfra8p0\\LocalCache\\local-packages\\Python38\\site-packages\\kedro\\ipython\\__init__.py#141\u001b\\\u001b[2m141\u001b[0m\u001b]8;;\u001b\\\n"
      ]
     },
     "metadata": {},
     "output_type": "display_data"
    },
    {
     "data": {
      "text/html": [
       "<pre style=\"white-space:pre;overflow-x:auto;line-height:normal;font-family:Menlo,'DejaVu Sans Mono',consolas,'Courier New',monospace\"><span style=\"color: #7fbfbf; text-decoration-color: #7fbfbf\">                    </span><span style=\"color: #000080; text-decoration-color: #000080\">INFO    </span> Defined global variable <span style=\"color: #008000; text-decoration-color: #008000\">'context'</span>, <span style=\"color: #008000; text-decoration-color: #008000\">'session'</span>, <span style=\"color: #008000; text-decoration-color: #008000\">'catalog'</span> and            <a href=\"file://C:\\Users\\carga\\AppData\\Local\\Packages\\PythonSoftwareFoundation.Python.3.8_qbz5n2kfra8p0\\LocalCache\\local-packages\\Python38\\site-packages\\kedro\\ipython\\__init__.py\" target=\"_blank\"><span style=\"color: #7f7f7f; text-decoration-color: #7f7f7f\">__init__.py</span></a><span style=\"color: #7f7f7f; text-decoration-color: #7f7f7f\">:</span><a href=\"file://C:\\Users\\carga\\AppData\\Local\\Packages\\PythonSoftwareFoundation.Python.3.8_qbz5n2kfra8p0\\LocalCache\\local-packages\\Python38\\site-packages\\kedro\\ipython\\__init__.py#142\" target=\"_blank\"><span style=\"color: #7f7f7f; text-decoration-color: #7f7f7f\">142</span></a>\n",
       "<span style=\"color: #7fbfbf; text-decoration-color: #7fbfbf\">                    </span>         <span style=\"color: #008000; text-decoration-color: #008000\">'pipelines'</span>                                                            <span style=\"color: #7f7f7f; text-decoration-color: #7f7f7f\">               </span>\n",
       "</pre>\n"
      ],
      "text/plain": [
       "\u001b[2;36m                   \u001b[0m\u001b[2;36m \u001b[0m\u001b[34mINFO    \u001b[0m Defined global variable \u001b[32m'context'\u001b[0m, \u001b[32m'session'\u001b[0m, \u001b[32m'catalog'\u001b[0m and            \u001b]8;id=564499;file://C:\\Users\\carga\\AppData\\Local\\Packages\\PythonSoftwareFoundation.Python.3.8_qbz5n2kfra8p0\\LocalCache\\local-packages\\Python38\\site-packages\\kedro\\ipython\\__init__.py\u001b\\\u001b[2m__init__.py\u001b[0m\u001b]8;;\u001b\\\u001b[2m:\u001b[0m\u001b]8;id=551914;file://C:\\Users\\carga\\AppData\\Local\\Packages\\PythonSoftwareFoundation.Python.3.8_qbz5n2kfra8p0\\LocalCache\\local-packages\\Python38\\site-packages\\kedro\\ipython\\__init__.py#142\u001b\\\u001b[2m142\u001b[0m\u001b]8;;\u001b\\\n",
       "\u001b[2;36m                    \u001b[0m         \u001b[32m'pipelines'\u001b[0m                                                            \u001b[2m               \u001b[0m\n"
      ]
     },
     "metadata": {},
     "output_type": "display_data"
    },
    {
     "data": {
      "text/html": [
       "<pre style=\"white-space:pre;overflow-x:auto;line-height:normal;font-family:Menlo,'DejaVu Sans Mono',consolas,'Courier New',monospace\"><span style=\"color: #7fbfbf; text-decoration-color: #7fbfbf\">[06/27/24 19:55:14] </span><span style=\"color: #800000; text-decoration-color: #800000\">WARNING </span> C:\\Users\\carga\\AppData\\Local\\Packages\\PythonSoftwareFoundation.Python. <span style=\"color: #7f7f7f; text-decoration-color: #7f7f7f\">warnings.py:109</span>\n",
       "<span style=\"color: #7fbfbf; text-decoration-color: #7fbfbf\">                    </span>         <span style=\"color: #008080; text-decoration-color: #008080; font-weight: bold\">3.</span>8_qbz5n2kfra8p0\\LocalCache\\local-packages\\Python38\\site-packages\\ked <span style=\"color: #7f7f7f; text-decoration-color: #7f7f7f\">               </span>\n",
       "<span style=\"color: #7fbfbf; text-decoration-color: #7fbfbf\">                    </span>         ro_viz\\models\\flowchart.py:<span style=\"color: #008080; text-decoration-color: #008080; font-weight: bold\">13</span>: KedroDeprecationWarning:                <span style=\"color: #7f7f7f; text-decoration-color: #7f7f7f\">               </span>\n",
       "<span style=\"color: #7fbfbf; text-decoration-color: #7fbfbf\">                    </span>         <span style=\"color: #008000; text-decoration-color: #008000\">'TRANSCODING_SEPARATOR'</span> has been moved to                              <span style=\"color: #7f7f7f; text-decoration-color: #7f7f7f\">               </span>\n",
       "<span style=\"color: #7fbfbf; text-decoration-color: #7fbfbf\">                    </span>         <span style=\"color: #008000; text-decoration-color: #008000\">'kedro.pipeline.transcoding'</span>, and the alias will be removed in Kedro   <span style=\"color: #7f7f7f; text-decoration-color: #7f7f7f\">               </span>\n",
       "<span style=\"color: #7fbfbf; text-decoration-color: #7fbfbf\">                    </span>         <span style=\"color: #008080; text-decoration-color: #008080; font-weight: bold\">0.20</span>.<span style=\"color: #008080; text-decoration-color: #008080; font-weight: bold\">0</span>                                                                 <span style=\"color: #7f7f7f; text-decoration-color: #7f7f7f\">               </span>\n",
       "<span style=\"color: #7fbfbf; text-decoration-color: #7fbfbf\">                    </span>           from kedro.pipeline.pipeline import TRANSCODING_SEPARATOR,           <span style=\"color: #7f7f7f; text-decoration-color: #7f7f7f\">               </span>\n",
       "<span style=\"color: #7fbfbf; text-decoration-color: #7fbfbf\">                    </span>         _strip_transcoding                                                     <span style=\"color: #7f7f7f; text-decoration-color: #7f7f7f\">               </span>\n",
       "<span style=\"color: #7fbfbf; text-decoration-color: #7fbfbf\">                    </span>                                                                                <span style=\"color: #7f7f7f; text-decoration-color: #7f7f7f\">               </span>\n",
       "</pre>\n"
      ],
      "text/plain": [
       "\u001b[2;36m[06/27/24 19:55:14]\u001b[0m\u001b[2;36m \u001b[0m\u001b[31mWARNING \u001b[0m C:\\Users\\carga\\AppData\\Local\\Packages\\PythonSoftwareFoundation.Python. \u001b[2mwarnings.py\u001b[0m\u001b[2m:\u001b[0m\u001b[2m109\u001b[0m\n",
       "\u001b[2;36m                    \u001b[0m         \u001b[1;36m3.\u001b[0m8_qbz5n2kfra8p0\\LocalCache\\local-packages\\Python38\\site-packages\\ked \u001b[2m               \u001b[0m\n",
       "\u001b[2;36m                    \u001b[0m         ro_viz\\models\\flowchart.py:\u001b[1;36m13\u001b[0m: KedroDeprecationWarning:                \u001b[2m               \u001b[0m\n",
       "\u001b[2;36m                    \u001b[0m         \u001b[32m'TRANSCODING_SEPARATOR'\u001b[0m has been moved to                              \u001b[2m               \u001b[0m\n",
       "\u001b[2;36m                    \u001b[0m         \u001b[32m'kedro.pipeline.transcoding'\u001b[0m, and the alias will be removed in Kedro   \u001b[2m               \u001b[0m\n",
       "\u001b[2;36m                    \u001b[0m         \u001b[1;36m0.20\u001b[0m.\u001b[1;36m0\u001b[0m                                                                 \u001b[2m               \u001b[0m\n",
       "\u001b[2;36m                    \u001b[0m           from kedro.pipeline.pipeline import TRANSCODING_SEPARATOR,           \u001b[2m               \u001b[0m\n",
       "\u001b[2;36m                    \u001b[0m         _strip_transcoding                                                     \u001b[2m               \u001b[0m\n",
       "\u001b[2;36m                    \u001b[0m                                                                                \u001b[2m               \u001b[0m\n"
      ]
     },
     "metadata": {},
     "output_type": "display_data"
    },
    {
     "data": {
      "text/html": [
       "<pre style=\"white-space:pre;overflow-x:auto;line-height:normal;font-family:Menlo,'DejaVu Sans Mono',consolas,'Courier New',monospace\"><span style=\"color: #7fbfbf; text-decoration-color: #7fbfbf\">                    </span><span style=\"color: #800000; text-decoration-color: #800000\">WARNING </span> C:\\Users\\carga\\AppData\\Local\\Packages\\PythonSoftwareFoundation.Python. <span style=\"color: #7f7f7f; text-decoration-color: #7f7f7f\">warnings.py:109</span>\n",
       "<span style=\"color: #7fbfbf; text-decoration-color: #7fbfbf\">                    </span>         <span style=\"color: #008080; text-decoration-color: #008080; font-weight: bold\">3.</span>8_qbz5n2kfra8p0\\LocalCache\\local-packages\\Python38\\site-packages\\ked <span style=\"color: #7f7f7f; text-decoration-color: #7f7f7f\">               </span>\n",
       "<span style=\"color: #7fbfbf; text-decoration-color: #7fbfbf\">                    </span>         ro_viz\\data_access\\repositories\\catalog.py:<span style=\"color: #008080; text-decoration-color: #008080; font-weight: bold\">8</span>: KedroDeprecationWarning: <span style=\"color: #7f7f7f; text-decoration-color: #7f7f7f\">               </span>\n",
       "<span style=\"color: #7fbfbf; text-decoration-color: #7fbfbf\">                    </span>         <span style=\"color: #008000; text-decoration-color: #008000\">'TRANSCODING_SEPARATOR'</span> has been moved to                              <span style=\"color: #7f7f7f; text-decoration-color: #7f7f7f\">               </span>\n",
       "<span style=\"color: #7fbfbf; text-decoration-color: #7fbfbf\">                    </span>         <span style=\"color: #008000; text-decoration-color: #008000\">'kedro.pipeline.transcoding'</span>, and the alias will be removed in Kedro   <span style=\"color: #7f7f7f; text-decoration-color: #7f7f7f\">               </span>\n",
       "<span style=\"color: #7fbfbf; text-decoration-color: #7fbfbf\">                    </span>         <span style=\"color: #008080; text-decoration-color: #008080; font-weight: bold\">0.20</span>.<span style=\"color: #008080; text-decoration-color: #008080; font-weight: bold\">0</span>                                                                 <span style=\"color: #7f7f7f; text-decoration-color: #7f7f7f\">               </span>\n",
       "<span style=\"color: #7fbfbf; text-decoration-color: #7fbfbf\">                    </span>           from kedro.pipeline.pipeline import TRANSCODING_SEPARATOR,           <span style=\"color: #7f7f7f; text-decoration-color: #7f7f7f\">               </span>\n",
       "<span style=\"color: #7fbfbf; text-decoration-color: #7fbfbf\">                    </span>         _strip_transcoding                                                     <span style=\"color: #7f7f7f; text-decoration-color: #7f7f7f\">               </span>\n",
       "<span style=\"color: #7fbfbf; text-decoration-color: #7fbfbf\">                    </span>                                                                                <span style=\"color: #7f7f7f; text-decoration-color: #7f7f7f\">               </span>\n",
       "</pre>\n"
      ],
      "text/plain": [
       "\u001b[2;36m                   \u001b[0m\u001b[2;36m \u001b[0m\u001b[31mWARNING \u001b[0m C:\\Users\\carga\\AppData\\Local\\Packages\\PythonSoftwareFoundation.Python. \u001b[2mwarnings.py\u001b[0m\u001b[2m:\u001b[0m\u001b[2m109\u001b[0m\n",
       "\u001b[2;36m                    \u001b[0m         \u001b[1;36m3.\u001b[0m8_qbz5n2kfra8p0\\LocalCache\\local-packages\\Python38\\site-packages\\ked \u001b[2m               \u001b[0m\n",
       "\u001b[2;36m                    \u001b[0m         ro_viz\\data_access\\repositories\\catalog.py:\u001b[1;36m8\u001b[0m: KedroDeprecationWarning: \u001b[2m               \u001b[0m\n",
       "\u001b[2;36m                    \u001b[0m         \u001b[32m'TRANSCODING_SEPARATOR'\u001b[0m has been moved to                              \u001b[2m               \u001b[0m\n",
       "\u001b[2;36m                    \u001b[0m         \u001b[32m'kedro.pipeline.transcoding'\u001b[0m, and the alias will be removed in Kedro   \u001b[2m               \u001b[0m\n",
       "\u001b[2;36m                    \u001b[0m         \u001b[1;36m0.20\u001b[0m.\u001b[1;36m0\u001b[0m                                                                 \u001b[2m               \u001b[0m\n",
       "\u001b[2;36m                    \u001b[0m           from kedro.pipeline.pipeline import TRANSCODING_SEPARATOR,           \u001b[2m               \u001b[0m\n",
       "\u001b[2;36m                    \u001b[0m         _strip_transcoding                                                     \u001b[2m               \u001b[0m\n",
       "\u001b[2;36m                    \u001b[0m                                                                                \u001b[2m               \u001b[0m\n"
      ]
     },
     "metadata": {},
     "output_type": "display_data"
    },
    {
     "data": {
      "text/html": [
       "<pre style=\"white-space:pre;overflow-x:auto;line-height:normal;font-family:Menlo,'DejaVu Sans Mono',consolas,'Courier New',monospace\"><span style=\"color: #7fbfbf; text-decoration-color: #7fbfbf\">[06/27/24 19:55:15] </span><span style=\"color: #000080; text-decoration-color: #000080\">INFO    </span> Registered line magic <span style=\"color: #008000; text-decoration-color: #008000\">'run_viz'</span>                                        <a href=\"file://C:\\Users\\carga\\AppData\\Local\\Packages\\PythonSoftwareFoundation.Python.3.8_qbz5n2kfra8p0\\LocalCache\\local-packages\\Python38\\site-packages\\kedro\\ipython\\__init__.py\" target=\"_blank\"><span style=\"color: #7f7f7f; text-decoration-color: #7f7f7f\">__init__.py</span></a><span style=\"color: #7f7f7f; text-decoration-color: #7f7f7f\">:</span><a href=\"file://C:\\Users\\carga\\AppData\\Local\\Packages\\PythonSoftwareFoundation.Python.3.8_qbz5n2kfra8p0\\LocalCache\\local-packages\\Python38\\site-packages\\kedro\\ipython\\__init__.py#148\" target=\"_blank\"><span style=\"color: #7f7f7f; text-decoration-color: #7f7f7f\">148</span></a>\n",
       "</pre>\n"
      ],
      "text/plain": [
       "\u001b[2;36m[06/27/24 19:55:15]\u001b[0m\u001b[2;36m \u001b[0m\u001b[34mINFO    \u001b[0m Registered line magic \u001b[32m'run_viz'\u001b[0m                                        \u001b]8;id=939476;file://C:\\Users\\carga\\AppData\\Local\\Packages\\PythonSoftwareFoundation.Python.3.8_qbz5n2kfra8p0\\LocalCache\\local-packages\\Python38\\site-packages\\kedro\\ipython\\__init__.py\u001b\\\u001b[2m__init__.py\u001b[0m\u001b]8;;\u001b\\\u001b[2m:\u001b[0m\u001b]8;id=664861;file://C:\\Users\\carga\\AppData\\Local\\Packages\\PythonSoftwareFoundation.Python.3.8_qbz5n2kfra8p0\\LocalCache\\local-packages\\Python38\\site-packages\\kedro\\ipython\\__init__.py#148\u001b\\\u001b[2m148\u001b[0m\u001b]8;;\u001b\\\n"
      ]
     },
     "metadata": {},
     "output_type": "display_data"
    }
   ],
   "source": [
    "%load_ext kedro.ipython"
   ]
  },
  {
   "cell_type": "code",
   "execution_count": 2,
   "metadata": {},
   "outputs": [
    {
     "data": {
      "text/html": [
       "<pre style=\"white-space:pre;overflow-x:auto;line-height:normal;font-family:Menlo,'DejaVu Sans Mono',consolas,'Courier New',monospace\"><span style=\"color: #7fbfbf; text-decoration-color: #7fbfbf\">                    </span><span style=\"color: #000080; text-decoration-color: #000080\">INFO    </span> Loading data from <span style=\"color: #ff8700; text-decoration-color: #ff8700\">spatial_joined_incidents</span> <span style=\"font-weight: bold\">(</span>CSVDataset<span style=\"font-weight: bold\">)</span><span style=\"color: #808000; text-decoration-color: #808000\">...</span>         <a href=\"file://C:\\Users\\carga\\AppData\\Local\\Packages\\PythonSoftwareFoundation.Python.3.8_qbz5n2kfra8p0\\LocalCache\\local-packages\\Python38\\site-packages\\kedro\\io\\data_catalog.py\" target=\"_blank\"><span style=\"color: #7f7f7f; text-decoration-color: #7f7f7f\">data_catalog.py</span></a><span style=\"color: #7f7f7f; text-decoration-color: #7f7f7f\">:</span><a href=\"file://C:\\Users\\carga\\AppData\\Local\\Packages\\PythonSoftwareFoundation.Python.3.8_qbz5n2kfra8p0\\LocalCache\\local-packages\\Python38\\site-packages\\kedro\\io\\data_catalog.py#508\" target=\"_blank\"><span style=\"color: #7f7f7f; text-decoration-color: #7f7f7f\">508</span></a>\n",
       "</pre>\n"
      ],
      "text/plain": [
       "\u001b[2;36m                   \u001b[0m\u001b[2;36m \u001b[0m\u001b[34mINFO    \u001b[0m Loading data from \u001b[38;5;208mspatial_joined_incidents\u001b[0m \u001b[1m(\u001b[0mCSVDataset\u001b[1m)\u001b[0m\u001b[33m...\u001b[0m         \u001b]8;id=652127;file://C:\\Users\\carga\\AppData\\Local\\Packages\\PythonSoftwareFoundation.Python.3.8_qbz5n2kfra8p0\\LocalCache\\local-packages\\Python38\\site-packages\\kedro\\io\\data_catalog.py\u001b\\\u001b[2mdata_catalog.py\u001b[0m\u001b]8;;\u001b\\\u001b[2m:\u001b[0m\u001b]8;id=475339;file://C:\\Users\\carga\\AppData\\Local\\Packages\\PythonSoftwareFoundation.Python.3.8_qbz5n2kfra8p0\\LocalCache\\local-packages\\Python38\\site-packages\\kedro\\io\\data_catalog.py#508\u001b\\\u001b[2m508\u001b[0m\u001b]8;;\u001b\\\n"
      ]
     },
     "metadata": {},
     "output_type": "display_data"
    }
   ],
   "source": [
    "incidents = catalog.load('spatial_joined_incidents')"
   ]
  },
  {
   "cell_type": "code",
   "execution_count": 3,
   "metadata": {},
   "outputs": [
    {
     "data": {
      "text/html": [
       "<pre style=\"white-space:pre;overflow-x:auto;line-height:normal;font-family:Menlo,'DejaVu Sans Mono',consolas,'Courier New',monospace\"></pre>\n"
      ],
      "text/plain": []
     },
     "metadata": {},
     "output_type": "display_data"
    },
    {
     "data": {
      "text/plain": [
       "\n",
       "\u001b[1;35mIndex\u001b[0m\u001b[1m(\u001b[0m\u001b[1m[\u001b[0m\u001b[32m'FIRE_STATION_ID'\u001b[0m, \u001b[32m'CREATION_DATE'\u001b[0m, \u001b[32m'INCIDENT_CATEGORY'\u001b[0m,\n",
       "       \u001b[32m'INCIDENT_TYPE'\u001b[0m, \u001b[32m'LATITUDE'\u001b[0m, \u001b[32m'LONGITUDE'\u001b[0m, \u001b[32m'UNITS_DEPLOYED'\u001b[0m,\n",
       "       \u001b[32m'INCIDENT_ID'\u001b[0m, \u001b[32m'CREATION_TIME'\u001b[0m, \u001b[32m'is_fire'\u001b[0m, \u001b[32m'hour'\u001b[0m, \u001b[32m'time_of_day'\u001b[0m,\n",
       "       \u001b[32m'month'\u001b[0m, \u001b[32m'day_of_week'\u001b[0m, \u001b[32m'index_mesh'\u001b[0m, \u001b[32m'grid_lat'\u001b[0m, \u001b[32m'grid_long'\u001b[0m\u001b[1m]\u001b[0m,\n",
       "      \u001b[33mdtype\u001b[0m=\u001b[32m'object'\u001b[0m\u001b[1m)\u001b[0m"
      ]
     },
     "execution_count": 3,
     "metadata": {},
     "output_type": "execute_result"
    }
   ],
   "source": [
    "incidents.columns"
   ]
  },
  {
   "cell_type": "code",
   "execution_count": 4,
   "metadata": {},
   "outputs": [
    {
     "data": {
      "text/html": [
       "<pre style=\"white-space:pre;overflow-x:auto;line-height:normal;font-family:Menlo,'DejaVu Sans Mono',consolas,'Courier New',monospace\"></pre>\n"
      ],
      "text/plain": []
     },
     "metadata": {},
     "output_type": "display_data"
    },
    {
     "data": {
      "text/html": [
       "<div>\n",
       "<style scoped>\n",
       "    .dataframe tbody tr th:only-of-type {\n",
       "        vertical-align: middle;\n",
       "    }\n",
       "\n",
       "    .dataframe tbody tr th {\n",
       "        vertical-align: top;\n",
       "    }\n",
       "\n",
       "    .dataframe thead th {\n",
       "        text-align: right;\n",
       "    }\n",
       "</style>\n",
       "<table border=\"1\" class=\"dataframe\">\n",
       "  <thead>\n",
       "    <tr style=\"text-align: right;\">\n",
       "      <th></th>\n",
       "      <th>FIRE_STATION_ID</th>\n",
       "      <th>CREATION_DATE</th>\n",
       "      <th>INCIDENT_CATEGORY</th>\n",
       "      <th>INCIDENT_TYPE</th>\n",
       "      <th>LATITUDE</th>\n",
       "      <th>LONGITUDE</th>\n",
       "      <th>UNITS_DEPLOYED</th>\n",
       "      <th>INCIDENT_ID</th>\n",
       "      <th>CREATION_TIME</th>\n",
       "      <th>is_fire</th>\n",
       "      <th>hour</th>\n",
       "      <th>time_of_day</th>\n",
       "      <th>month</th>\n",
       "      <th>day_of_week</th>\n",
       "      <th>index_mesh</th>\n",
       "      <th>grid_lat</th>\n",
       "      <th>grid_long</th>\n",
       "    </tr>\n",
       "  </thead>\n",
       "  <tbody>\n",
       "    <tr>\n",
       "      <th>1910320</th>\n",
       "      <td>57</td>\n",
       "      <td>2005-07-23</td>\n",
       "      <td>Alarmes-incendies</td>\n",
       "      <td>Appel de Cie de détection</td>\n",
       "      <td>45.410296</td>\n",
       "      <td>-73.957339</td>\n",
       "      <td>3</td>\n",
       "      <td>27915</td>\n",
       "      <td>2024-06-27 11:43:27</td>\n",
       "      <td>False</td>\n",
       "      <td>11</td>\n",
       "      <td>morning</td>\n",
       "      <td>6</td>\n",
       "      <td>3</td>\n",
       "      <td>4</td>\n",
       "      <td>45.409687</td>\n",
       "      <td>-73.957982</td>\n",
       "    </tr>\n",
       "    <tr>\n",
       "      <th>1910321</th>\n",
       "      <td>57</td>\n",
       "      <td>2005-12-05</td>\n",
       "      <td>Sans incendie</td>\n",
       "      <td>Inondation</td>\n",
       "      <td>45.411293</td>\n",
       "      <td>-73.958143</td>\n",
       "      <td>3</td>\n",
       "      <td>46674</td>\n",
       "      <td>2024-06-27 09:35:16</td>\n",
       "      <td>False</td>\n",
       "      <td>9</td>\n",
       "      <td>morning</td>\n",
       "      <td>6</td>\n",
       "      <td>3</td>\n",
       "      <td>4</td>\n",
       "      <td>45.409687</td>\n",
       "      <td>-73.957982</td>\n",
       "    </tr>\n",
       "    <tr>\n",
       "      <th>1910322</th>\n",
       "      <td>57</td>\n",
       "      <td>2005-12-15</td>\n",
       "      <td>Sans incendie</td>\n",
       "      <td>Problèmes électriques</td>\n",
       "      <td>45.410296</td>\n",
       "      <td>-73.957339</td>\n",
       "      <td>3</td>\n",
       "      <td>48195</td>\n",
       "      <td>2024-06-27 20:23:58</td>\n",
       "      <td>False</td>\n",
       "      <td>20</td>\n",
       "      <td>evening</td>\n",
       "      <td>6</td>\n",
       "      <td>3</td>\n",
       "      <td>4</td>\n",
       "      <td>45.409687</td>\n",
       "      <td>-73.957982</td>\n",
       "    </tr>\n",
       "    <tr>\n",
       "      <th>1910323</th>\n",
       "      <td>51</td>\n",
       "      <td>2006-02-07</td>\n",
       "      <td>Sans incendie</td>\n",
       "      <td>Problèmes électriques</td>\n",
       "      <td>45.406367</td>\n",
       "      <td>-73.956591</td>\n",
       "      <td>4</td>\n",
       "      <td>54930</td>\n",
       "      <td>2024-06-27 20:39:28</td>\n",
       "      <td>False</td>\n",
       "      <td>20</td>\n",
       "      <td>evening</td>\n",
       "      <td>6</td>\n",
       "      <td>3</td>\n",
       "      <td>4</td>\n",
       "      <td>45.409687</td>\n",
       "      <td>-73.957982</td>\n",
       "    </tr>\n",
       "    <tr>\n",
       "      <th>1910324</th>\n",
       "      <td>51</td>\n",
       "      <td>2006-05-16</td>\n",
       "      <td>Sans incendie</td>\n",
       "      <td>Problèmes électriques</td>\n",
       "      <td>45.406567</td>\n",
       "      <td>-73.956431</td>\n",
       "      <td>1</td>\n",
       "      <td>67318</td>\n",
       "      <td>2024-06-27 20:36:39</td>\n",
       "      <td>False</td>\n",
       "      <td>20</td>\n",
       "      <td>evening</td>\n",
       "      <td>6</td>\n",
       "      <td>3</td>\n",
       "      <td>4</td>\n",
       "      <td>45.409687</td>\n",
       "      <td>-73.957982</td>\n",
       "    </tr>\n",
       "    <tr>\n",
       "      <th>...</th>\n",
       "      <td>...</td>\n",
       "      <td>...</td>\n",
       "      <td>...</td>\n",
       "      <td>...</td>\n",
       "      <td>...</td>\n",
       "      <td>...</td>\n",
       "      <td>...</td>\n",
       "      <td>...</td>\n",
       "      <td>...</td>\n",
       "      <td>...</td>\n",
       "      <td>...</td>\n",
       "      <td>...</td>\n",
       "      <td>...</td>\n",
       "      <td>...</td>\n",
       "      <td>...</td>\n",
       "      <td>...</td>\n",
       "      <td>...</td>\n",
       "    </tr>\n",
       "    <tr>\n",
       "      <th>1910643</th>\n",
       "      <td>51</td>\n",
       "      <td>2018-11-12</td>\n",
       "      <td>Premier répondant</td>\n",
       "      <td>Premier répondant</td>\n",
       "      <td>45.409117</td>\n",
       "      <td>-73.957632</td>\n",
       "      <td>1</td>\n",
       "      <td>1935950</td>\n",
       "      <td>2024-06-27 06:46:19</td>\n",
       "      <td>False</td>\n",
       "      <td>6</td>\n",
       "      <td>morning</td>\n",
       "      <td>6</td>\n",
       "      <td>3</td>\n",
       "      <td>4</td>\n",
       "      <td>45.409687</td>\n",
       "      <td>-73.957982</td>\n",
       "    </tr>\n",
       "    <tr>\n",
       "      <th>1910644</th>\n",
       "      <td>51</td>\n",
       "      <td>2021-11-01</td>\n",
       "      <td>Premier répondant</td>\n",
       "      <td>Premier répondant</td>\n",
       "      <td>45.405429</td>\n",
       "      <td>-73.956797</td>\n",
       "      <td>1</td>\n",
       "      <td>1942737</td>\n",
       "      <td>2024-06-27 09:37:36</td>\n",
       "      <td>False</td>\n",
       "      <td>9</td>\n",
       "      <td>morning</td>\n",
       "      <td>6</td>\n",
       "      <td>3</td>\n",
       "      <td>4</td>\n",
       "      <td>45.409687</td>\n",
       "      <td>-73.957982</td>\n",
       "    </tr>\n",
       "    <tr>\n",
       "      <th>1910645</th>\n",
       "      <td>51</td>\n",
       "      <td>2019-03-05</td>\n",
       "      <td>Premier répondant</td>\n",
       "      <td>Premier répondant</td>\n",
       "      <td>45.406550</td>\n",
       "      <td>-73.956414</td>\n",
       "      <td>1</td>\n",
       "      <td>1946322</td>\n",
       "      <td>2024-06-27 09:53:48</td>\n",
       "      <td>False</td>\n",
       "      <td>9</td>\n",
       "      <td>morning</td>\n",
       "      <td>6</td>\n",
       "      <td>3</td>\n",
       "      <td>4</td>\n",
       "      <td>45.409687</td>\n",
       "      <td>-73.957982</td>\n",
       "    </tr>\n",
       "    <tr>\n",
       "      <th>1910646</th>\n",
       "      <td>51</td>\n",
       "      <td>2020-04-03</td>\n",
       "      <td>Sans incendie</td>\n",
       "      <td>Structure dangereuse</td>\n",
       "      <td>45.409117</td>\n",
       "      <td>-73.957632</td>\n",
       "      <td>1</td>\n",
       "      <td>1948408</td>\n",
       "      <td>2024-06-27 15:51:21</td>\n",
       "      <td>False</td>\n",
       "      <td>15</td>\n",
       "      <td>afternoon</td>\n",
       "      <td>6</td>\n",
       "      <td>3</td>\n",
       "      <td>4</td>\n",
       "      <td>45.409687</td>\n",
       "      <td>-73.957982</td>\n",
       "    </tr>\n",
       "    <tr>\n",
       "      <th>1910647</th>\n",
       "      <td>51</td>\n",
       "      <td>2015-07-20</td>\n",
       "      <td>Sans incendie</td>\n",
       "      <td>Sauv. nautique Zone 5</td>\n",
       "      <td>45.409700</td>\n",
       "      <td>-73.956840</td>\n",
       "      <td>7</td>\n",
       "      <td>1969865</td>\n",
       "      <td>2024-06-27 16:44:31</td>\n",
       "      <td>False</td>\n",
       "      <td>16</td>\n",
       "      <td>afternoon</td>\n",
       "      <td>6</td>\n",
       "      <td>3</td>\n",
       "      <td>4</td>\n",
       "      <td>45.409687</td>\n",
       "      <td>-73.957982</td>\n",
       "    </tr>\n",
       "  </tbody>\n",
       "</table>\n",
       "<p>328 rows × 17 columns</p>\n",
       "</div>"
      ],
      "text/plain": [
       "\n",
       "         FIRE_STATION_ID CREATION_DATE  INCIDENT_CATEGORY  \\\n",
       "\u001b[1;36m1910320\u001b[0m               \u001b[1;36m57\u001b[0m    \u001b[1;36m2005\u001b[0m-\u001b[1;36m07\u001b[0m-\u001b[1;36m23\u001b[0m  Alarmes-incendies   \n",
       "\u001b[1;36m1910321\u001b[0m               \u001b[1;36m57\u001b[0m    \u001b[1;36m2005\u001b[0m-\u001b[1;36m12\u001b[0m-\u001b[1;36m05\u001b[0m      Sans incendie   \n",
       "\u001b[1;36m1910322\u001b[0m               \u001b[1;36m57\u001b[0m    \u001b[1;36m2005\u001b[0m-\u001b[1;36m12\u001b[0m-\u001b[1;36m15\u001b[0m      Sans incendie   \n",
       "\u001b[1;36m1910323\u001b[0m               \u001b[1;36m51\u001b[0m    \u001b[1;36m2006\u001b[0m-\u001b[1;36m02\u001b[0m-\u001b[1;36m07\u001b[0m      Sans incendie   \n",
       "\u001b[1;36m1910324\u001b[0m               \u001b[1;36m51\u001b[0m    \u001b[1;36m2006\u001b[0m-\u001b[1;36m05\u001b[0m-\u001b[1;36m16\u001b[0m      Sans incendie   \n",
       "\u001b[33m...\u001b[0m                  \u001b[33m...\u001b[0m           \u001b[33m...\u001b[0m                \u001b[33m...\u001b[0m   \n",
       "\u001b[1;36m1910643\u001b[0m               \u001b[1;36m51\u001b[0m    \u001b[1;36m2018\u001b[0m-\u001b[1;36m11\u001b[0m-\u001b[1;36m12\u001b[0m  Premier répondant   \n",
       "\u001b[1;36m1910644\u001b[0m               \u001b[1;36m51\u001b[0m    \u001b[1;36m2021\u001b[0m-\u001b[1;36m11\u001b[0m-\u001b[1;36m01\u001b[0m  Premier répondant   \n",
       "\u001b[1;36m1910645\u001b[0m               \u001b[1;36m51\u001b[0m    \u001b[1;36m2019\u001b[0m-\u001b[1;36m03\u001b[0m-\u001b[1;36m05\u001b[0m  Premier répondant   \n",
       "\u001b[1;36m1910646\u001b[0m               \u001b[1;36m51\u001b[0m    \u001b[1;36m2020\u001b[0m-\u001b[1;36m04\u001b[0m-\u001b[1;36m03\u001b[0m      Sans incendie   \n",
       "\u001b[1;36m1910647\u001b[0m               \u001b[1;36m51\u001b[0m    \u001b[1;36m2015\u001b[0m-\u001b[1;36m07\u001b[0m-\u001b[1;36m20\u001b[0m      Sans incendie   \n",
       "\n",
       "                     INCIDENT_TYPE   LATITUDE  LONGITUDE  UNITS_DEPLOYED  \\\n",
       "\u001b[1;36m1910320\u001b[0m  Appel de Cie de détection  \u001b[1;36m45.410296\u001b[0m \u001b[1;36m-73.957339\u001b[0m               \u001b[1;36m3\u001b[0m   \n",
       "\u001b[1;36m1910321\u001b[0m                 Inondation  \u001b[1;36m45.411293\u001b[0m \u001b[1;36m-73.958143\u001b[0m               \u001b[1;36m3\u001b[0m   \n",
       "\u001b[1;36m1910322\u001b[0m      Problèmes électriques  \u001b[1;36m45.410296\u001b[0m \u001b[1;36m-73.957339\u001b[0m               \u001b[1;36m3\u001b[0m   \n",
       "\u001b[1;36m1910323\u001b[0m      Problèmes électriques  \u001b[1;36m45.406367\u001b[0m \u001b[1;36m-73.956591\u001b[0m               \u001b[1;36m4\u001b[0m   \n",
       "\u001b[1;36m1910324\u001b[0m      Problèmes électriques  \u001b[1;36m45.406567\u001b[0m \u001b[1;36m-73.956431\u001b[0m               \u001b[1;36m1\u001b[0m   \n",
       "\u001b[33m...\u001b[0m                            \u001b[33m...\u001b[0m        \u001b[33m...\u001b[0m        \u001b[33m...\u001b[0m             \u001b[33m...\u001b[0m   \n",
       "\u001b[1;36m1910643\u001b[0m          Premier répondant  \u001b[1;36m45.409117\u001b[0m \u001b[1;36m-73.957632\u001b[0m               \u001b[1;36m1\u001b[0m   \n",
       "\u001b[1;36m1910644\u001b[0m          Premier répondant  \u001b[1;36m45.405429\u001b[0m \u001b[1;36m-73.956797\u001b[0m               \u001b[1;36m1\u001b[0m   \n",
       "\u001b[1;36m1910645\u001b[0m          Premier répondant  \u001b[1;36m45.406550\u001b[0m \u001b[1;36m-73.956414\u001b[0m               \u001b[1;36m1\u001b[0m   \n",
       "\u001b[1;36m1910646\u001b[0m       Structure dangereuse  \u001b[1;36m45.409117\u001b[0m \u001b[1;36m-73.957632\u001b[0m               \u001b[1;36m1\u001b[0m   \n",
       "\u001b[1;36m1910647\u001b[0m      Sauv. nautique Zone \u001b[1;36m5\u001b[0m  \u001b[1;36m45.409700\u001b[0m \u001b[1;36m-73.956840\u001b[0m               \u001b[1;36m7\u001b[0m   \n",
       "\n",
       "         INCIDENT_ID        CREATION_TIME  is_fire  hour time_of_day  month  \\\n",
       "\u001b[1;36m1910320\u001b[0m        \u001b[1;36m27915\u001b[0m  \u001b[1;36m2024\u001b[0m-\u001b[1;36m06\u001b[0m-\u001b[1;36m27\u001b[0m \u001b[1;92m11:43:27\u001b[0m    \u001b[3;91mFalse\u001b[0m    \u001b[1;36m11\u001b[0m     morning      \u001b[1;36m6\u001b[0m   \n",
       "\u001b[1;36m1910321\u001b[0m        \u001b[1;36m46674\u001b[0m  \u001b[1;36m2024\u001b[0m-\u001b[1;36m06\u001b[0m-\u001b[1;36m27\u001b[0m \u001b[1;92m09:35:16\u001b[0m    \u001b[3;91mFalse\u001b[0m     \u001b[1;36m9\u001b[0m     morning      \u001b[1;36m6\u001b[0m   \n",
       "\u001b[1;36m1910322\u001b[0m        \u001b[1;36m48195\u001b[0m  \u001b[1;36m2024\u001b[0m-\u001b[1;36m06\u001b[0m-\u001b[1;36m27\u001b[0m \u001b[1;92m20:23:58\u001b[0m    \u001b[3;91mFalse\u001b[0m    \u001b[1;36m20\u001b[0m     evening      \u001b[1;36m6\u001b[0m   \n",
       "\u001b[1;36m1910323\u001b[0m        \u001b[1;36m54930\u001b[0m  \u001b[1;36m2024\u001b[0m-\u001b[1;36m06\u001b[0m-\u001b[1;36m27\u001b[0m \u001b[1;92m20:39:28\u001b[0m    \u001b[3;91mFalse\u001b[0m    \u001b[1;36m20\u001b[0m     evening      \u001b[1;36m6\u001b[0m   \n",
       "\u001b[1;36m1910324\u001b[0m        \u001b[1;36m67318\u001b[0m  \u001b[1;36m2024\u001b[0m-\u001b[1;36m06\u001b[0m-\u001b[1;36m27\u001b[0m \u001b[1;92m20:36:39\u001b[0m    \u001b[3;91mFalse\u001b[0m    \u001b[1;36m20\u001b[0m     evening      \u001b[1;36m6\u001b[0m   \n",
       "\u001b[33m...\u001b[0m              \u001b[33m...\u001b[0m                  \u001b[33m...\u001b[0m      \u001b[33m...\u001b[0m   \u001b[33m...\u001b[0m         \u001b[33m...\u001b[0m    \u001b[33m...\u001b[0m   \n",
       "\u001b[1;36m1910643\u001b[0m      \u001b[1;36m1935950\u001b[0m  \u001b[1;36m2024\u001b[0m-\u001b[1;36m06\u001b[0m-\u001b[1;36m27\u001b[0m \u001b[1;92m06:46:19\u001b[0m    \u001b[3;91mFalse\u001b[0m     \u001b[1;36m6\u001b[0m     morning      \u001b[1;36m6\u001b[0m   \n",
       "\u001b[1;36m1910644\u001b[0m      \u001b[1;36m1942737\u001b[0m  \u001b[1;36m2024\u001b[0m-\u001b[1;36m06\u001b[0m-\u001b[1;36m27\u001b[0m \u001b[1;92m09:37:36\u001b[0m    \u001b[3;91mFalse\u001b[0m     \u001b[1;36m9\u001b[0m     morning      \u001b[1;36m6\u001b[0m   \n",
       "\u001b[1;36m1910645\u001b[0m      \u001b[1;36m1946322\u001b[0m  \u001b[1;36m2024\u001b[0m-\u001b[1;36m06\u001b[0m-\u001b[1;36m27\u001b[0m \u001b[1;92m09:53:48\u001b[0m    \u001b[3;91mFalse\u001b[0m     \u001b[1;36m9\u001b[0m     morning      \u001b[1;36m6\u001b[0m   \n",
       "\u001b[1;36m1910646\u001b[0m      \u001b[1;36m1948408\u001b[0m  \u001b[1;36m2024\u001b[0m-\u001b[1;36m06\u001b[0m-\u001b[1;36m27\u001b[0m \u001b[1;92m15:51:21\u001b[0m    \u001b[3;91mFalse\u001b[0m    \u001b[1;36m15\u001b[0m   afternoon      \u001b[1;36m6\u001b[0m   \n",
       "\u001b[1;36m1910647\u001b[0m      \u001b[1;36m1969865\u001b[0m  \u001b[1;36m2024\u001b[0m-\u001b[1;36m06\u001b[0m-\u001b[1;36m27\u001b[0m \u001b[1;92m16:44:31\u001b[0m    \u001b[3;91mFalse\u001b[0m    \u001b[1;36m16\u001b[0m   afternoon      \u001b[1;36m6\u001b[0m   \n",
       "\n",
       "         day_of_week  index_mesh   grid_lat  grid_long  \n",
       "\u001b[1;36m1910320\u001b[0m            \u001b[1;36m3\u001b[0m           \u001b[1;36m4\u001b[0m  \u001b[1;36m45.409687\u001b[0m \u001b[1;36m-73.957982\u001b[0m  \n",
       "\u001b[1;36m1910321\u001b[0m            \u001b[1;36m3\u001b[0m           \u001b[1;36m4\u001b[0m  \u001b[1;36m45.409687\u001b[0m \u001b[1;36m-73.957982\u001b[0m  \n",
       "\u001b[1;36m1910322\u001b[0m            \u001b[1;36m3\u001b[0m           \u001b[1;36m4\u001b[0m  \u001b[1;36m45.409687\u001b[0m \u001b[1;36m-73.957982\u001b[0m  \n",
       "\u001b[1;36m1910323\u001b[0m            \u001b[1;36m3\u001b[0m           \u001b[1;36m4\u001b[0m  \u001b[1;36m45.409687\u001b[0m \u001b[1;36m-73.957982\u001b[0m  \n",
       "\u001b[1;36m1910324\u001b[0m            \u001b[1;36m3\u001b[0m           \u001b[1;36m4\u001b[0m  \u001b[1;36m45.409687\u001b[0m \u001b[1;36m-73.957982\u001b[0m  \n",
       "\u001b[33m...\u001b[0m              \u001b[33m...\u001b[0m         \u001b[33m...\u001b[0m        \u001b[33m...\u001b[0m        \u001b[33m...\u001b[0m  \n",
       "\u001b[1;36m1910643\u001b[0m            \u001b[1;36m3\u001b[0m           \u001b[1;36m4\u001b[0m  \u001b[1;36m45.409687\u001b[0m \u001b[1;36m-73.957982\u001b[0m  \n",
       "\u001b[1;36m1910644\u001b[0m            \u001b[1;36m3\u001b[0m           \u001b[1;36m4\u001b[0m  \u001b[1;36m45.409687\u001b[0m \u001b[1;36m-73.957982\u001b[0m  \n",
       "\u001b[1;36m1910645\u001b[0m            \u001b[1;36m3\u001b[0m           \u001b[1;36m4\u001b[0m  \u001b[1;36m45.409687\u001b[0m \u001b[1;36m-73.957982\u001b[0m  \n",
       "\u001b[1;36m1910646\u001b[0m            \u001b[1;36m3\u001b[0m           \u001b[1;36m4\u001b[0m  \u001b[1;36m45.409687\u001b[0m \u001b[1;36m-73.957982\u001b[0m  \n",
       "\u001b[1;36m1910647\u001b[0m            \u001b[1;36m3\u001b[0m           \u001b[1;36m4\u001b[0m  \u001b[1;36m45.409687\u001b[0m \u001b[1;36m-73.957982\u001b[0m  \n",
       "\n",
       "\u001b[1m[\u001b[0m\u001b[1;36m328\u001b[0m rows x \u001b[1;36m17\u001b[0m columns\u001b[1m]\u001b[0m"
      ]
     },
     "execution_count": 4,
     "metadata": {},
     "output_type": "execute_result"
    }
   ],
   "source": [
    "incidents[incidents['index_mesh']==4]"
   ]
  },
  {
   "cell_type": "code",
   "execution_count": 9,
   "metadata": {},
   "outputs": [
    {
     "data": {
      "text/html": [
       "<pre style=\"white-space:pre;overflow-x:auto;line-height:normal;font-family:Menlo,'DejaVu Sans Mono',consolas,'Courier New',monospace\"><span style=\"color: #7fbfbf; text-decoration-color: #7fbfbf\">[06/27/24 19:37:58] </span><span style=\"color: #000080; text-decoration-color: #000080\">INFO    </span> Loading data from <span style=\"color: #ff8700; text-decoration-color: #ff8700\">square_mesh</span> <span style=\"font-weight: bold\">(</span>GeoJSONDataset<span style=\"font-weight: bold\">)</span><span style=\"color: #808000; text-decoration-color: #808000\">...</span>                  <a href=\"file://C:\\Users\\carga\\AppData\\Local\\Packages\\PythonSoftwareFoundation.Python.3.8_qbz5n2kfra8p0\\LocalCache\\local-packages\\Python38\\site-packages\\kedro\\io\\data_catalog.py\" target=\"_blank\"><span style=\"color: #7f7f7f; text-decoration-color: #7f7f7f\">data_catalog.py</span></a><span style=\"color: #7f7f7f; text-decoration-color: #7f7f7f\">:</span><a href=\"file://C:\\Users\\carga\\AppData\\Local\\Packages\\PythonSoftwareFoundation.Python.3.8_qbz5n2kfra8p0\\LocalCache\\local-packages\\Python38\\site-packages\\kedro\\io\\data_catalog.py#508\" target=\"_blank\"><span style=\"color: #7f7f7f; text-decoration-color: #7f7f7f\">508</span></a>\n",
       "</pre>\n"
      ],
      "text/plain": [
       "\u001b[2;36m[06/27/24 19:37:58]\u001b[0m\u001b[2;36m \u001b[0m\u001b[34mINFO    \u001b[0m Loading data from \u001b[38;5;208msquare_mesh\u001b[0m \u001b[1m(\u001b[0mGeoJSONDataset\u001b[1m)\u001b[0m\u001b[33m...\u001b[0m                  \u001b]8;id=17343;file://C:\\Users\\carga\\AppData\\Local\\Packages\\PythonSoftwareFoundation.Python.3.8_qbz5n2kfra8p0\\LocalCache\\local-packages\\Python38\\site-packages\\kedro\\io\\data_catalog.py\u001b\\\u001b[2mdata_catalog.py\u001b[0m\u001b]8;;\u001b\\\u001b[2m:\u001b[0m\u001b]8;id=839602;file://C:\\Users\\carga\\AppData\\Local\\Packages\\PythonSoftwareFoundation.Python.3.8_qbz5n2kfra8p0\\LocalCache\\local-packages\\Python38\\site-packages\\kedro\\io\\data_catalog.py#508\u001b\\\u001b[2m508\u001b[0m\u001b]8;;\u001b\\\n"
      ]
     },
     "metadata": {},
     "output_type": "display_data"
    }
   ],
   "source": [
    "mesh = catalog.load('square_mesh')"
   ]
  }
 ],
 "metadata": {
  "kernelspec": {
   "display_name": "Python 3",
   "language": "python",
   "name": "python3"
  },
  "language_info": {
   "codemirror_mode": {
    "name": "ipython",
    "version": 3
   },
   "file_extension": ".py",
   "mimetype": "text/x-python",
   "name": "python",
   "nbconvert_exporter": "python",
   "pygments_lexer": "ipython3",
   "version": "3.8.10"
  }
 },
 "nbformat": 4,
 "nbformat_minor": 2
}
