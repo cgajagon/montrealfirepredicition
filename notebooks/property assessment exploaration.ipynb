{
 "cells": [
  {
   "cell_type": "code",
   "execution_count": 1,
   "metadata": {},
   "outputs": [],
   "source": [
    "import geopandas as gpd\n",
    "from pyproj import Transformer\n",
    "from shapely.ops import transform\n",
    "import matplotlib.pyplot as plt\n",
    "import contextily as ctx\n",
    "import pandas as pd"
   ]
  },
  {
   "cell_type": "code",
   "execution_count": 2,
   "metadata": {},
   "outputs": [
    {
     "data": {
      "text/html": [
       "<pre style=\"white-space:pre;overflow-x:auto;line-height:normal;font-family:Menlo,'DejaVu Sans Mono',consolas,'Courier New',monospace\"><span style=\"color: #7fbfbf; text-decoration-color: #7fbfbf\">[07/08/24 16:04:10] </span><span style=\"color: #000080; text-decoration-color: #000080\">INFO    </span> Registered line magic <span style=\"color: #008000; text-decoration-color: #008000\">'%reload_kedro'</span>                                   <a href=\"file://C:\\Users\\carga\\AppData\\Local\\Packages\\PythonSoftwareFoundation.Python.3.8_qbz5n2kfra8p0\\LocalCache\\local-packages\\Python38\\site-packages\\kedro\\ipython\\__init__.py\" target=\"_blank\"><span style=\"color: #7f7f7f; text-decoration-color: #7f7f7f\">__init__.py</span></a><span style=\"color: #7f7f7f; text-decoration-color: #7f7f7f\">:</span><a href=\"file://C:\\Users\\carga\\AppData\\Local\\Packages\\PythonSoftwareFoundation.Python.3.8_qbz5n2kfra8p0\\LocalCache\\local-packages\\Python38\\site-packages\\kedro\\ipython\\__init__.py#58\" target=\"_blank\"><span style=\"color: #7f7f7f; text-decoration-color: #7f7f7f\">58</span></a>\n",
       "</pre>\n"
      ],
      "text/plain": [
       "\u001b[2;36m[07/08/24 16:04:10]\u001b[0m\u001b[2;36m \u001b[0m\u001b[34mINFO    \u001b[0m Registered line magic \u001b[32m'%reload_kedro'\u001b[0m                                   \u001b]8;id=852883;file://C:\\Users\\carga\\AppData\\Local\\Packages\\PythonSoftwareFoundation.Python.3.8_qbz5n2kfra8p0\\LocalCache\\local-packages\\Python38\\site-packages\\kedro\\ipython\\__init__.py\u001b\\\u001b[2m__init__.py\u001b[0m\u001b]8;;\u001b\\\u001b[2m:\u001b[0m\u001b]8;id=532655;file://C:\\Users\\carga\\AppData\\Local\\Packages\\PythonSoftwareFoundation.Python.3.8_qbz5n2kfra8p0\\LocalCache\\local-packages\\Python38\\site-packages\\kedro\\ipython\\__init__.py#58\u001b\\\u001b[2m58\u001b[0m\u001b]8;;\u001b\\\n"
      ]
     },
     "metadata": {},
     "output_type": "display_data"
    },
    {
     "data": {
      "text/html": [
       "<pre style=\"white-space:pre;overflow-x:auto;line-height:normal;font-family:Menlo,'DejaVu Sans Mono',consolas,'Courier New',monospace\"><span style=\"color: #7fbfbf; text-decoration-color: #7fbfbf\">                    </span><span style=\"color: #000080; text-decoration-color: #000080\">INFO    </span> Registered line magic <span style=\"color: #008000; text-decoration-color: #008000\">'%load_node'</span>                                      <a href=\"file://C:\\Users\\carga\\AppData\\Local\\Packages\\PythonSoftwareFoundation.Python.3.8_qbz5n2kfra8p0\\LocalCache\\local-packages\\Python38\\site-packages\\kedro\\ipython\\__init__.py\" target=\"_blank\"><span style=\"color: #7f7f7f; text-decoration-color: #7f7f7f\">__init__.py</span></a><span style=\"color: #7f7f7f; text-decoration-color: #7f7f7f\">:</span><a href=\"file://C:\\Users\\carga\\AppData\\Local\\Packages\\PythonSoftwareFoundation.Python.3.8_qbz5n2kfra8p0\\LocalCache\\local-packages\\Python38\\site-packages\\kedro\\ipython\\__init__.py#60\" target=\"_blank\"><span style=\"color: #7f7f7f; text-decoration-color: #7f7f7f\">60</span></a>\n",
       "</pre>\n"
      ],
      "text/plain": [
       "\u001b[2;36m                   \u001b[0m\u001b[2;36m \u001b[0m\u001b[34mINFO    \u001b[0m Registered line magic \u001b[32m'%load_node'\u001b[0m                                      \u001b]8;id=694711;file://C:\\Users\\carga\\AppData\\Local\\Packages\\PythonSoftwareFoundation.Python.3.8_qbz5n2kfra8p0\\LocalCache\\local-packages\\Python38\\site-packages\\kedro\\ipython\\__init__.py\u001b\\\u001b[2m__init__.py\u001b[0m\u001b]8;;\u001b\\\u001b[2m:\u001b[0m\u001b]8;id=120650;file://C:\\Users\\carga\\AppData\\Local\\Packages\\PythonSoftwareFoundation.Python.3.8_qbz5n2kfra8p0\\LocalCache\\local-packages\\Python38\\site-packages\\kedro\\ipython\\__init__.py#60\u001b\\\u001b[2m60\u001b[0m\u001b]8;;\u001b\\\n"
      ]
     },
     "metadata": {},
     "output_type": "display_data"
    },
    {
     "data": {
      "text/html": [
       "<pre style=\"white-space:pre;overflow-x:auto;line-height:normal;font-family:Menlo,'DejaVu Sans Mono',consolas,'Courier New',monospace\"><span style=\"color: #7fbfbf; text-decoration-color: #7fbfbf\">                    </span><span style=\"color: #000080; text-decoration-color: #000080\">INFO    </span> Resolved project path as:                                              <a href=\"file://C:\\Users\\carga\\AppData\\Local\\Packages\\PythonSoftwareFoundation.Python.3.8_qbz5n2kfra8p0\\LocalCache\\local-packages\\Python38\\site-packages\\kedro\\ipython\\__init__.py\" target=\"_blank\"><span style=\"color: #7f7f7f; text-decoration-color: #7f7f7f\">__init__.py</span></a><span style=\"color: #7f7f7f; text-decoration-color: #7f7f7f\">:</span><a href=\"file://C:\\Users\\carga\\AppData\\Local\\Packages\\PythonSoftwareFoundation.Python.3.8_qbz5n2kfra8p0\\LocalCache\\local-packages\\Python38\\site-packages\\kedro\\ipython\\__init__.py#171\" target=\"_blank\"><span style=\"color: #7f7f7f; text-decoration-color: #7f7f7f\">171</span></a>\n",
       "<span style=\"color: #7fbfbf; text-decoration-color: #7fbfbf\">                    </span>         c:\\Users\\carga\\Documents\\KedroTutorial\\montrealfirepredicition.        <span style=\"color: #7f7f7f; text-decoration-color: #7f7f7f\">               </span>\n",
       "<span style=\"color: #7fbfbf; text-decoration-color: #7fbfbf\">                    </span>         To set a different path, run <span style=\"color: #008000; text-decoration-color: #008000\">'%reload_kedro &lt;project_root&gt;'</span>            <span style=\"color: #7f7f7f; text-decoration-color: #7f7f7f\">               </span>\n",
       "</pre>\n"
      ],
      "text/plain": [
       "\u001b[2;36m                   \u001b[0m\u001b[2;36m \u001b[0m\u001b[34mINFO    \u001b[0m Resolved project path as:                                              \u001b]8;id=480400;file://C:\\Users\\carga\\AppData\\Local\\Packages\\PythonSoftwareFoundation.Python.3.8_qbz5n2kfra8p0\\LocalCache\\local-packages\\Python38\\site-packages\\kedro\\ipython\\__init__.py\u001b\\\u001b[2m__init__.py\u001b[0m\u001b]8;;\u001b\\\u001b[2m:\u001b[0m\u001b]8;id=64732;file://C:\\Users\\carga\\AppData\\Local\\Packages\\PythonSoftwareFoundation.Python.3.8_qbz5n2kfra8p0\\LocalCache\\local-packages\\Python38\\site-packages\\kedro\\ipython\\__init__.py#171\u001b\\\u001b[2m171\u001b[0m\u001b]8;;\u001b\\\n",
       "\u001b[2;36m                    \u001b[0m         c:\\Users\\carga\\Documents\\KedroTutorial\\montrealfirepredicition.        \u001b[2m               \u001b[0m\n",
       "\u001b[2;36m                    \u001b[0m         To set a different path, run \u001b[32m'%reload_kedro \u001b[0m\u001b[32m<\u001b[0m\u001b[32mproject_root\u001b[0m\u001b[32m>\u001b[0m\u001b[32m'\u001b[0m            \u001b[2m               \u001b[0m\n"
      ]
     },
     "metadata": {},
     "output_type": "display_data"
    },
    {
     "data": {
      "text/html": [
       "<pre style=\"white-space:pre;overflow-x:auto;line-height:normal;font-family:Menlo,'DejaVu Sans Mono',consolas,'Courier New',monospace\"><span style=\"color: #7fbfbf; text-decoration-color: #7fbfbf\">[07/08/24 16:04:13] </span><span style=\"color: #800000; text-decoration-color: #800000\">WARNING </span> C:\\Users\\carga\\AppData\\Local\\Packages\\PythonSoftwareFoundation.Python. <span style=\"color: #7f7f7f; text-decoration-color: #7f7f7f\">warnings.py:109</span>\n",
       "<span style=\"color: #7fbfbf; text-decoration-color: #7fbfbf\">                    </span>         <span style=\"color: #008080; text-decoration-color: #008080; font-weight: bold\">3.</span>8_qbz5n2kfra8p0\\LocalCache\\local-packages\\Python38\\site-packages\\ked <span style=\"color: #7f7f7f; text-decoration-color: #7f7f7f\">               </span>\n",
       "<span style=\"color: #7fbfbf; text-decoration-color: #7fbfbf\">                    </span>         ro_viz\\integrations\\kedro\\hooks.py:<span style=\"color: #008080; text-decoration-color: #008080; font-weight: bold\">13</span>: KedroDeprecationWarning:        <span style=\"color: #7f7f7f; text-decoration-color: #7f7f7f\">               </span>\n",
       "<span style=\"color: #7fbfbf; text-decoration-color: #7fbfbf\">                    </span>         <span style=\"color: #008000; text-decoration-color: #008000\">'TRANSCODING_SEPARATOR'</span> has been moved to                              <span style=\"color: #7f7f7f; text-decoration-color: #7f7f7f\">               </span>\n",
       "<span style=\"color: #7fbfbf; text-decoration-color: #7fbfbf\">                    </span>         <span style=\"color: #008000; text-decoration-color: #008000\">'kedro.pipeline.transcoding'</span>, and the alias will be removed in Kedro   <span style=\"color: #7f7f7f; text-decoration-color: #7f7f7f\">               </span>\n",
       "<span style=\"color: #7fbfbf; text-decoration-color: #7fbfbf\">                    </span>         <span style=\"color: #008080; text-decoration-color: #008080; font-weight: bold\">0.20</span>.<span style=\"color: #008080; text-decoration-color: #008080; font-weight: bold\">0</span>                                                                 <span style=\"color: #7f7f7f; text-decoration-color: #7f7f7f\">               </span>\n",
       "<span style=\"color: #7fbfbf; text-decoration-color: #7fbfbf\">                    </span>           from kedro.pipeline.pipeline import TRANSCODING_SEPARATOR,           <span style=\"color: #7f7f7f; text-decoration-color: #7f7f7f\">               </span>\n",
       "<span style=\"color: #7fbfbf; text-decoration-color: #7fbfbf\">                    </span>         _strip_transcoding                                                     <span style=\"color: #7f7f7f; text-decoration-color: #7f7f7f\">               </span>\n",
       "<span style=\"color: #7fbfbf; text-decoration-color: #7fbfbf\">                    </span>                                                                                <span style=\"color: #7f7f7f; text-decoration-color: #7f7f7f\">               </span>\n",
       "</pre>\n"
      ],
      "text/plain": [
       "\u001b[2;36m[07/08/24 16:04:13]\u001b[0m\u001b[2;36m \u001b[0m\u001b[31mWARNING \u001b[0m C:\\Users\\carga\\AppData\\Local\\Packages\\PythonSoftwareFoundation.Python. \u001b[2mwarnings.py\u001b[0m\u001b[2m:\u001b[0m\u001b[2m109\u001b[0m\n",
       "\u001b[2;36m                    \u001b[0m         \u001b[1;36m3.\u001b[0m8_qbz5n2kfra8p0\\LocalCache\\local-packages\\Python38\\site-packages\\ked \u001b[2m               \u001b[0m\n",
       "\u001b[2;36m                    \u001b[0m         ro_viz\\integrations\\kedro\\hooks.py:\u001b[1;36m13\u001b[0m: KedroDeprecationWarning:        \u001b[2m               \u001b[0m\n",
       "\u001b[2;36m                    \u001b[0m         \u001b[32m'TRANSCODING_SEPARATOR'\u001b[0m has been moved to                              \u001b[2m               \u001b[0m\n",
       "\u001b[2;36m                    \u001b[0m         \u001b[32m'kedro.pipeline.transcoding'\u001b[0m, and the alias will be removed in Kedro   \u001b[2m               \u001b[0m\n",
       "\u001b[2;36m                    \u001b[0m         \u001b[1;36m0.20\u001b[0m.\u001b[1;36m0\u001b[0m                                                                 \u001b[2m               \u001b[0m\n",
       "\u001b[2;36m                    \u001b[0m           from kedro.pipeline.pipeline import TRANSCODING_SEPARATOR,           \u001b[2m               \u001b[0m\n",
       "\u001b[2;36m                    \u001b[0m         _strip_transcoding                                                     \u001b[2m               \u001b[0m\n",
       "\u001b[2;36m                    \u001b[0m                                                                                \u001b[2m               \u001b[0m\n"
      ]
     },
     "metadata": {},
     "output_type": "display_data"
    },
    {
     "data": {
      "text/html": [
       "<pre style=\"white-space:pre;overflow-x:auto;line-height:normal;font-family:Menlo,'DejaVu Sans Mono',consolas,'Courier New',monospace\"><span style=\"color: #7fbfbf; text-decoration-color: #7fbfbf\">[07/08/24 16:04:14] </span><span style=\"color: #800000; text-decoration-color: #800000\">WARNING </span> C:\\Users\\carga\\AppData\\Local\\Packages\\PythonSoftwareFoundation.Python. <span style=\"color: #7f7f7f; text-decoration-color: #7f7f7f\">warnings.py:109</span>\n",
       "<span style=\"color: #7fbfbf; text-decoration-color: #7fbfbf\">                    </span>         <span style=\"color: #008080; text-decoration-color: #008080; font-weight: bold\">3.</span>8_qbz5n2kfra8p0\\LocalCache\\local-packages\\Python38\\site-packages\\laz <span style=\"color: #7f7f7f; text-decoration-color: #7f7f7f\">               </span>\n",
       "<span style=\"color: #7fbfbf; text-decoration-color: #7fbfbf\">                    </span>         y_loader\\__init__.py:<span style=\"color: #008080; text-decoration-color: #008080; font-weight: bold\">83</span>: KedroDeprecationWarning: <span style=\"color: #008000; text-decoration-color: #008000\">'GeoJSONDataSet'</span> has <span style=\"color: #7f7f7f; text-decoration-color: #7f7f7f\">               </span>\n",
       "<span style=\"color: #7fbfbf; text-decoration-color: #7fbfbf\">                    </span>         been renamed to <span style=\"color: #008000; text-decoration-color: #008000\">'GeoJSONDataset'</span>, and the alias will be removed in     <span style=\"color: #7f7f7f; text-decoration-color: #7f7f7f\">               </span>\n",
       "<span style=\"color: #7fbfbf; text-decoration-color: #7fbfbf\">                    </span>         Kedro-Datasets <span style=\"color: #008080; text-decoration-color: #008080; font-weight: bold\">2.0</span>.<span style=\"color: #008080; text-decoration-color: #008080; font-weight: bold\">0</span>                                                   <span style=\"color: #7f7f7f; text-decoration-color: #7f7f7f\">               </span>\n",
       "<span style=\"color: #7fbfbf; text-decoration-color: #7fbfbf\">                    </span>           attr = <span style=\"color: #800080; text-decoration-color: #800080; font-weight: bold\">getattr</span><span style=\"font-weight: bold\">(</span>submod, name<span style=\"font-weight: bold\">)</span>                                         <span style=\"color: #7f7f7f; text-decoration-color: #7f7f7f\">               </span>\n",
       "<span style=\"color: #7fbfbf; text-decoration-color: #7fbfbf\">                    </span>                                                                                <span style=\"color: #7f7f7f; text-decoration-color: #7f7f7f\">               </span>\n",
       "</pre>\n"
      ],
      "text/plain": [
       "\u001b[2;36m[07/08/24 16:04:14]\u001b[0m\u001b[2;36m \u001b[0m\u001b[31mWARNING \u001b[0m C:\\Users\\carga\\AppData\\Local\\Packages\\PythonSoftwareFoundation.Python. \u001b[2mwarnings.py\u001b[0m\u001b[2m:\u001b[0m\u001b[2m109\u001b[0m\n",
       "\u001b[2;36m                    \u001b[0m         \u001b[1;36m3.\u001b[0m8_qbz5n2kfra8p0\\LocalCache\\local-packages\\Python38\\site-packages\\laz \u001b[2m               \u001b[0m\n",
       "\u001b[2;36m                    \u001b[0m         y_loader\\__init__.py:\u001b[1;36m83\u001b[0m: KedroDeprecationWarning: \u001b[32m'GeoJSONDataSet'\u001b[0m has \u001b[2m               \u001b[0m\n",
       "\u001b[2;36m                    \u001b[0m         been renamed to \u001b[32m'GeoJSONDataset'\u001b[0m, and the alias will be removed in     \u001b[2m               \u001b[0m\n",
       "\u001b[2;36m                    \u001b[0m         Kedro-Datasets \u001b[1;36m2.0\u001b[0m.\u001b[1;36m0\u001b[0m                                                   \u001b[2m               \u001b[0m\n",
       "\u001b[2;36m                    \u001b[0m           attr = \u001b[1;35mgetattr\u001b[0m\u001b[1m(\u001b[0msubmod, name\u001b[1m)\u001b[0m                                         \u001b[2m               \u001b[0m\n",
       "\u001b[2;36m                    \u001b[0m                                                                                \u001b[2m               \u001b[0m\n"
      ]
     },
     "metadata": {},
     "output_type": "display_data"
    },
    {
     "data": {
      "text/html": [
       "<pre style=\"white-space:pre;overflow-x:auto;line-height:normal;font-family:Menlo,'DejaVu Sans Mono',consolas,'Courier New',monospace\"><span style=\"color: #7fbfbf; text-decoration-color: #7fbfbf\">                    </span><span style=\"color: #000080; text-decoration-color: #000080\">INFO    </span> Kedro project montrealfirepredicition                                  <a href=\"file://C:\\Users\\carga\\AppData\\Local\\Packages\\PythonSoftwareFoundation.Python.3.8_qbz5n2kfra8p0\\LocalCache\\local-packages\\Python38\\site-packages\\kedro\\ipython\\__init__.py\" target=\"_blank\"><span style=\"color: #7f7f7f; text-decoration-color: #7f7f7f\">__init__.py</span></a><span style=\"color: #7f7f7f; text-decoration-color: #7f7f7f\">:</span><a href=\"file://C:\\Users\\carga\\AppData\\Local\\Packages\\PythonSoftwareFoundation.Python.3.8_qbz5n2kfra8p0\\LocalCache\\local-packages\\Python38\\site-packages\\kedro\\ipython\\__init__.py#141\" target=\"_blank\"><span style=\"color: #7f7f7f; text-decoration-color: #7f7f7f\">141</span></a>\n",
       "</pre>\n"
      ],
      "text/plain": [
       "\u001b[2;36m                   \u001b[0m\u001b[2;36m \u001b[0m\u001b[34mINFO    \u001b[0m Kedro project montrealfirepredicition                                  \u001b]8;id=513445;file://C:\\Users\\carga\\AppData\\Local\\Packages\\PythonSoftwareFoundation.Python.3.8_qbz5n2kfra8p0\\LocalCache\\local-packages\\Python38\\site-packages\\kedro\\ipython\\__init__.py\u001b\\\u001b[2m__init__.py\u001b[0m\u001b]8;;\u001b\\\u001b[2m:\u001b[0m\u001b]8;id=557577;file://C:\\Users\\carga\\AppData\\Local\\Packages\\PythonSoftwareFoundation.Python.3.8_qbz5n2kfra8p0\\LocalCache\\local-packages\\Python38\\site-packages\\kedro\\ipython\\__init__.py#141\u001b\\\u001b[2m141\u001b[0m\u001b]8;;\u001b\\\n"
      ]
     },
     "metadata": {},
     "output_type": "display_data"
    },
    {
     "data": {
      "text/html": [
       "<pre style=\"white-space:pre;overflow-x:auto;line-height:normal;font-family:Menlo,'DejaVu Sans Mono',consolas,'Courier New',monospace\"><span style=\"color: #7fbfbf; text-decoration-color: #7fbfbf\">                    </span><span style=\"color: #000080; text-decoration-color: #000080\">INFO    </span> Defined global variable <span style=\"color: #008000; text-decoration-color: #008000\">'context'</span>, <span style=\"color: #008000; text-decoration-color: #008000\">'session'</span>, <span style=\"color: #008000; text-decoration-color: #008000\">'catalog'</span> and            <a href=\"file://C:\\Users\\carga\\AppData\\Local\\Packages\\PythonSoftwareFoundation.Python.3.8_qbz5n2kfra8p0\\LocalCache\\local-packages\\Python38\\site-packages\\kedro\\ipython\\__init__.py\" target=\"_blank\"><span style=\"color: #7f7f7f; text-decoration-color: #7f7f7f\">__init__.py</span></a><span style=\"color: #7f7f7f; text-decoration-color: #7f7f7f\">:</span><a href=\"file://C:\\Users\\carga\\AppData\\Local\\Packages\\PythonSoftwareFoundation.Python.3.8_qbz5n2kfra8p0\\LocalCache\\local-packages\\Python38\\site-packages\\kedro\\ipython\\__init__.py#142\" target=\"_blank\"><span style=\"color: #7f7f7f; text-decoration-color: #7f7f7f\">142</span></a>\n",
       "<span style=\"color: #7fbfbf; text-decoration-color: #7fbfbf\">                    </span>         <span style=\"color: #008000; text-decoration-color: #008000\">'pipelines'</span>                                                            <span style=\"color: #7f7f7f; text-decoration-color: #7f7f7f\">               </span>\n",
       "</pre>\n"
      ],
      "text/plain": [
       "\u001b[2;36m                   \u001b[0m\u001b[2;36m \u001b[0m\u001b[34mINFO    \u001b[0m Defined global variable \u001b[32m'context'\u001b[0m, \u001b[32m'session'\u001b[0m, \u001b[32m'catalog'\u001b[0m and            \u001b]8;id=717636;file://C:\\Users\\carga\\AppData\\Local\\Packages\\PythonSoftwareFoundation.Python.3.8_qbz5n2kfra8p0\\LocalCache\\local-packages\\Python38\\site-packages\\kedro\\ipython\\__init__.py\u001b\\\u001b[2m__init__.py\u001b[0m\u001b]8;;\u001b\\\u001b[2m:\u001b[0m\u001b]8;id=551502;file://C:\\Users\\carga\\AppData\\Local\\Packages\\PythonSoftwareFoundation.Python.3.8_qbz5n2kfra8p0\\LocalCache\\local-packages\\Python38\\site-packages\\kedro\\ipython\\__init__.py#142\u001b\\\u001b[2m142\u001b[0m\u001b]8;;\u001b\\\n",
       "\u001b[2;36m                    \u001b[0m         \u001b[32m'pipelines'\u001b[0m                                                            \u001b[2m               \u001b[0m\n"
      ]
     },
     "metadata": {},
     "output_type": "display_data"
    },
    {
     "data": {
      "text/html": [
       "<pre style=\"white-space:pre;overflow-x:auto;line-height:normal;font-family:Menlo,'DejaVu Sans Mono',consolas,'Courier New',monospace\"><span style=\"color: #7fbfbf; text-decoration-color: #7fbfbf\">[07/08/24 16:04:15] </span><span style=\"color: #800000; text-decoration-color: #800000\">WARNING </span> C:\\Users\\carga\\AppData\\Local\\Packages\\PythonSoftwareFoundation.Python. <span style=\"color: #7f7f7f; text-decoration-color: #7f7f7f\">warnings.py:109</span>\n",
       "<span style=\"color: #7fbfbf; text-decoration-color: #7fbfbf\">                    </span>         <span style=\"color: #008080; text-decoration-color: #008080; font-weight: bold\">3.</span>8_qbz5n2kfra8p0\\LocalCache\\local-packages\\Python38\\site-packages\\ked <span style=\"color: #7f7f7f; text-decoration-color: #7f7f7f\">               </span>\n",
       "<span style=\"color: #7fbfbf; text-decoration-color: #7fbfbf\">                    </span>         ro_viz\\models\\flowchart.py:<span style=\"color: #008080; text-decoration-color: #008080; font-weight: bold\">13</span>: KedroDeprecationWarning:                <span style=\"color: #7f7f7f; text-decoration-color: #7f7f7f\">               </span>\n",
       "<span style=\"color: #7fbfbf; text-decoration-color: #7fbfbf\">                    </span>         <span style=\"color: #008000; text-decoration-color: #008000\">'TRANSCODING_SEPARATOR'</span> has been moved to                              <span style=\"color: #7f7f7f; text-decoration-color: #7f7f7f\">               </span>\n",
       "<span style=\"color: #7fbfbf; text-decoration-color: #7fbfbf\">                    </span>         <span style=\"color: #008000; text-decoration-color: #008000\">'kedro.pipeline.transcoding'</span>, and the alias will be removed in Kedro   <span style=\"color: #7f7f7f; text-decoration-color: #7f7f7f\">               </span>\n",
       "<span style=\"color: #7fbfbf; text-decoration-color: #7fbfbf\">                    </span>         <span style=\"color: #008080; text-decoration-color: #008080; font-weight: bold\">0.20</span>.<span style=\"color: #008080; text-decoration-color: #008080; font-weight: bold\">0</span>                                                                 <span style=\"color: #7f7f7f; text-decoration-color: #7f7f7f\">               </span>\n",
       "<span style=\"color: #7fbfbf; text-decoration-color: #7fbfbf\">                    </span>           from kedro.pipeline.pipeline import TRANSCODING_SEPARATOR,           <span style=\"color: #7f7f7f; text-decoration-color: #7f7f7f\">               </span>\n",
       "<span style=\"color: #7fbfbf; text-decoration-color: #7fbfbf\">                    </span>         _strip_transcoding                                                     <span style=\"color: #7f7f7f; text-decoration-color: #7f7f7f\">               </span>\n",
       "<span style=\"color: #7fbfbf; text-decoration-color: #7fbfbf\">                    </span>                                                                                <span style=\"color: #7f7f7f; text-decoration-color: #7f7f7f\">               </span>\n",
       "</pre>\n"
      ],
      "text/plain": [
       "\u001b[2;36m[07/08/24 16:04:15]\u001b[0m\u001b[2;36m \u001b[0m\u001b[31mWARNING \u001b[0m C:\\Users\\carga\\AppData\\Local\\Packages\\PythonSoftwareFoundation.Python. \u001b[2mwarnings.py\u001b[0m\u001b[2m:\u001b[0m\u001b[2m109\u001b[0m\n",
       "\u001b[2;36m                    \u001b[0m         \u001b[1;36m3.\u001b[0m8_qbz5n2kfra8p0\\LocalCache\\local-packages\\Python38\\site-packages\\ked \u001b[2m               \u001b[0m\n",
       "\u001b[2;36m                    \u001b[0m         ro_viz\\models\\flowchart.py:\u001b[1;36m13\u001b[0m: KedroDeprecationWarning:                \u001b[2m               \u001b[0m\n",
       "\u001b[2;36m                    \u001b[0m         \u001b[32m'TRANSCODING_SEPARATOR'\u001b[0m has been moved to                              \u001b[2m               \u001b[0m\n",
       "\u001b[2;36m                    \u001b[0m         \u001b[32m'kedro.pipeline.transcoding'\u001b[0m, and the alias will be removed in Kedro   \u001b[2m               \u001b[0m\n",
       "\u001b[2;36m                    \u001b[0m         \u001b[1;36m0.20\u001b[0m.\u001b[1;36m0\u001b[0m                                                                 \u001b[2m               \u001b[0m\n",
       "\u001b[2;36m                    \u001b[0m           from kedro.pipeline.pipeline import TRANSCODING_SEPARATOR,           \u001b[2m               \u001b[0m\n",
       "\u001b[2;36m                    \u001b[0m         _strip_transcoding                                                     \u001b[2m               \u001b[0m\n",
       "\u001b[2;36m                    \u001b[0m                                                                                \u001b[2m               \u001b[0m\n"
      ]
     },
     "metadata": {},
     "output_type": "display_data"
    },
    {
     "data": {
      "text/html": [
       "<pre style=\"white-space:pre;overflow-x:auto;line-height:normal;font-family:Menlo,'DejaVu Sans Mono',consolas,'Courier New',monospace\"><span style=\"color: #7fbfbf; text-decoration-color: #7fbfbf\">                    </span><span style=\"color: #800000; text-decoration-color: #800000\">WARNING </span> C:\\Users\\carga\\AppData\\Local\\Packages\\PythonSoftwareFoundation.Python. <span style=\"color: #7f7f7f; text-decoration-color: #7f7f7f\">warnings.py:109</span>\n",
       "<span style=\"color: #7fbfbf; text-decoration-color: #7fbfbf\">                    </span>         <span style=\"color: #008080; text-decoration-color: #008080; font-weight: bold\">3.</span>8_qbz5n2kfra8p0\\LocalCache\\local-packages\\Python38\\site-packages\\ked <span style=\"color: #7f7f7f; text-decoration-color: #7f7f7f\">               </span>\n",
       "<span style=\"color: #7fbfbf; text-decoration-color: #7fbfbf\">                    </span>         ro_viz\\data_access\\repositories\\catalog.py:<span style=\"color: #008080; text-decoration-color: #008080; font-weight: bold\">8</span>: KedroDeprecationWarning: <span style=\"color: #7f7f7f; text-decoration-color: #7f7f7f\">               </span>\n",
       "<span style=\"color: #7fbfbf; text-decoration-color: #7fbfbf\">                    </span>         <span style=\"color: #008000; text-decoration-color: #008000\">'TRANSCODING_SEPARATOR'</span> has been moved to                              <span style=\"color: #7f7f7f; text-decoration-color: #7f7f7f\">               </span>\n",
       "<span style=\"color: #7fbfbf; text-decoration-color: #7fbfbf\">                    </span>         <span style=\"color: #008000; text-decoration-color: #008000\">'kedro.pipeline.transcoding'</span>, and the alias will be removed in Kedro   <span style=\"color: #7f7f7f; text-decoration-color: #7f7f7f\">               </span>\n",
       "<span style=\"color: #7fbfbf; text-decoration-color: #7fbfbf\">                    </span>         <span style=\"color: #008080; text-decoration-color: #008080; font-weight: bold\">0.20</span>.<span style=\"color: #008080; text-decoration-color: #008080; font-weight: bold\">0</span>                                                                 <span style=\"color: #7f7f7f; text-decoration-color: #7f7f7f\">               </span>\n",
       "<span style=\"color: #7fbfbf; text-decoration-color: #7fbfbf\">                    </span>           from kedro.pipeline.pipeline import TRANSCODING_SEPARATOR,           <span style=\"color: #7f7f7f; text-decoration-color: #7f7f7f\">               </span>\n",
       "<span style=\"color: #7fbfbf; text-decoration-color: #7fbfbf\">                    </span>         _strip_transcoding                                                     <span style=\"color: #7f7f7f; text-decoration-color: #7f7f7f\">               </span>\n",
       "<span style=\"color: #7fbfbf; text-decoration-color: #7fbfbf\">                    </span>                                                                                <span style=\"color: #7f7f7f; text-decoration-color: #7f7f7f\">               </span>\n",
       "</pre>\n"
      ],
      "text/plain": [
       "\u001b[2;36m                   \u001b[0m\u001b[2;36m \u001b[0m\u001b[31mWARNING \u001b[0m C:\\Users\\carga\\AppData\\Local\\Packages\\PythonSoftwareFoundation.Python. \u001b[2mwarnings.py\u001b[0m\u001b[2m:\u001b[0m\u001b[2m109\u001b[0m\n",
       "\u001b[2;36m                    \u001b[0m         \u001b[1;36m3.\u001b[0m8_qbz5n2kfra8p0\\LocalCache\\local-packages\\Python38\\site-packages\\ked \u001b[2m               \u001b[0m\n",
       "\u001b[2;36m                    \u001b[0m         ro_viz\\data_access\\repositories\\catalog.py:\u001b[1;36m8\u001b[0m: KedroDeprecationWarning: \u001b[2m               \u001b[0m\n",
       "\u001b[2;36m                    \u001b[0m         \u001b[32m'TRANSCODING_SEPARATOR'\u001b[0m has been moved to                              \u001b[2m               \u001b[0m\n",
       "\u001b[2;36m                    \u001b[0m         \u001b[32m'kedro.pipeline.transcoding'\u001b[0m, and the alias will be removed in Kedro   \u001b[2m               \u001b[0m\n",
       "\u001b[2;36m                    \u001b[0m         \u001b[1;36m0.20\u001b[0m.\u001b[1;36m0\u001b[0m                                                                 \u001b[2m               \u001b[0m\n",
       "\u001b[2;36m                    \u001b[0m           from kedro.pipeline.pipeline import TRANSCODING_SEPARATOR,           \u001b[2m               \u001b[0m\n",
       "\u001b[2;36m                    \u001b[0m         _strip_transcoding                                                     \u001b[2m               \u001b[0m\n",
       "\u001b[2;36m                    \u001b[0m                                                                                \u001b[2m               \u001b[0m\n"
      ]
     },
     "metadata": {},
     "output_type": "display_data"
    },
    {
     "data": {
      "text/html": [
       "<pre style=\"white-space:pre;overflow-x:auto;line-height:normal;font-family:Menlo,'DejaVu Sans Mono',consolas,'Courier New',monospace\"><span style=\"color: #7fbfbf; text-decoration-color: #7fbfbf\">[07/08/24 16:04:16] </span><span style=\"color: #000080; text-decoration-color: #000080\">INFO    </span> Registered line magic <span style=\"color: #008000; text-decoration-color: #008000\">'run_viz'</span>                                        <a href=\"file://C:\\Users\\carga\\AppData\\Local\\Packages\\PythonSoftwareFoundation.Python.3.8_qbz5n2kfra8p0\\LocalCache\\local-packages\\Python38\\site-packages\\kedro\\ipython\\__init__.py\" target=\"_blank\"><span style=\"color: #7f7f7f; text-decoration-color: #7f7f7f\">__init__.py</span></a><span style=\"color: #7f7f7f; text-decoration-color: #7f7f7f\">:</span><a href=\"file://C:\\Users\\carga\\AppData\\Local\\Packages\\PythonSoftwareFoundation.Python.3.8_qbz5n2kfra8p0\\LocalCache\\local-packages\\Python38\\site-packages\\kedro\\ipython\\__init__.py#148\" target=\"_blank\"><span style=\"color: #7f7f7f; text-decoration-color: #7f7f7f\">148</span></a>\n",
       "</pre>\n"
      ],
      "text/plain": [
       "\u001b[2;36m[07/08/24 16:04:16]\u001b[0m\u001b[2;36m \u001b[0m\u001b[34mINFO    \u001b[0m Registered line magic \u001b[32m'run_viz'\u001b[0m                                        \u001b]8;id=487946;file://C:\\Users\\carga\\AppData\\Local\\Packages\\PythonSoftwareFoundation.Python.3.8_qbz5n2kfra8p0\\LocalCache\\local-packages\\Python38\\site-packages\\kedro\\ipython\\__init__.py\u001b\\\u001b[2m__init__.py\u001b[0m\u001b]8;;\u001b\\\u001b[2m:\u001b[0m\u001b]8;id=140454;file://C:\\Users\\carga\\AppData\\Local\\Packages\\PythonSoftwareFoundation.Python.3.8_qbz5n2kfra8p0\\LocalCache\\local-packages\\Python38\\site-packages\\kedro\\ipython\\__init__.py#148\u001b\\\u001b[2m148\u001b[0m\u001b]8;;\u001b\\\n"
      ]
     },
     "metadata": {},
     "output_type": "display_data"
    }
   ],
   "source": [
    "%load_ext kedro.ipython"
   ]
  },
  {
   "cell_type": "code",
   "execution_count": 3,
   "metadata": {},
   "outputs": [
    {
     "data": {
      "text/html": [
       "<pre style=\"white-space:pre;overflow-x:auto;line-height:normal;font-family:Menlo,'DejaVu Sans Mono',consolas,'Courier New',monospace\"></pre>\n"
      ],
      "text/plain": []
     },
     "metadata": {},
     "output_type": "display_data"
    },
    {
     "data": {
      "text/plain": [
       "\n",
       "\u001b[1m[\u001b[0m\n",
       "    \u001b[32m'incidents'\u001b[0m,\n",
       "    \u001b[32m'firestations'\u001b[0m,\n",
       "    \u001b[32m'firestation_areas'\u001b[0m,\n",
       "    \u001b[32m'property_assessments'\u001b[0m,\n",
       "    \u001b[32m'census'\u001b[0m,\n",
       "    \u001b[32m'combined_incidents'\u001b[0m,\n",
       "    \u001b[32m'preprocessed_incidents'\u001b[0m,\n",
       "    \u001b[32m'preprocessed_firestations'\u001b[0m,\n",
       "    \u001b[32m'preprocessed_firestation_areas'\u001b[0m,\n",
       "    \u001b[32m'preprocessed_property_assessments'\u001b[0m,\n",
       "    \u001b[32m'preprocessed_census'\u001b[0m,\n",
       "    \u001b[32m'square_mesh'\u001b[0m,\n",
       "    \u001b[32m'spatial_joined_incidents'\u001b[0m,\n",
       "    \u001b[32m'spatial_joined_property_assessments'\u001b[0m,\n",
       "    \u001b[32m'spatial_joined_census'\u001b[0m,\n",
       "    \u001b[32m'merged_incidents_property_assessments'\u001b[0m,\n",
       "    \u001b[32m'merged_incidents_property_assessments_census'\u001b[0m,\n",
       "    \u001b[32m'input_table'\u001b[0m,\n",
       "    \u001b[32m'parameters'\u001b[0m,\n",
       "    \u001b[32m'params:square_size'\u001b[0m\n",
       "\u001b[1m]\u001b[0m"
      ]
     },
     "execution_count": 3,
     "metadata": {},
     "output_type": "execute_result"
    }
   ],
   "source": [
    "catalog.list()"
   ]
  },
  {
   "cell_type": "code",
   "execution_count": 4,
   "metadata": {},
   "outputs": [
    {
     "data": {
      "text/html": [
       "<pre style=\"white-space:pre;overflow-x:auto;line-height:normal;font-family:Menlo,'DejaVu Sans Mono',consolas,'Courier New',monospace\"><span style=\"color: #7fbfbf; text-decoration-color: #7fbfbf\">                    </span><span style=\"color: #000080; text-decoration-color: #000080\">INFO    </span> Loading data from <span style=\"color: #ff8700; text-decoration-color: #ff8700\">preprocessed_property_assessments</span>                <a href=\"file://C:\\Users\\carga\\AppData\\Local\\Packages\\PythonSoftwareFoundation.Python.3.8_qbz5n2kfra8p0\\LocalCache\\local-packages\\Python38\\site-packages\\kedro\\io\\data_catalog.py\" target=\"_blank\"><span style=\"color: #7f7f7f; text-decoration-color: #7f7f7f\">data_catalog.py</span></a><span style=\"color: #7f7f7f; text-decoration-color: #7f7f7f\">:</span><a href=\"file://C:\\Users\\carga\\AppData\\Local\\Packages\\PythonSoftwareFoundation.Python.3.8_qbz5n2kfra8p0\\LocalCache\\local-packages\\Python38\\site-packages\\kedro\\io\\data_catalog.py#508\" target=\"_blank\"><span style=\"color: #7f7f7f; text-decoration-color: #7f7f7f\">508</span></a>\n",
       "<span style=\"color: #7fbfbf; text-decoration-color: #7fbfbf\">                    </span>         <span style=\"font-weight: bold\">(</span>CSVDataset<span style=\"font-weight: bold\">)</span><span style=\"color: #808000; text-decoration-color: #808000\">...</span>                                                    <span style=\"color: #7f7f7f; text-decoration-color: #7f7f7f\">                   </span>\n",
       "</pre>\n"
      ],
      "text/plain": [
       "\u001b[2;36m                   \u001b[0m\u001b[2;36m \u001b[0m\u001b[34mINFO    \u001b[0m Loading data from \u001b[38;5;208mpreprocessed_property_assessments\u001b[0m                \u001b]8;id=837660;file://C:\\Users\\carga\\AppData\\Local\\Packages\\PythonSoftwareFoundation.Python.3.8_qbz5n2kfra8p0\\LocalCache\\local-packages\\Python38\\site-packages\\kedro\\io\\data_catalog.py\u001b\\\u001b[2mdata_catalog.py\u001b[0m\u001b]8;;\u001b\\\u001b[2m:\u001b[0m\u001b]8;id=836028;file://C:\\Users\\carga\\AppData\\Local\\Packages\\PythonSoftwareFoundation.Python.3.8_qbz5n2kfra8p0\\LocalCache\\local-packages\\Python38\\site-packages\\kedro\\io\\data_catalog.py#508\u001b\\\u001b[2m508\u001b[0m\u001b]8;;\u001b\\\n",
       "\u001b[2;36m                    \u001b[0m         \u001b[1m(\u001b[0mCSVDataset\u001b[1m)\u001b[0m\u001b[33m...\u001b[0m                                                    \u001b[2m                   \u001b[0m\n"
      ]
     },
     "metadata": {},
     "output_type": "display_data"
    },
    {
     "data": {
      "text/html": [
       "<pre style=\"white-space:pre;overflow-x:auto;line-height:normal;font-family:Menlo,'DejaVu Sans Mono',consolas,'Courier New',monospace\"></pre>\n"
      ],
      "text/plain": []
     },
     "metadata": {},
     "output_type": "display_data"
    },
    {
     "data": {
      "text/html": [
       "<div>\n",
       "<style scoped>\n",
       "    .dataframe tbody tr th:only-of-type {\n",
       "        vertical-align: middle;\n",
       "    }\n",
       "\n",
       "    .dataframe tbody tr th {\n",
       "        vertical-align: top;\n",
       "    }\n",
       "\n",
       "    .dataframe thead th {\n",
       "        text-align: right;\n",
       "    }\n",
       "</style>\n",
       "<table border=\"1\" class=\"dataframe\">\n",
       "  <thead>\n",
       "    <tr style=\"text-align: right;\">\n",
       "      <th></th>\n",
       "      <th>ASSESSMENT_ID</th>\n",
       "      <th>ABOVE_GROUND_FLOORS</th>\n",
       "      <th>HOUSING_UNITS</th>\n",
       "      <th>YEAR_CONSTRUCTION</th>\n",
       "      <th>USE_CODE</th>\n",
       "      <th>USE_DESCRIPTION</th>\n",
       "      <th>USE_CATEGORY</th>\n",
       "      <th>AREA_LAND</th>\n",
       "      <th>AREA_BUILDING</th>\n",
       "      <th>LATITUDE</th>\n",
       "      <th>LONGITUDE</th>\n",
       "    </tr>\n",
       "  </thead>\n",
       "  <tbody>\n",
       "    <tr>\n",
       "      <th>0</th>\n",
       "      <td>1049937</td>\n",
       "      <td>3</td>\n",
       "      <td>6</td>\n",
       "      <td>1928.0</td>\n",
       "      <td>1000</td>\n",
       "      <td>Logement</td>\n",
       "      <td>Regular</td>\n",
       "      <td>348</td>\n",
       "      <td>457</td>\n",
       "      <td>45.455506</td>\n",
       "      <td>-73.575097</td>\n",
       "    </tr>\n",
       "    <tr>\n",
       "      <th>1</th>\n",
       "      <td>1007083</td>\n",
       "      <td>3</td>\n",
       "      <td>4</td>\n",
       "      <td>1965.0</td>\n",
       "      <td>1000</td>\n",
       "      <td>Logement</td>\n",
       "      <td>Regular</td>\n",
       "      <td>189</td>\n",
       "      <td>321</td>\n",
       "      <td>45.460041</td>\n",
       "      <td>-73.593359</td>\n",
       "    </tr>\n",
       "    <tr>\n",
       "      <th>2</th>\n",
       "      <td>1008256</td>\n",
       "      <td>2</td>\n",
       "      <td>2</td>\n",
       "      <td>1927.0</td>\n",
       "      <td>1000</td>\n",
       "      <td>Logement</td>\n",
       "      <td>Regular</td>\n",
       "      <td>311</td>\n",
       "      <td>311</td>\n",
       "      <td>45.486017</td>\n",
       "      <td>-73.599385</td>\n",
       "    </tr>\n",
       "    <tr>\n",
       "      <th>3</th>\n",
       "      <td>4039931</td>\n",
       "      <td>1</td>\n",
       "      <td>1</td>\n",
       "      <td>1975.0</td>\n",
       "      <td>1000</td>\n",
       "      <td>Logement</td>\n",
       "      <td>Regular</td>\n",
       "      <td>383</td>\n",
       "      <td>119</td>\n",
       "      <td>45.434633</td>\n",
       "      <td>-73.612644</td>\n",
       "    </tr>\n",
       "    <tr>\n",
       "      <th>4</th>\n",
       "      <td>4043326</td>\n",
       "      <td>2</td>\n",
       "      <td>2</td>\n",
       "      <td>1966.0</td>\n",
       "      <td>1000</td>\n",
       "      <td>Logement</td>\n",
       "      <td>Regular</td>\n",
       "      <td>220</td>\n",
       "      <td>209</td>\n",
       "      <td>45.429886</td>\n",
       "      <td>-73.629457</td>\n",
       "    </tr>\n",
       "  </tbody>\n",
       "</table>\n",
       "</div>"
      ],
      "text/plain": [
       "\n",
       "   ASSESSMENT_ID  ABOVE_GROUND_FLOORS  HOUSING_UNITS  YEAR_CONSTRUCTION  \\\n",
       "\u001b[1;36m0\u001b[0m        \u001b[1;36m1049937\u001b[0m                    \u001b[1;36m3\u001b[0m              \u001b[1;36m6\u001b[0m             \u001b[1;36m1928.0\u001b[0m   \n",
       "\u001b[1;36m1\u001b[0m        \u001b[1;36m1007083\u001b[0m                    \u001b[1;36m3\u001b[0m              \u001b[1;36m4\u001b[0m             \u001b[1;36m1965.0\u001b[0m   \n",
       "\u001b[1;36m2\u001b[0m        \u001b[1;36m1008256\u001b[0m                    \u001b[1;36m2\u001b[0m              \u001b[1;36m2\u001b[0m             \u001b[1;36m1927.0\u001b[0m   \n",
       "\u001b[1;36m3\u001b[0m        \u001b[1;36m4039931\u001b[0m                    \u001b[1;36m1\u001b[0m              \u001b[1;36m1\u001b[0m             \u001b[1;36m1975.0\u001b[0m   \n",
       "\u001b[1;36m4\u001b[0m        \u001b[1;36m4043326\u001b[0m                    \u001b[1;36m2\u001b[0m              \u001b[1;36m2\u001b[0m             \u001b[1;36m1966.0\u001b[0m   \n",
       "\n",
       "   USE_CODE USE_DESCRIPTION USE_CATEGORY  AREA_LAND  AREA_BUILDING   LATITUDE  \\\n",
       "\u001b[1;36m0\u001b[0m      \u001b[1;36m1000\u001b[0m        Logement      Regular        \u001b[1;36m348\u001b[0m            \u001b[1;36m457\u001b[0m  \u001b[1;36m45.455506\u001b[0m   \n",
       "\u001b[1;36m1\u001b[0m      \u001b[1;36m1000\u001b[0m        Logement      Regular        \u001b[1;36m189\u001b[0m            \u001b[1;36m321\u001b[0m  \u001b[1;36m45.460041\u001b[0m   \n",
       "\u001b[1;36m2\u001b[0m      \u001b[1;36m1000\u001b[0m        Logement      Regular        \u001b[1;36m311\u001b[0m            \u001b[1;36m311\u001b[0m  \u001b[1;36m45.486017\u001b[0m   \n",
       "\u001b[1;36m3\u001b[0m      \u001b[1;36m1000\u001b[0m        Logement      Regular        \u001b[1;36m383\u001b[0m            \u001b[1;36m119\u001b[0m  \u001b[1;36m45.434633\u001b[0m   \n",
       "\u001b[1;36m4\u001b[0m      \u001b[1;36m1000\u001b[0m        Logement      Regular        \u001b[1;36m220\u001b[0m            \u001b[1;36m209\u001b[0m  \u001b[1;36m45.429886\u001b[0m   \n",
       "\n",
       "   LONGITUDE  \n",
       "\u001b[1;36m0\u001b[0m \u001b[1;36m-73.575097\u001b[0m  \n",
       "\u001b[1;36m1\u001b[0m \u001b[1;36m-73.593359\u001b[0m  \n",
       "\u001b[1;36m2\u001b[0m \u001b[1;36m-73.599385\u001b[0m  \n",
       "\u001b[1;36m3\u001b[0m \u001b[1;36m-73.612644\u001b[0m  \n",
       "\u001b[1;36m4\u001b[0m \u001b[1;36m-73.629457\u001b[0m  "
      ]
     },
     "execution_count": 4,
     "metadata": {},
     "output_type": "execute_result"
    }
   ],
   "source": [
    "df_property_assessment = catalog.load('preprocessed_property_assessments')\n",
    "df_property_assessment.head()"
   ]
  },
  {
   "cell_type": "code",
   "execution_count": 5,
   "metadata": {},
   "outputs": [
    {
     "data": {
      "text/html": [
       "<pre style=\"white-space:pre;overflow-x:auto;line-height:normal;font-family:Menlo,'DejaVu Sans Mono',consolas,'Courier New',monospace\"></pre>\n"
      ],
      "text/plain": []
     },
     "metadata": {},
     "output_type": "display_data"
    },
    {
     "data": {
      "text/html": [
       "<div>\n",
       "<style scoped>\n",
       "    .dataframe tbody tr th:only-of-type {\n",
       "        vertical-align: middle;\n",
       "    }\n",
       "\n",
       "    .dataframe tbody tr th {\n",
       "        vertical-align: top;\n",
       "    }\n",
       "\n",
       "    .dataframe thead th {\n",
       "        text-align: right;\n",
       "    }\n",
       "</style>\n",
       "<table border=\"1\" class=\"dataframe\">\n",
       "  <thead>\n",
       "    <tr style=\"text-align: right;\">\n",
       "      <th></th>\n",
       "      <th>ASSESSMENT_ID</th>\n",
       "      <th>ABOVE_GROUND_FLOORS</th>\n",
       "      <th>HOUSING_UNITS</th>\n",
       "      <th>YEAR_CONSTRUCTION</th>\n",
       "      <th>USE_CODE</th>\n",
       "      <th>AREA_LAND</th>\n",
       "      <th>AREA_BUILDING</th>\n",
       "      <th>LATITUDE</th>\n",
       "      <th>LONGITUDE</th>\n",
       "    </tr>\n",
       "  </thead>\n",
       "  <tbody>\n",
       "    <tr>\n",
       "      <th>count</th>\n",
       "      <td>5.087130e+05</td>\n",
       "      <td>508713.000000</td>\n",
       "      <td>508713.000000</td>\n",
       "      <td>486195.000000</td>\n",
       "      <td>508713.000000</td>\n",
       "      <td>5.087130e+05</td>\n",
       "      <td>508713.000000</td>\n",
       "      <td>508713.000000</td>\n",
       "      <td>508713.000000</td>\n",
       "    </tr>\n",
       "    <tr>\n",
       "      <th>mean</th>\n",
       "      <td>3.522788e+06</td>\n",
       "      <td>1.514294</td>\n",
       "      <td>2.008970</td>\n",
       "      <td>1970.201894</td>\n",
       "      <td>1418.100391</td>\n",
       "      <td>7.948636e+02</td>\n",
       "      <td>272.693206</td>\n",
       "      <td>45.520616</td>\n",
       "      <td>-73.637865</td>\n",
       "    </tr>\n",
       "    <tr>\n",
       "      <th>std</th>\n",
       "      <td>1.462774e+06</td>\n",
       "      <td>0.930204</td>\n",
       "      <td>9.310873</td>\n",
       "      <td>33.964410</td>\n",
       "      <td>1543.775028</td>\n",
       "      <td>1.726123e+04</td>\n",
       "      <td>2056.103909</td>\n",
       "      <td>0.059855</td>\n",
       "      <td>0.099696</td>\n",
       "    </tr>\n",
       "    <tr>\n",
       "      <th>min</th>\n",
       "      <td>1.000002e+06</td>\n",
       "      <td>0.000000</td>\n",
       "      <td>0.000000</td>\n",
       "      <td>1600.000000</td>\n",
       "      <td>1000.000000</td>\n",
       "      <td>0.000000e+00</td>\n",
       "      <td>0.000000</td>\n",
       "      <td>45.402264</td>\n",
       "      <td>-73.974446</td>\n",
       "    </tr>\n",
       "    <tr>\n",
       "      <th>25%</th>\n",
       "      <td>2.083622e+06</td>\n",
       "      <td>1.000000</td>\n",
       "      <td>1.000000</td>\n",
       "      <td>1951.000000</td>\n",
       "      <td>1000.000000</td>\n",
       "      <td>6.700000e+01</td>\n",
       "      <td>87.000000</td>\n",
       "      <td>45.475871</td>\n",
       "      <td>-73.670947</td>\n",
       "    </tr>\n",
       "    <tr>\n",
       "      <th>50%</th>\n",
       "      <td>4.012697e+06</td>\n",
       "      <td>2.000000</td>\n",
       "      <td>1.000000</td>\n",
       "      <td>1970.000000</td>\n",
       "      <td>1000.000000</td>\n",
       "      <td>2.370000e+02</td>\n",
       "      <td>135.000000</td>\n",
       "      <td>45.513081</td>\n",
       "      <td>-73.608224</td>\n",
       "    </tr>\n",
       "    <tr>\n",
       "      <th>75%</th>\n",
       "      <td>5.101641e+06</td>\n",
       "      <td>2.000000</td>\n",
       "      <td>2.000000</td>\n",
       "      <td>2000.000000</td>\n",
       "      <td>1000.000000</td>\n",
       "      <td>4.460000e+02</td>\n",
       "      <td>219.000000</td>\n",
       "      <td>45.554277</td>\n",
       "      <td>-73.568706</td>\n",
       "    </tr>\n",
       "    <tr>\n",
       "      <th>max</th>\n",
       "      <td>5.305110e+06</td>\n",
       "      <td>47.000000</td>\n",
       "      <td>3100.000000</td>\n",
       "      <td>2024.000000</td>\n",
       "      <td>9900.000000</td>\n",
       "      <td>5.424280e+06</td>\n",
       "      <td>947140.000000</td>\n",
       "      <td>45.702132</td>\n",
       "      <td>-73.477882</td>\n",
       "    </tr>\n",
       "  </tbody>\n",
       "</table>\n",
       "</div>"
      ],
      "text/plain": [
       "\n",
       "       ASSESSMENT_ID  ABOVE_GROUND_FLOORS  HOUSING_UNITS  YEAR_CONSTRUCTION  \\\n",
       "count   \u001b[1;36m5.087130e+05\u001b[0m        \u001b[1;36m508713.000000\u001b[0m  \u001b[1;36m508713.000000\u001b[0m      \u001b[1;36m486195.000000\u001b[0m   \n",
       "mean    \u001b[1;36m3.522788e+06\u001b[0m             \u001b[1;36m1.514294\u001b[0m       \u001b[1;36m2.008970\u001b[0m        \u001b[1;36m1970.201894\u001b[0m   \n",
       "std     \u001b[1;36m1.462774e+06\u001b[0m             \u001b[1;36m0.930204\u001b[0m       \u001b[1;36m9.310873\u001b[0m          \u001b[1;36m33.964410\u001b[0m   \n",
       "min     \u001b[1;36m1.000002e+06\u001b[0m             \u001b[1;36m0.000000\u001b[0m       \u001b[1;36m0.000000\u001b[0m        \u001b[1;36m1600.000000\u001b[0m   \n",
       "\u001b[1;36m25\u001b[0m%     \u001b[1;36m2.083622e+06\u001b[0m             \u001b[1;36m1.000000\u001b[0m       \u001b[1;36m1.000000\u001b[0m        \u001b[1;36m1951.000000\u001b[0m   \n",
       "\u001b[1;36m50\u001b[0m%     \u001b[1;36m4.012697e+06\u001b[0m             \u001b[1;36m2.000000\u001b[0m       \u001b[1;36m1.000000\u001b[0m        \u001b[1;36m1970.000000\u001b[0m   \n",
       "\u001b[1;36m75\u001b[0m%     \u001b[1;36m5.101641e+06\u001b[0m             \u001b[1;36m2.000000\u001b[0m       \u001b[1;36m2.000000\u001b[0m        \u001b[1;36m2000.000000\u001b[0m   \n",
       "max     \u001b[1;36m5.305110e+06\u001b[0m            \u001b[1;36m47.000000\u001b[0m    \u001b[1;36m3100.000000\u001b[0m        \u001b[1;36m2024.000000\u001b[0m   \n",
       "\n",
       "            USE_CODE     AREA_LAND  AREA_BUILDING       LATITUDE  \\\n",
       "count  \u001b[1;36m508713.000000\u001b[0m  \u001b[1;36m5.087130e+05\u001b[0m  \u001b[1;36m508713.000000\u001b[0m  \u001b[1;36m508713.000000\u001b[0m   \n",
       "mean     \u001b[1;36m1418.100391\u001b[0m  \u001b[1;36m7.948636e+02\u001b[0m     \u001b[1;36m272.693206\u001b[0m      \u001b[1;36m45.520616\u001b[0m   \n",
       "std      \u001b[1;36m1543.775028\u001b[0m  \u001b[1;36m1.726123e+04\u001b[0m    \u001b[1;36m2056.103909\u001b[0m       \u001b[1;36m0.059855\u001b[0m   \n",
       "min      \u001b[1;36m1000.000000\u001b[0m  \u001b[1;36m0.000000e+00\u001b[0m       \u001b[1;36m0.000000\u001b[0m      \u001b[1;36m45.402264\u001b[0m   \n",
       "\u001b[1;36m25\u001b[0m%      \u001b[1;36m1000.000000\u001b[0m  \u001b[1;36m6.700000e+01\u001b[0m      \u001b[1;36m87.000000\u001b[0m      \u001b[1;36m45.475871\u001b[0m   \n",
       "\u001b[1;36m50\u001b[0m%      \u001b[1;36m1000.000000\u001b[0m  \u001b[1;36m2.370000e+02\u001b[0m     \u001b[1;36m135.000000\u001b[0m      \u001b[1;36m45.513081\u001b[0m   \n",
       "\u001b[1;36m75\u001b[0m%      \u001b[1;36m1000.000000\u001b[0m  \u001b[1;36m4.460000e+02\u001b[0m     \u001b[1;36m219.000000\u001b[0m      \u001b[1;36m45.554277\u001b[0m   \n",
       "max      \u001b[1;36m9900.000000\u001b[0m  \u001b[1;36m5.424280e+06\u001b[0m  \u001b[1;36m947140.000000\u001b[0m      \u001b[1;36m45.702132\u001b[0m   \n",
       "\n",
       "           LONGITUDE  \n",
       "count  \u001b[1;36m508713.000000\u001b[0m  \n",
       "mean      \u001b[1;36m-73.637865\u001b[0m  \n",
       "std         \u001b[1;36m0.099696\u001b[0m  \n",
       "min       \u001b[1;36m-73.974446\u001b[0m  \n",
       "\u001b[1;36m25\u001b[0m%       \u001b[1;36m-73.670947\u001b[0m  \n",
       "\u001b[1;36m50\u001b[0m%       \u001b[1;36m-73.608224\u001b[0m  \n",
       "\u001b[1;36m75\u001b[0m%       \u001b[1;36m-73.568706\u001b[0m  \n",
       "max       \u001b[1;36m-73.477882\u001b[0m  "
      ]
     },
     "execution_count": 5,
     "metadata": {},
     "output_type": "execute_result"
    },
    {
     "ename": "",
     "evalue": "",
     "output_type": "error",
     "traceback": [
      "\u001b[1;31mThe Kernel crashed while executing code in the current cell or a previous cell. \n",
      "\u001b[1;31mPlease review the code in the cell(s) to identify a possible cause of the failure. \n",
      "\u001b[1;31mClick <a href='https://aka.ms/vscodeJupyterKernelCrash'>here</a> for more info. \n",
      "\u001b[1;31mView Jupyter <a href='command:jupyter.viewOutput'>log</a> for further details."
     ]
    }
   ],
   "source": [
    "df_property_assessment.describe()"
   ]
  },
  {
   "cell_type": "code",
   "execution_count": 27,
   "metadata": {},
   "outputs": [
    {
     "data": {
      "text/html": [
       "<pre style=\"white-space:pre;overflow-x:auto;line-height:normal;font-family:Menlo,'DejaVu Sans Mono',consolas,'Courier New',monospace\"></pre>\n"
      ],
      "text/plain": []
     },
     "metadata": {},
     "output_type": "display_data"
    },
    {
     "data": {
      "text/plain": [
       "\u001b[1;36m1970.201894301669\u001b[0m"
      ]
     },
     "execution_count": 27,
     "metadata": {},
     "output_type": "execute_result"
    }
   ],
   "source": [
    "df_property_assessment['YEAR_CONSTRUCTION'].mean()"
   ]
  },
  {
   "cell_type": "code",
   "execution_count": 28,
   "metadata": {},
   "outputs": [
    {
     "data": {
      "text/html": [
       "<pre style=\"white-space:pre;overflow-x:auto;line-height:normal;font-family:Menlo,'DejaVu Sans Mono',consolas,'Courier New',monospace\"></pre>\n"
      ],
      "text/plain": []
     },
     "metadata": {},
     "output_type": "display_data"
    },
    {
     "data": {
      "text/plain": [
       "\u001b[1;36m53.798105698330914\u001b[0m"
      ]
     },
     "execution_count": 28,
     "metadata": {},
     "output_type": "execute_result"
    }
   ],
   "source": [
    "from datetime import datetime\n",
    "\n",
    "def _calculate_building_age(x: pd.Series) -> pd.Series:\n",
    "    current_year = datetime.now().year\n",
    "\n",
    "    y = current_year - x\n",
    "    \n",
    "    return y\n",
    "\n",
    "df_property_assessment['building_age'] = _calculate_building_age(df_property_assessment['YEAR_CONSTRUCTION'])\n",
    "df_property_assessment['building_age'].mean()"
   ]
  },
  {
   "cell_type": "code",
   "execution_count": 6,
   "metadata": {},
   "outputs": [],
   "source": [
    "def extract_sample(df, sample_size):\n",
    "    # Calculate the fraction of the data to sample\n",
    "    fraction = sample_size / len(df)\n",
    "\n",
    "    # Extract a representative sample\n",
    "    sample = df.sample(frac=fraction, random_state=42)  # Setting random_state for reproducibility\n",
    "\n",
    "    return sample"
   ]
  },
  {
   "cell_type": "code",
   "execution_count": 7,
   "metadata": {},
   "outputs": [
    {
     "data": {
      "text/html": [
       "<pre style=\"white-space:pre;overflow-x:auto;line-height:normal;font-family:Menlo,'DejaVu Sans Mono',consolas,'Courier New',monospace\"></pre>\n"
      ],
      "text/plain": []
     },
     "metadata": {},
     "output_type": "display_data"
    },
    {
     "data": {
      "text/html": [
       "<div>\n",
       "<style scoped>\n",
       "    .dataframe tbody tr th:only-of-type {\n",
       "        vertical-align: middle;\n",
       "    }\n",
       "\n",
       "    .dataframe tbody tr th {\n",
       "        vertical-align: top;\n",
       "    }\n",
       "\n",
       "    .dataframe thead th {\n",
       "        text-align: right;\n",
       "    }\n",
       "</style>\n",
       "<table border=\"1\" class=\"dataframe\">\n",
       "  <thead>\n",
       "    <tr style=\"text-align: right;\">\n",
       "      <th></th>\n",
       "      <th>ID</th>\n",
       "      <th>MUNICIPALITE</th>\n",
       "      <th>ABOVE_GROUND_FLOORS</th>\n",
       "      <th>HOUSING_UNITS</th>\n",
       "      <th>YEAR_CONSTRUCTION</th>\n",
       "      <th>USE_CODE</th>\n",
       "      <th>USE_DESCRIPTION</th>\n",
       "      <th>USE_CATEGORY</th>\n",
       "      <th>AREA_LAND</th>\n",
       "      <th>AREA_BUILDING</th>\n",
       "      <th>LATITUDE</th>\n",
       "      <th>LONGITUDE</th>\n",
       "    </tr>\n",
       "  </thead>\n",
       "  <tbody>\n",
       "    <tr>\n",
       "      <th>8683</th>\n",
       "      <td>1005842</td>\n",
       "      <td>50</td>\n",
       "      <td>2.0</td>\n",
       "      <td>1.0</td>\n",
       "      <td>1885</td>\n",
       "      <td>1000</td>\n",
       "      <td>Logement</td>\n",
       "      <td>Régulier</td>\n",
       "      <td>647</td>\n",
       "      <td>255.0</td>\n",
       "      <td>0.000411</td>\n",
       "      <td>-79.237950</td>\n",
       "    </tr>\n",
       "    <tr>\n",
       "      <th>61524</th>\n",
       "      <td>2098461</td>\n",
       "      <td>50</td>\n",
       "      <td>2.0</td>\n",
       "      <td>2.0</td>\n",
       "      <td>1957</td>\n",
       "      <td>1000</td>\n",
       "      <td>Logement</td>\n",
       "      <td>Régulier</td>\n",
       "      <td>417</td>\n",
       "      <td>191.0</td>\n",
       "      <td>0.000412</td>\n",
       "      <td>-79.237949</td>\n",
       "    </tr>\n",
       "    <tr>\n",
       "      <th>342889</th>\n",
       "      <td>4072748</td>\n",
       "      <td>3</td>\n",
       "      <td>2.0</td>\n",
       "      <td>1.0</td>\n",
       "      <td>1969</td>\n",
       "      <td>1000</td>\n",
       "      <td>Logement</td>\n",
       "      <td>Régulier</td>\n",
       "      <td>836</td>\n",
       "      <td>264.0</td>\n",
       "      <td>0.000410</td>\n",
       "      <td>-79.237953</td>\n",
       "    </tr>\n",
       "    <tr>\n",
       "      <th>313852</th>\n",
       "      <td>3055750</td>\n",
       "      <td>50</td>\n",
       "      <td>2.0</td>\n",
       "      <td>4.0</td>\n",
       "      <td>1957</td>\n",
       "      <td>1000</td>\n",
       "      <td>Logement</td>\n",
       "      <td>Régulier</td>\n",
       "      <td>261</td>\n",
       "      <td>257.0</td>\n",
       "      <td>0.000411</td>\n",
       "      <td>-79.237951</td>\n",
       "    </tr>\n",
       "    <tr>\n",
       "      <th>379581</th>\n",
       "      <td>3078938</td>\n",
       "      <td>50</td>\n",
       "      <td>5.0</td>\n",
       "      <td>NaN</td>\n",
       "      <td>9999</td>\n",
       "      <td>6399</td>\n",
       "      <td>Autres services d'affaires</td>\n",
       "      <td>Régulier</td>\n",
       "      <td>5876</td>\n",
       "      <td>NaN</td>\n",
       "      <td>0.000411</td>\n",
       "      <td>-79.237951</td>\n",
       "    </tr>\n",
       "  </tbody>\n",
       "</table>\n",
       "</div>"
      ],
      "text/plain": [
       "\n",
       "             ID  MUNICIPALITE  ABOVE_GROUND_FLOORS  HOUSING_UNITS  \\\n",
       "\u001b[1;36m8683\u001b[0m    \u001b[1;36m1005842\u001b[0m            \u001b[1;36m50\u001b[0m                  \u001b[1;36m2.0\u001b[0m            \u001b[1;36m1.0\u001b[0m   \n",
       "\u001b[1;36m61524\u001b[0m   \u001b[1;36m2098461\u001b[0m            \u001b[1;36m50\u001b[0m                  \u001b[1;36m2.0\u001b[0m            \u001b[1;36m2.0\u001b[0m   \n",
       "\u001b[1;36m342889\u001b[0m  \u001b[1;36m4072748\u001b[0m             \u001b[1;36m3\u001b[0m                  \u001b[1;36m2.0\u001b[0m            \u001b[1;36m1.0\u001b[0m   \n",
       "\u001b[1;36m313852\u001b[0m  \u001b[1;36m3055750\u001b[0m            \u001b[1;36m50\u001b[0m                  \u001b[1;36m2.0\u001b[0m            \u001b[1;36m4.0\u001b[0m   \n",
       "\u001b[1;36m379581\u001b[0m  \u001b[1;36m3078938\u001b[0m            \u001b[1;36m50\u001b[0m                  \u001b[1;36m5.0\u001b[0m            NaN   \n",
       "\n",
       "        YEAR_CONSTRUCTION  USE_CODE             USE_DESCRIPTION USE_CATEGORY  \\\n",
       "\u001b[1;36m8683\u001b[0m                 \u001b[1;36m1885\u001b[0m      \u001b[1;36m1000\u001b[0m                    Logement     Régulier   \n",
       "\u001b[1;36m61524\u001b[0m                \u001b[1;36m1957\u001b[0m      \u001b[1;36m1000\u001b[0m                    Logement     Régulier   \n",
       "\u001b[1;36m342889\u001b[0m               \u001b[1;36m1969\u001b[0m      \u001b[1;36m1000\u001b[0m                    Logement     Régulier   \n",
       "\u001b[1;36m313852\u001b[0m               \u001b[1;36m1957\u001b[0m      \u001b[1;36m1000\u001b[0m                    Logement     Régulier   \n",
       "\u001b[1;36m379581\u001b[0m               \u001b[1;36m9999\u001b[0m      \u001b[1;36m6399\u001b[0m  Autres services d'affaires     Régulier   \n",
       "\n",
       "        AREA_LAND  AREA_BUILDING  LATITUDE  LONGITUDE  \n",
       "\u001b[1;36m8683\u001b[0m          \u001b[1;36m647\u001b[0m          \u001b[1;36m255.0\u001b[0m  \u001b[1;36m0.000411\u001b[0m \u001b[1;36m-79.237950\u001b[0m  \n",
       "\u001b[1;36m61524\u001b[0m         \u001b[1;36m417\u001b[0m          \u001b[1;36m191.0\u001b[0m  \u001b[1;36m0.000412\u001b[0m \u001b[1;36m-79.237949\u001b[0m  \n",
       "\u001b[1;36m342889\u001b[0m        \u001b[1;36m836\u001b[0m          \u001b[1;36m264.0\u001b[0m  \u001b[1;36m0.000410\u001b[0m \u001b[1;36m-79.237953\u001b[0m  \n",
       "\u001b[1;36m313852\u001b[0m        \u001b[1;36m261\u001b[0m          \u001b[1;36m257.0\u001b[0m  \u001b[1;36m0.000411\u001b[0m \u001b[1;36m-79.237951\u001b[0m  \n",
       "\u001b[1;36m379581\u001b[0m       \u001b[1;36m5876\u001b[0m            NaN  \u001b[1;36m0.000411\u001b[0m \u001b[1;36m-79.237951\u001b[0m  "
      ]
     },
     "execution_count": 7,
     "metadata": {},
     "output_type": "execute_result"
    }
   ],
   "source": [
    "sample_size = 1000\n",
    "df_property_assessment_sample = extract_sample(df_property_assessment, sample_size)\n",
    "df_property_assessment_sample.head()"
   ]
  },
  {
   "cell_type": "code",
   "execution_count": 8,
   "metadata": {},
   "outputs": [],
   "source": [
    "#df_property_assessment_sample.to_csv('C://Users//carga//Downloads//df_property_assessment_sample.csv', index=False)"
   ]
  },
  {
   "cell_type": "code",
   "execution_count": 10,
   "metadata": {},
   "outputs": [
    {
     "data": {
      "text/html": [
       "<pre style=\"white-space:pre;overflow-x:auto;line-height:normal;font-family:Menlo,'DejaVu Sans Mono',consolas,'Courier New',monospace\"></pre>\n"
      ],
      "text/plain": []
     },
     "metadata": {},
     "output_type": "display_data"
    },
    {
     "data": {
      "text/plain": [
       "\u001b[1;35marray\u001b[0m\u001b[1m(\u001b[0m\u001b[1m[\u001b[0m\u001b[32m'Régulier'\u001b[0m, \u001b[32m'Condominium'\u001b[0m, \u001b[32m'Infrastructure'\u001b[0m\u001b[1m]\u001b[0m, \u001b[33mdtype\u001b[0m=\u001b[35mobject\u001b[0m\u001b[1m)\u001b[0m"
      ]
     },
     "execution_count": 10,
     "metadata": {},
     "output_type": "execute_result"
    }
   ],
   "source": [
    "df_property_assessment[\"USE_CATEGORY\"].unique()"
   ]
  },
  {
   "cell_type": "code",
   "execution_count": 23,
   "metadata": {},
   "outputs": [
    {
     "name": "stdout",
     "output_type": "stream",
     "text": [
      "Empty DataFrame\n",
      "Columns: [ASSESSMENT_ID, ABOVE_GROUND_FLOORS, HOUSING_UNITS, YEAR_CONSTRUCTION, USE_CODE, USE_DESCRIPTION, USE_CATEGORY, AREA_LAND, AREA_BUILDING, LATITUDE, LONGITUDE]\n",
      "Index: []\n"
     ]
    }
   ],
   "source": [
    "nan_rows_area = df_property_assessment[df_property_assessment['AREA_BUILDING'].isna()]\n",
    "\n",
    "# Display rows with NaN values\n",
    "print(nan_rows_area)"
   ]
  },
  {
   "cell_type": "code",
   "execution_count": 18,
   "metadata": {},
   "outputs": [
    {
     "name": "stdout",
     "output_type": "stream",
     "text": [
      "        ID  MUNICIPALITE  ABOVE_GROUND_FLOORS  HOUSING_UNITS  \\\n",
      "0      NaN           NaN                  NaN            NaN   \n",
      "1      NaN           NaN                  NaN            NaN   \n",
      "2      NaN           NaN                  NaN            NaN   \n",
      "3      NaN           NaN                  NaN            NaN   \n",
      "4      NaN           NaN                  NaN            NaN   \n",
      "...     ..           ...                  ...            ...   \n",
      "508708 NaN           NaN                  NaN            NaN   \n",
      "508709 NaN           NaN                  NaN            NaN   \n",
      "508710 NaN           NaN                  NaN            NaN   \n",
      "508711 NaN           NaN                  NaN            NaN   \n",
      "508712 NaN           NaN                  NaN            NaN   \n",
      "\n",
      "        YEAR_CONSTRUCTION  USE_CODE USE_DESCRIPTION USE_CATEGORY  AREA_LAND  \\\n",
      "0                     NaN       NaN             NaN          NaN        NaN   \n",
      "1                     NaN       NaN             NaN          NaN        NaN   \n",
      "2                     NaN       NaN             NaN          NaN        NaN   \n",
      "3                     NaN       NaN             NaN          NaN        NaN   \n",
      "4                     NaN       NaN             NaN          NaN        NaN   \n",
      "...                   ...       ...             ...          ...        ...   \n",
      "508708                NaN       NaN             NaN          NaN        NaN   \n",
      "508709                NaN       NaN             NaN          NaN        NaN   \n",
      "508710                NaN       NaN             NaN          NaN        NaN   \n",
      "508711                NaN       NaN             NaN          NaN        NaN   \n",
      "508712                NaN       NaN             NaN          NaN        NaN   \n",
      "\n",
      "        AREA_BUILDING  LATITUDE  LONGITUDE  \n",
      "0                 NaN       NaN        NaN  \n",
      "1                 NaN       NaN        NaN  \n",
      "2                 NaN       NaN        NaN  \n",
      "3                 NaN       NaN        NaN  \n",
      "4                 NaN       NaN        NaN  \n",
      "...               ...       ...        ...  \n",
      "508708            NaN       NaN        NaN  \n",
      "508709            NaN       NaN        NaN  \n",
      "508710            NaN       NaN        NaN  \n",
      "508711            NaN       NaN        NaN  \n",
      "508712            NaN       NaN        NaN  \n",
      "\n",
      "[508713 rows x 12 columns]\n",
      "ID                     0\n",
      "MUNICIPALITE           0\n",
      "ABOVE_GROUND_FLOORS    0\n",
      "HOUSING_UNITS          0\n",
      "YEAR_CONSTRUCTION      0\n",
      "USE_CODE               0\n",
      "USE_DESCRIPTION        0\n",
      "USE_CATEGORY           0\n",
      "AREA_LAND              0\n",
      "AREA_BUILDING          0\n",
      "LATITUDE               0\n",
      "LONGITUDE              0\n",
      "dtype: int64\n"
     ]
    }
   ],
   "source": [
    "nan_rows = df_property_assessment[df_property_assessment.isna()]\n",
    "print(nan_rows)"
   ]
  },
  {
   "cell_type": "code",
   "execution_count": 25,
   "metadata": {},
   "outputs": [
    {
     "name": "stdout",
     "output_type": "stream",
     "text": [
      "Number of rows with at least one NaN: ASSESSMENT_ID              0\n",
      "ABOVE_GROUND_FLOORS        0\n",
      "HOUSING_UNITS              0\n",
      "YEAR_CONSTRUCTION      22518\n",
      "USE_CODE                   0\n",
      "USE_DESCRIPTION            0\n",
      "USE_CATEGORY               0\n",
      "AREA_LAND                  0\n",
      "AREA_BUILDING              0\n",
      "LATITUDE                   0\n",
      "LONGITUDE                  0\n",
      "dtype: int64\n"
     ]
    }
   ],
   "source": [
    "count_nan_rows = df_property_assessment.isna().sum()\n",
    "\n",
    "print(f'Number of rows with at least one NaN: {count_nan_rows}')"
   ]
  },
  {
   "cell_type": "code",
   "execution_count": 28,
   "metadata": {},
   "outputs": [
    {
     "name": "stdout",
     "output_type": "stream",
     "text": [
      "Empty DataFrame\n",
      "Columns: [ID, MUNICIPALITE, ABOVE_GROUND_FLOORS, HOUSING_UNITS, YEAR_CONSTRUCTION, USE_CODE, USE_DESCRIPTION, USE_CATEGORY, AREA_LAND, AREA_BUILDING, LATITUDE, LONGITUDE]\n",
      "Index: []\n"
     ]
    }
   ],
   "source": [
    "duplicates = df_property_assessment[df_property_assessment.duplicated(subset=['ID'], keep='first')]\n",
    "print(duplicates)"
   ]
  },
  {
   "cell_type": "code",
   "execution_count": null,
   "metadata": {},
   "outputs": [],
   "source": []
  }
 ],
 "metadata": {
  "kernelspec": {
   "display_name": "Python 3",
   "language": "python",
   "name": "python3"
  },
  "language_info": {
   "codemirror_mode": {
    "name": "ipython",
    "version": 3
   },
   "file_extension": ".py",
   "mimetype": "text/x-python",
   "name": "python",
   "nbconvert_exporter": "python",
   "pygments_lexer": "ipython3",
   "version": "3.8.10"
  }
 },
 "nbformat": 4,
 "nbformat_minor": 2
}
