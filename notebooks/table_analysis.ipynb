{
 "cells": [
  {
   "cell_type": "code",
   "execution_count": 1,
   "metadata": {},
   "outputs": [],
   "source": [
    "import numpy as np"
   ]
  },
  {
   "cell_type": "code",
   "execution_count": 2,
   "metadata": {},
   "outputs": [
    {
     "data": {
      "text/html": [
       "<pre style=\"white-space:pre;overflow-x:auto;line-height:normal;font-family:Menlo,'DejaVu Sans Mono',consolas,'Courier New',monospace\"><span style=\"color: #7fbfbf; text-decoration-color: #7fbfbf\">[07/08/24 15:55:22] </span><span style=\"color: #000080; text-decoration-color: #000080\">INFO    </span> Registered line magic <span style=\"color: #008000; text-decoration-color: #008000\">'%reload_kedro'</span>                                   <a href=\"file://C:\\Users\\carga\\AppData\\Local\\Packages\\PythonSoftwareFoundation.Python.3.8_qbz5n2kfra8p0\\LocalCache\\local-packages\\Python38\\site-packages\\kedro\\ipython\\__init__.py\" target=\"_blank\"><span style=\"color: #7f7f7f; text-decoration-color: #7f7f7f\">__init__.py</span></a><span style=\"color: #7f7f7f; text-decoration-color: #7f7f7f\">:</span><a href=\"file://C:\\Users\\carga\\AppData\\Local\\Packages\\PythonSoftwareFoundation.Python.3.8_qbz5n2kfra8p0\\LocalCache\\local-packages\\Python38\\site-packages\\kedro\\ipython\\__init__.py#58\" target=\"_blank\"><span style=\"color: #7f7f7f; text-decoration-color: #7f7f7f\">58</span></a>\n",
       "</pre>\n"
      ],
      "text/plain": [
       "\u001b[2;36m[07/08/24 15:55:22]\u001b[0m\u001b[2;36m \u001b[0m\u001b[34mINFO    \u001b[0m Registered line magic \u001b[32m'%reload_kedro'\u001b[0m                                   \u001b]8;id=492009;file://C:\\Users\\carga\\AppData\\Local\\Packages\\PythonSoftwareFoundation.Python.3.8_qbz5n2kfra8p0\\LocalCache\\local-packages\\Python38\\site-packages\\kedro\\ipython\\__init__.py\u001b\\\u001b[2m__init__.py\u001b[0m\u001b]8;;\u001b\\\u001b[2m:\u001b[0m\u001b]8;id=36622;file://C:\\Users\\carga\\AppData\\Local\\Packages\\PythonSoftwareFoundation.Python.3.8_qbz5n2kfra8p0\\LocalCache\\local-packages\\Python38\\site-packages\\kedro\\ipython\\__init__.py#58\u001b\\\u001b[2m58\u001b[0m\u001b]8;;\u001b\\\n"
      ]
     },
     "metadata": {},
     "output_type": "display_data"
    },
    {
     "data": {
      "text/html": [
       "<pre style=\"white-space:pre;overflow-x:auto;line-height:normal;font-family:Menlo,'DejaVu Sans Mono',consolas,'Courier New',monospace\"><span style=\"color: #7fbfbf; text-decoration-color: #7fbfbf\">                    </span><span style=\"color: #000080; text-decoration-color: #000080\">INFO    </span> Registered line magic <span style=\"color: #008000; text-decoration-color: #008000\">'%load_node'</span>                                      <a href=\"file://C:\\Users\\carga\\AppData\\Local\\Packages\\PythonSoftwareFoundation.Python.3.8_qbz5n2kfra8p0\\LocalCache\\local-packages\\Python38\\site-packages\\kedro\\ipython\\__init__.py\" target=\"_blank\"><span style=\"color: #7f7f7f; text-decoration-color: #7f7f7f\">__init__.py</span></a><span style=\"color: #7f7f7f; text-decoration-color: #7f7f7f\">:</span><a href=\"file://C:\\Users\\carga\\AppData\\Local\\Packages\\PythonSoftwareFoundation.Python.3.8_qbz5n2kfra8p0\\LocalCache\\local-packages\\Python38\\site-packages\\kedro\\ipython\\__init__.py#60\" target=\"_blank\"><span style=\"color: #7f7f7f; text-decoration-color: #7f7f7f\">60</span></a>\n",
       "</pre>\n"
      ],
      "text/plain": [
       "\u001b[2;36m                   \u001b[0m\u001b[2;36m \u001b[0m\u001b[34mINFO    \u001b[0m Registered line magic \u001b[32m'%load_node'\u001b[0m                                      \u001b]8;id=188268;file://C:\\Users\\carga\\AppData\\Local\\Packages\\PythonSoftwareFoundation.Python.3.8_qbz5n2kfra8p0\\LocalCache\\local-packages\\Python38\\site-packages\\kedro\\ipython\\__init__.py\u001b\\\u001b[2m__init__.py\u001b[0m\u001b]8;;\u001b\\\u001b[2m:\u001b[0m\u001b]8;id=884400;file://C:\\Users\\carga\\AppData\\Local\\Packages\\PythonSoftwareFoundation.Python.3.8_qbz5n2kfra8p0\\LocalCache\\local-packages\\Python38\\site-packages\\kedro\\ipython\\__init__.py#60\u001b\\\u001b[2m60\u001b[0m\u001b]8;;\u001b\\\n"
      ]
     },
     "metadata": {},
     "output_type": "display_data"
    },
    {
     "data": {
      "text/html": [
       "<pre style=\"white-space:pre;overflow-x:auto;line-height:normal;font-family:Menlo,'DejaVu Sans Mono',consolas,'Courier New',monospace\"><span style=\"color: #7fbfbf; text-decoration-color: #7fbfbf\">                    </span><span style=\"color: #000080; text-decoration-color: #000080\">INFO    </span> Resolved project path as:                                              <a href=\"file://C:\\Users\\carga\\AppData\\Local\\Packages\\PythonSoftwareFoundation.Python.3.8_qbz5n2kfra8p0\\LocalCache\\local-packages\\Python38\\site-packages\\kedro\\ipython\\__init__.py\" target=\"_blank\"><span style=\"color: #7f7f7f; text-decoration-color: #7f7f7f\">__init__.py</span></a><span style=\"color: #7f7f7f; text-decoration-color: #7f7f7f\">:</span><a href=\"file://C:\\Users\\carga\\AppData\\Local\\Packages\\PythonSoftwareFoundation.Python.3.8_qbz5n2kfra8p0\\LocalCache\\local-packages\\Python38\\site-packages\\kedro\\ipython\\__init__.py#171\" target=\"_blank\"><span style=\"color: #7f7f7f; text-decoration-color: #7f7f7f\">171</span></a>\n",
       "<span style=\"color: #7fbfbf; text-decoration-color: #7fbfbf\">                    </span>         c:\\Users\\carga\\Documents\\KedroTutorial\\montrealfirepredicition.        <span style=\"color: #7f7f7f; text-decoration-color: #7f7f7f\">               </span>\n",
       "<span style=\"color: #7fbfbf; text-decoration-color: #7fbfbf\">                    </span>         To set a different path, run <span style=\"color: #008000; text-decoration-color: #008000\">'%reload_kedro &lt;project_root&gt;'</span>            <span style=\"color: #7f7f7f; text-decoration-color: #7f7f7f\">               </span>\n",
       "</pre>\n"
      ],
      "text/plain": [
       "\u001b[2;36m                   \u001b[0m\u001b[2;36m \u001b[0m\u001b[34mINFO    \u001b[0m Resolved project path as:                                              \u001b]8;id=822663;file://C:\\Users\\carga\\AppData\\Local\\Packages\\PythonSoftwareFoundation.Python.3.8_qbz5n2kfra8p0\\LocalCache\\local-packages\\Python38\\site-packages\\kedro\\ipython\\__init__.py\u001b\\\u001b[2m__init__.py\u001b[0m\u001b]8;;\u001b\\\u001b[2m:\u001b[0m\u001b]8;id=918562;file://C:\\Users\\carga\\AppData\\Local\\Packages\\PythonSoftwareFoundation.Python.3.8_qbz5n2kfra8p0\\LocalCache\\local-packages\\Python38\\site-packages\\kedro\\ipython\\__init__.py#171\u001b\\\u001b[2m171\u001b[0m\u001b]8;;\u001b\\\n",
       "\u001b[2;36m                    \u001b[0m         c:\\Users\\carga\\Documents\\KedroTutorial\\montrealfirepredicition.        \u001b[2m               \u001b[0m\n",
       "\u001b[2;36m                    \u001b[0m         To set a different path, run \u001b[32m'%reload_kedro \u001b[0m\u001b[32m<\u001b[0m\u001b[32mproject_root\u001b[0m\u001b[32m>\u001b[0m\u001b[32m'\u001b[0m            \u001b[2m               \u001b[0m\n"
      ]
     },
     "metadata": {},
     "output_type": "display_data"
    },
    {
     "data": {
      "text/html": [
       "<pre style=\"white-space:pre;overflow-x:auto;line-height:normal;font-family:Menlo,'DejaVu Sans Mono',consolas,'Courier New',monospace\"><span style=\"color: #7fbfbf; text-decoration-color: #7fbfbf\">[07/08/24 15:55:28] </span><span style=\"color: #800000; text-decoration-color: #800000\">WARNING </span> C:\\Users\\carga\\AppData\\Local\\Packages\\PythonSoftwareFoundation.Python. <span style=\"color: #7f7f7f; text-decoration-color: #7f7f7f\">warnings.py:109</span>\n",
       "<span style=\"color: #7fbfbf; text-decoration-color: #7fbfbf\">                    </span>         <span style=\"color: #008080; text-decoration-color: #008080; font-weight: bold\">3.</span>8_qbz5n2kfra8p0\\LocalCache\\local-packages\\Python38\\site-packages\\ked <span style=\"color: #7f7f7f; text-decoration-color: #7f7f7f\">               </span>\n",
       "<span style=\"color: #7fbfbf; text-decoration-color: #7fbfbf\">                    </span>         ro_viz\\integrations\\kedro\\hooks.py:<span style=\"color: #008080; text-decoration-color: #008080; font-weight: bold\">13</span>: KedroDeprecationWarning:        <span style=\"color: #7f7f7f; text-decoration-color: #7f7f7f\">               </span>\n",
       "<span style=\"color: #7fbfbf; text-decoration-color: #7fbfbf\">                    </span>         <span style=\"color: #008000; text-decoration-color: #008000\">'TRANSCODING_SEPARATOR'</span> has been moved to                              <span style=\"color: #7f7f7f; text-decoration-color: #7f7f7f\">               </span>\n",
       "<span style=\"color: #7fbfbf; text-decoration-color: #7fbfbf\">                    </span>         <span style=\"color: #008000; text-decoration-color: #008000\">'kedro.pipeline.transcoding'</span>, and the alias will be removed in Kedro   <span style=\"color: #7f7f7f; text-decoration-color: #7f7f7f\">               </span>\n",
       "<span style=\"color: #7fbfbf; text-decoration-color: #7fbfbf\">                    </span>         <span style=\"color: #008080; text-decoration-color: #008080; font-weight: bold\">0.20</span>.<span style=\"color: #008080; text-decoration-color: #008080; font-weight: bold\">0</span>                                                                 <span style=\"color: #7f7f7f; text-decoration-color: #7f7f7f\">               </span>\n",
       "<span style=\"color: #7fbfbf; text-decoration-color: #7fbfbf\">                    </span>           from kedro.pipeline.pipeline import TRANSCODING_SEPARATOR,           <span style=\"color: #7f7f7f; text-decoration-color: #7f7f7f\">               </span>\n",
       "<span style=\"color: #7fbfbf; text-decoration-color: #7fbfbf\">                    </span>         _strip_transcoding                                                     <span style=\"color: #7f7f7f; text-decoration-color: #7f7f7f\">               </span>\n",
       "<span style=\"color: #7fbfbf; text-decoration-color: #7fbfbf\">                    </span>                                                                                <span style=\"color: #7f7f7f; text-decoration-color: #7f7f7f\">               </span>\n",
       "</pre>\n"
      ],
      "text/plain": [
       "\u001b[2;36m[07/08/24 15:55:28]\u001b[0m\u001b[2;36m \u001b[0m\u001b[31mWARNING \u001b[0m C:\\Users\\carga\\AppData\\Local\\Packages\\PythonSoftwareFoundation.Python. \u001b[2mwarnings.py\u001b[0m\u001b[2m:\u001b[0m\u001b[2m109\u001b[0m\n",
       "\u001b[2;36m                    \u001b[0m         \u001b[1;36m3.\u001b[0m8_qbz5n2kfra8p0\\LocalCache\\local-packages\\Python38\\site-packages\\ked \u001b[2m               \u001b[0m\n",
       "\u001b[2;36m                    \u001b[0m         ro_viz\\integrations\\kedro\\hooks.py:\u001b[1;36m13\u001b[0m: KedroDeprecationWarning:        \u001b[2m               \u001b[0m\n",
       "\u001b[2;36m                    \u001b[0m         \u001b[32m'TRANSCODING_SEPARATOR'\u001b[0m has been moved to                              \u001b[2m               \u001b[0m\n",
       "\u001b[2;36m                    \u001b[0m         \u001b[32m'kedro.pipeline.transcoding'\u001b[0m, and the alias will be removed in Kedro   \u001b[2m               \u001b[0m\n",
       "\u001b[2;36m                    \u001b[0m         \u001b[1;36m0.20\u001b[0m.\u001b[1;36m0\u001b[0m                                                                 \u001b[2m               \u001b[0m\n",
       "\u001b[2;36m                    \u001b[0m           from kedro.pipeline.pipeline import TRANSCODING_SEPARATOR,           \u001b[2m               \u001b[0m\n",
       "\u001b[2;36m                    \u001b[0m         _strip_transcoding                                                     \u001b[2m               \u001b[0m\n",
       "\u001b[2;36m                    \u001b[0m                                                                                \u001b[2m               \u001b[0m\n"
      ]
     },
     "metadata": {},
     "output_type": "display_data"
    },
    {
     "data": {
      "text/html": [
       "<pre style=\"white-space:pre;overflow-x:auto;line-height:normal;font-family:Menlo,'DejaVu Sans Mono',consolas,'Courier New',monospace\"><span style=\"color: #7fbfbf; text-decoration-color: #7fbfbf\">[07/08/24 15:55:31] </span><span style=\"color: #800000; text-decoration-color: #800000\">WARNING </span> C:\\Users\\carga\\AppData\\Local\\Packages\\PythonSoftwareFoundation.Python. <span style=\"color: #7f7f7f; text-decoration-color: #7f7f7f\">warnings.py:109</span>\n",
       "<span style=\"color: #7fbfbf; text-decoration-color: #7fbfbf\">                    </span>         <span style=\"color: #008080; text-decoration-color: #008080; font-weight: bold\">3.</span>8_qbz5n2kfra8p0\\LocalCache\\local-packages\\Python38\\site-packages\\laz <span style=\"color: #7f7f7f; text-decoration-color: #7f7f7f\">               </span>\n",
       "<span style=\"color: #7fbfbf; text-decoration-color: #7fbfbf\">                    </span>         y_loader\\__init__.py:<span style=\"color: #008080; text-decoration-color: #008080; font-weight: bold\">83</span>: KedroDeprecationWarning: <span style=\"color: #008000; text-decoration-color: #008000\">'GeoJSONDataSet'</span> has <span style=\"color: #7f7f7f; text-decoration-color: #7f7f7f\">               </span>\n",
       "<span style=\"color: #7fbfbf; text-decoration-color: #7fbfbf\">                    </span>         been renamed to <span style=\"color: #008000; text-decoration-color: #008000\">'GeoJSONDataset'</span>, and the alias will be removed in     <span style=\"color: #7f7f7f; text-decoration-color: #7f7f7f\">               </span>\n",
       "<span style=\"color: #7fbfbf; text-decoration-color: #7fbfbf\">                    </span>         Kedro-Datasets <span style=\"color: #008080; text-decoration-color: #008080; font-weight: bold\">2.0</span>.<span style=\"color: #008080; text-decoration-color: #008080; font-weight: bold\">0</span>                                                   <span style=\"color: #7f7f7f; text-decoration-color: #7f7f7f\">               </span>\n",
       "<span style=\"color: #7fbfbf; text-decoration-color: #7fbfbf\">                    </span>           attr = <span style=\"color: #800080; text-decoration-color: #800080; font-weight: bold\">getattr</span><span style=\"font-weight: bold\">(</span>submod, name<span style=\"font-weight: bold\">)</span>                                         <span style=\"color: #7f7f7f; text-decoration-color: #7f7f7f\">               </span>\n",
       "<span style=\"color: #7fbfbf; text-decoration-color: #7fbfbf\">                    </span>                                                                                <span style=\"color: #7f7f7f; text-decoration-color: #7f7f7f\">               </span>\n",
       "</pre>\n"
      ],
      "text/plain": [
       "\u001b[2;36m[07/08/24 15:55:31]\u001b[0m\u001b[2;36m \u001b[0m\u001b[31mWARNING \u001b[0m C:\\Users\\carga\\AppData\\Local\\Packages\\PythonSoftwareFoundation.Python. \u001b[2mwarnings.py\u001b[0m\u001b[2m:\u001b[0m\u001b[2m109\u001b[0m\n",
       "\u001b[2;36m                    \u001b[0m         \u001b[1;36m3.\u001b[0m8_qbz5n2kfra8p0\\LocalCache\\local-packages\\Python38\\site-packages\\laz \u001b[2m               \u001b[0m\n",
       "\u001b[2;36m                    \u001b[0m         y_loader\\__init__.py:\u001b[1;36m83\u001b[0m: KedroDeprecationWarning: \u001b[32m'GeoJSONDataSet'\u001b[0m has \u001b[2m               \u001b[0m\n",
       "\u001b[2;36m                    \u001b[0m         been renamed to \u001b[32m'GeoJSONDataset'\u001b[0m, and the alias will be removed in     \u001b[2m               \u001b[0m\n",
       "\u001b[2;36m                    \u001b[0m         Kedro-Datasets \u001b[1;36m2.0\u001b[0m.\u001b[1;36m0\u001b[0m                                                   \u001b[2m               \u001b[0m\n",
       "\u001b[2;36m                    \u001b[0m           attr = \u001b[1;35mgetattr\u001b[0m\u001b[1m(\u001b[0msubmod, name\u001b[1m)\u001b[0m                                         \u001b[2m               \u001b[0m\n",
       "\u001b[2;36m                    \u001b[0m                                                                                \u001b[2m               \u001b[0m\n"
      ]
     },
     "metadata": {},
     "output_type": "display_data"
    },
    {
     "data": {
      "text/html": [
       "<pre style=\"white-space:pre;overflow-x:auto;line-height:normal;font-family:Menlo,'DejaVu Sans Mono',consolas,'Courier New',monospace\"><span style=\"color: #7fbfbf; text-decoration-color: #7fbfbf\">[07/08/24 15:55:32] </span><span style=\"color: #000080; text-decoration-color: #000080\">INFO    </span> Kedro project montrealfirepredicition                                  <a href=\"file://C:\\Users\\carga\\AppData\\Local\\Packages\\PythonSoftwareFoundation.Python.3.8_qbz5n2kfra8p0\\LocalCache\\local-packages\\Python38\\site-packages\\kedro\\ipython\\__init__.py\" target=\"_blank\"><span style=\"color: #7f7f7f; text-decoration-color: #7f7f7f\">__init__.py</span></a><span style=\"color: #7f7f7f; text-decoration-color: #7f7f7f\">:</span><a href=\"file://C:\\Users\\carga\\AppData\\Local\\Packages\\PythonSoftwareFoundation.Python.3.8_qbz5n2kfra8p0\\LocalCache\\local-packages\\Python38\\site-packages\\kedro\\ipython\\__init__.py#141\" target=\"_blank\"><span style=\"color: #7f7f7f; text-decoration-color: #7f7f7f\">141</span></a>\n",
       "</pre>\n"
      ],
      "text/plain": [
       "\u001b[2;36m[07/08/24 15:55:32]\u001b[0m\u001b[2;36m \u001b[0m\u001b[34mINFO    \u001b[0m Kedro project montrealfirepredicition                                  \u001b]8;id=712003;file://C:\\Users\\carga\\AppData\\Local\\Packages\\PythonSoftwareFoundation.Python.3.8_qbz5n2kfra8p0\\LocalCache\\local-packages\\Python38\\site-packages\\kedro\\ipython\\__init__.py\u001b\\\u001b[2m__init__.py\u001b[0m\u001b]8;;\u001b\\\u001b[2m:\u001b[0m\u001b]8;id=383379;file://C:\\Users\\carga\\AppData\\Local\\Packages\\PythonSoftwareFoundation.Python.3.8_qbz5n2kfra8p0\\LocalCache\\local-packages\\Python38\\site-packages\\kedro\\ipython\\__init__.py#141\u001b\\\u001b[2m141\u001b[0m\u001b]8;;\u001b\\\n"
      ]
     },
     "metadata": {},
     "output_type": "display_data"
    },
    {
     "data": {
      "text/html": [
       "<pre style=\"white-space:pre;overflow-x:auto;line-height:normal;font-family:Menlo,'DejaVu Sans Mono',consolas,'Courier New',monospace\"><span style=\"color: #7fbfbf; text-decoration-color: #7fbfbf\">                    </span><span style=\"color: #000080; text-decoration-color: #000080\">INFO    </span> Defined global variable <span style=\"color: #008000; text-decoration-color: #008000\">'context'</span>, <span style=\"color: #008000; text-decoration-color: #008000\">'session'</span>, <span style=\"color: #008000; text-decoration-color: #008000\">'catalog'</span> and            <a href=\"file://C:\\Users\\carga\\AppData\\Local\\Packages\\PythonSoftwareFoundation.Python.3.8_qbz5n2kfra8p0\\LocalCache\\local-packages\\Python38\\site-packages\\kedro\\ipython\\__init__.py\" target=\"_blank\"><span style=\"color: #7f7f7f; text-decoration-color: #7f7f7f\">__init__.py</span></a><span style=\"color: #7f7f7f; text-decoration-color: #7f7f7f\">:</span><a href=\"file://C:\\Users\\carga\\AppData\\Local\\Packages\\PythonSoftwareFoundation.Python.3.8_qbz5n2kfra8p0\\LocalCache\\local-packages\\Python38\\site-packages\\kedro\\ipython\\__init__.py#142\" target=\"_blank\"><span style=\"color: #7f7f7f; text-decoration-color: #7f7f7f\">142</span></a>\n",
       "<span style=\"color: #7fbfbf; text-decoration-color: #7fbfbf\">                    </span>         <span style=\"color: #008000; text-decoration-color: #008000\">'pipelines'</span>                                                            <span style=\"color: #7f7f7f; text-decoration-color: #7f7f7f\">               </span>\n",
       "</pre>\n"
      ],
      "text/plain": [
       "\u001b[2;36m                   \u001b[0m\u001b[2;36m \u001b[0m\u001b[34mINFO    \u001b[0m Defined global variable \u001b[32m'context'\u001b[0m, \u001b[32m'session'\u001b[0m, \u001b[32m'catalog'\u001b[0m and            \u001b]8;id=829648;file://C:\\Users\\carga\\AppData\\Local\\Packages\\PythonSoftwareFoundation.Python.3.8_qbz5n2kfra8p0\\LocalCache\\local-packages\\Python38\\site-packages\\kedro\\ipython\\__init__.py\u001b\\\u001b[2m__init__.py\u001b[0m\u001b]8;;\u001b\\\u001b[2m:\u001b[0m\u001b]8;id=843451;file://C:\\Users\\carga\\AppData\\Local\\Packages\\PythonSoftwareFoundation.Python.3.8_qbz5n2kfra8p0\\LocalCache\\local-packages\\Python38\\site-packages\\kedro\\ipython\\__init__.py#142\u001b\\\u001b[2m142\u001b[0m\u001b]8;;\u001b\\\n",
       "\u001b[2;36m                    \u001b[0m         \u001b[32m'pipelines'\u001b[0m                                                            \u001b[2m               \u001b[0m\n"
      ]
     },
     "metadata": {},
     "output_type": "display_data"
    },
    {
     "data": {
      "text/html": [
       "<pre style=\"white-space:pre;overflow-x:auto;line-height:normal;font-family:Menlo,'DejaVu Sans Mono',consolas,'Courier New',monospace\"><span style=\"color: #7fbfbf; text-decoration-color: #7fbfbf\">[07/08/24 15:55:33] </span><span style=\"color: #800000; text-decoration-color: #800000\">WARNING </span> C:\\Users\\carga\\AppData\\Local\\Packages\\PythonSoftwareFoundation.Python. <span style=\"color: #7f7f7f; text-decoration-color: #7f7f7f\">warnings.py:109</span>\n",
       "<span style=\"color: #7fbfbf; text-decoration-color: #7fbfbf\">                    </span>         <span style=\"color: #008080; text-decoration-color: #008080; font-weight: bold\">3.</span>8_qbz5n2kfra8p0\\LocalCache\\local-packages\\Python38\\site-packages\\ked <span style=\"color: #7f7f7f; text-decoration-color: #7f7f7f\">               </span>\n",
       "<span style=\"color: #7fbfbf; text-decoration-color: #7fbfbf\">                    </span>         ro_viz\\models\\flowchart.py:<span style=\"color: #008080; text-decoration-color: #008080; font-weight: bold\">13</span>: KedroDeprecationWarning:                <span style=\"color: #7f7f7f; text-decoration-color: #7f7f7f\">               </span>\n",
       "<span style=\"color: #7fbfbf; text-decoration-color: #7fbfbf\">                    </span>         <span style=\"color: #008000; text-decoration-color: #008000\">'TRANSCODING_SEPARATOR'</span> has been moved to                              <span style=\"color: #7f7f7f; text-decoration-color: #7f7f7f\">               </span>\n",
       "<span style=\"color: #7fbfbf; text-decoration-color: #7fbfbf\">                    </span>         <span style=\"color: #008000; text-decoration-color: #008000\">'kedro.pipeline.transcoding'</span>, and the alias will be removed in Kedro   <span style=\"color: #7f7f7f; text-decoration-color: #7f7f7f\">               </span>\n",
       "<span style=\"color: #7fbfbf; text-decoration-color: #7fbfbf\">                    </span>         <span style=\"color: #008080; text-decoration-color: #008080; font-weight: bold\">0.20</span>.<span style=\"color: #008080; text-decoration-color: #008080; font-weight: bold\">0</span>                                                                 <span style=\"color: #7f7f7f; text-decoration-color: #7f7f7f\">               </span>\n",
       "<span style=\"color: #7fbfbf; text-decoration-color: #7fbfbf\">                    </span>           from kedro.pipeline.pipeline import TRANSCODING_SEPARATOR,           <span style=\"color: #7f7f7f; text-decoration-color: #7f7f7f\">               </span>\n",
       "<span style=\"color: #7fbfbf; text-decoration-color: #7fbfbf\">                    </span>         _strip_transcoding                                                     <span style=\"color: #7f7f7f; text-decoration-color: #7f7f7f\">               </span>\n",
       "<span style=\"color: #7fbfbf; text-decoration-color: #7fbfbf\">                    </span>                                                                                <span style=\"color: #7f7f7f; text-decoration-color: #7f7f7f\">               </span>\n",
       "</pre>\n"
      ],
      "text/plain": [
       "\u001b[2;36m[07/08/24 15:55:33]\u001b[0m\u001b[2;36m \u001b[0m\u001b[31mWARNING \u001b[0m C:\\Users\\carga\\AppData\\Local\\Packages\\PythonSoftwareFoundation.Python. \u001b[2mwarnings.py\u001b[0m\u001b[2m:\u001b[0m\u001b[2m109\u001b[0m\n",
       "\u001b[2;36m                    \u001b[0m         \u001b[1;36m3.\u001b[0m8_qbz5n2kfra8p0\\LocalCache\\local-packages\\Python38\\site-packages\\ked \u001b[2m               \u001b[0m\n",
       "\u001b[2;36m                    \u001b[0m         ro_viz\\models\\flowchart.py:\u001b[1;36m13\u001b[0m: KedroDeprecationWarning:                \u001b[2m               \u001b[0m\n",
       "\u001b[2;36m                    \u001b[0m         \u001b[32m'TRANSCODING_SEPARATOR'\u001b[0m has been moved to                              \u001b[2m               \u001b[0m\n",
       "\u001b[2;36m                    \u001b[0m         \u001b[32m'kedro.pipeline.transcoding'\u001b[0m, and the alias will be removed in Kedro   \u001b[2m               \u001b[0m\n",
       "\u001b[2;36m                    \u001b[0m         \u001b[1;36m0.20\u001b[0m.\u001b[1;36m0\u001b[0m                                                                 \u001b[2m               \u001b[0m\n",
       "\u001b[2;36m                    \u001b[0m           from kedro.pipeline.pipeline import TRANSCODING_SEPARATOR,           \u001b[2m               \u001b[0m\n",
       "\u001b[2;36m                    \u001b[0m         _strip_transcoding                                                     \u001b[2m               \u001b[0m\n",
       "\u001b[2;36m                    \u001b[0m                                                                                \u001b[2m               \u001b[0m\n"
      ]
     },
     "metadata": {},
     "output_type": "display_data"
    },
    {
     "data": {
      "text/html": [
       "<pre style=\"white-space:pre;overflow-x:auto;line-height:normal;font-family:Menlo,'DejaVu Sans Mono',consolas,'Courier New',monospace\"><span style=\"color: #7fbfbf; text-decoration-color: #7fbfbf\">                    </span><span style=\"color: #800000; text-decoration-color: #800000\">WARNING </span> C:\\Users\\carga\\AppData\\Local\\Packages\\PythonSoftwareFoundation.Python. <span style=\"color: #7f7f7f; text-decoration-color: #7f7f7f\">warnings.py:109</span>\n",
       "<span style=\"color: #7fbfbf; text-decoration-color: #7fbfbf\">                    </span>         <span style=\"color: #008080; text-decoration-color: #008080; font-weight: bold\">3.</span>8_qbz5n2kfra8p0\\LocalCache\\local-packages\\Python38\\site-packages\\ked <span style=\"color: #7f7f7f; text-decoration-color: #7f7f7f\">               </span>\n",
       "<span style=\"color: #7fbfbf; text-decoration-color: #7fbfbf\">                    </span>         ro_viz\\data_access\\repositories\\catalog.py:<span style=\"color: #008080; text-decoration-color: #008080; font-weight: bold\">8</span>: KedroDeprecationWarning: <span style=\"color: #7f7f7f; text-decoration-color: #7f7f7f\">               </span>\n",
       "<span style=\"color: #7fbfbf; text-decoration-color: #7fbfbf\">                    </span>         <span style=\"color: #008000; text-decoration-color: #008000\">'TRANSCODING_SEPARATOR'</span> has been moved to                              <span style=\"color: #7f7f7f; text-decoration-color: #7f7f7f\">               </span>\n",
       "<span style=\"color: #7fbfbf; text-decoration-color: #7fbfbf\">                    </span>         <span style=\"color: #008000; text-decoration-color: #008000\">'kedro.pipeline.transcoding'</span>, and the alias will be removed in Kedro   <span style=\"color: #7f7f7f; text-decoration-color: #7f7f7f\">               </span>\n",
       "<span style=\"color: #7fbfbf; text-decoration-color: #7fbfbf\">                    </span>         <span style=\"color: #008080; text-decoration-color: #008080; font-weight: bold\">0.20</span>.<span style=\"color: #008080; text-decoration-color: #008080; font-weight: bold\">0</span>                                                                 <span style=\"color: #7f7f7f; text-decoration-color: #7f7f7f\">               </span>\n",
       "<span style=\"color: #7fbfbf; text-decoration-color: #7fbfbf\">                    </span>           from kedro.pipeline.pipeline import TRANSCODING_SEPARATOR,           <span style=\"color: #7f7f7f; text-decoration-color: #7f7f7f\">               </span>\n",
       "<span style=\"color: #7fbfbf; text-decoration-color: #7fbfbf\">                    </span>         _strip_transcoding                                                     <span style=\"color: #7f7f7f; text-decoration-color: #7f7f7f\">               </span>\n",
       "<span style=\"color: #7fbfbf; text-decoration-color: #7fbfbf\">                    </span>                                                                                <span style=\"color: #7f7f7f; text-decoration-color: #7f7f7f\">               </span>\n",
       "</pre>\n"
      ],
      "text/plain": [
       "\u001b[2;36m                   \u001b[0m\u001b[2;36m \u001b[0m\u001b[31mWARNING \u001b[0m C:\\Users\\carga\\AppData\\Local\\Packages\\PythonSoftwareFoundation.Python. \u001b[2mwarnings.py\u001b[0m\u001b[2m:\u001b[0m\u001b[2m109\u001b[0m\n",
       "\u001b[2;36m                    \u001b[0m         \u001b[1;36m3.\u001b[0m8_qbz5n2kfra8p0\\LocalCache\\local-packages\\Python38\\site-packages\\ked \u001b[2m               \u001b[0m\n",
       "\u001b[2;36m                    \u001b[0m         ro_viz\\data_access\\repositories\\catalog.py:\u001b[1;36m8\u001b[0m: KedroDeprecationWarning: \u001b[2m               \u001b[0m\n",
       "\u001b[2;36m                    \u001b[0m         \u001b[32m'TRANSCODING_SEPARATOR'\u001b[0m has been moved to                              \u001b[2m               \u001b[0m\n",
       "\u001b[2;36m                    \u001b[0m         \u001b[32m'kedro.pipeline.transcoding'\u001b[0m, and the alias will be removed in Kedro   \u001b[2m               \u001b[0m\n",
       "\u001b[2;36m                    \u001b[0m         \u001b[1;36m0.20\u001b[0m.\u001b[1;36m0\u001b[0m                                                                 \u001b[2m               \u001b[0m\n",
       "\u001b[2;36m                    \u001b[0m           from kedro.pipeline.pipeline import TRANSCODING_SEPARATOR,           \u001b[2m               \u001b[0m\n",
       "\u001b[2;36m                    \u001b[0m         _strip_transcoding                                                     \u001b[2m               \u001b[0m\n",
       "\u001b[2;36m                    \u001b[0m                                                                                \u001b[2m               \u001b[0m\n"
      ]
     },
     "metadata": {},
     "output_type": "display_data"
    },
    {
     "data": {
      "text/html": [
       "<pre style=\"white-space:pre;overflow-x:auto;line-height:normal;font-family:Menlo,'DejaVu Sans Mono',consolas,'Courier New',monospace\"><span style=\"color: #7fbfbf; text-decoration-color: #7fbfbf\">[07/08/24 15:55:37] </span><span style=\"color: #000080; text-decoration-color: #000080\">INFO    </span> Registered line magic <span style=\"color: #008000; text-decoration-color: #008000\">'run_viz'</span>                                        <a href=\"file://C:\\Users\\carga\\AppData\\Local\\Packages\\PythonSoftwareFoundation.Python.3.8_qbz5n2kfra8p0\\LocalCache\\local-packages\\Python38\\site-packages\\kedro\\ipython\\__init__.py\" target=\"_blank\"><span style=\"color: #7f7f7f; text-decoration-color: #7f7f7f\">__init__.py</span></a><span style=\"color: #7f7f7f; text-decoration-color: #7f7f7f\">:</span><a href=\"file://C:\\Users\\carga\\AppData\\Local\\Packages\\PythonSoftwareFoundation.Python.3.8_qbz5n2kfra8p0\\LocalCache\\local-packages\\Python38\\site-packages\\kedro\\ipython\\__init__.py#148\" target=\"_blank\"><span style=\"color: #7f7f7f; text-decoration-color: #7f7f7f\">148</span></a>\n",
       "</pre>\n"
      ],
      "text/plain": [
       "\u001b[2;36m[07/08/24 15:55:37]\u001b[0m\u001b[2;36m \u001b[0m\u001b[34mINFO    \u001b[0m Registered line magic \u001b[32m'run_viz'\u001b[0m                                        \u001b]8;id=815195;file://C:\\Users\\carga\\AppData\\Local\\Packages\\PythonSoftwareFoundation.Python.3.8_qbz5n2kfra8p0\\LocalCache\\local-packages\\Python38\\site-packages\\kedro\\ipython\\__init__.py\u001b\\\u001b[2m__init__.py\u001b[0m\u001b]8;;\u001b\\\u001b[2m:\u001b[0m\u001b]8;id=359900;file://C:\\Users\\carga\\AppData\\Local\\Packages\\PythonSoftwareFoundation.Python.3.8_qbz5n2kfra8p0\\LocalCache\\local-packages\\Python38\\site-packages\\kedro\\ipython\\__init__.py#148\u001b\\\u001b[2m148\u001b[0m\u001b]8;;\u001b\\\n"
      ]
     },
     "metadata": {},
     "output_type": "display_data"
    }
   ],
   "source": [
    "%load_ext kedro.ipython"
   ]
  },
  {
   "cell_type": "code",
   "execution_count": 3,
   "metadata": {},
   "outputs": [
    {
     "data": {
      "text/html": [
       "<pre style=\"white-space:pre;overflow-x:auto;line-height:normal;font-family:Menlo,'DejaVu Sans Mono',consolas,'Courier New',monospace\"><span style=\"color: #7fbfbf; text-decoration-color: #7fbfbf\">                    </span><span style=\"color: #000080; text-decoration-color: #000080\">INFO    </span> Loading data from <span style=\"color: #ff8700; text-decoration-color: #ff8700\">input_table</span> <span style=\"font-weight: bold\">(</span>CSVDataset<span style=\"font-weight: bold\">)</span><span style=\"color: #808000; text-decoration-color: #808000\">...</span>                      <a href=\"file://C:\\Users\\carga\\AppData\\Local\\Packages\\PythonSoftwareFoundation.Python.3.8_qbz5n2kfra8p0\\LocalCache\\local-packages\\Python38\\site-packages\\kedro\\io\\data_catalog.py\" target=\"_blank\"><span style=\"color: #7f7f7f; text-decoration-color: #7f7f7f\">data_catalog.py</span></a><span style=\"color: #7f7f7f; text-decoration-color: #7f7f7f\">:</span><a href=\"file://C:\\Users\\carga\\AppData\\Local\\Packages\\PythonSoftwareFoundation.Python.3.8_qbz5n2kfra8p0\\LocalCache\\local-packages\\Python38\\site-packages\\kedro\\io\\data_catalog.py#508\" target=\"_blank\"><span style=\"color: #7f7f7f; text-decoration-color: #7f7f7f\">508</span></a>\n",
       "</pre>\n"
      ],
      "text/plain": [
       "\u001b[2;36m                   \u001b[0m\u001b[2;36m \u001b[0m\u001b[34mINFO    \u001b[0m Loading data from \u001b[38;5;208minput_table\u001b[0m \u001b[1m(\u001b[0mCSVDataset\u001b[1m)\u001b[0m\u001b[33m...\u001b[0m                      \u001b]8;id=731032;file://C:\\Users\\carga\\AppData\\Local\\Packages\\PythonSoftwareFoundation.Python.3.8_qbz5n2kfra8p0\\LocalCache\\local-packages\\Python38\\site-packages\\kedro\\io\\data_catalog.py\u001b\\\u001b[2mdata_catalog.py\u001b[0m\u001b]8;;\u001b\\\u001b[2m:\u001b[0m\u001b]8;id=518603;file://C:\\Users\\carga\\AppData\\Local\\Packages\\PythonSoftwareFoundation.Python.3.8_qbz5n2kfra8p0\\LocalCache\\local-packages\\Python38\\site-packages\\kedro\\io\\data_catalog.py#508\u001b\\\u001b[2m508\u001b[0m\u001b]8;;\u001b\\\n"
      ]
     },
     "metadata": {},
     "output_type": "display_data"
    },
    {
     "data": {
      "text/html": [
       "<pre style=\"white-space:pre;overflow-x:auto;line-height:normal;font-family:Menlo,'DejaVu Sans Mono',consolas,'Courier New',monospace\"><span style=\"color: #7fbfbf; text-decoration-color: #7fbfbf\">[07/08/24 15:56:05] </span><span style=\"color: #800000; text-decoration-color: #800000\">WARNING </span> C:\\Users\\carga\\AppData\\Local\\Packages\\PythonSoftwareFoundation.Python. <span style=\"color: #7f7f7f; text-decoration-color: #7f7f7f\">warnings.py:109</span>\n",
       "<span style=\"color: #7fbfbf; text-decoration-color: #7fbfbf\">                    </span>         <span style=\"color: #008080; text-decoration-color: #008080; font-weight: bold\">3.</span>8_qbz5n2kfra8p0\\LocalCache\\local-packages\\Python38\\site-packages\\ked <span style=\"color: #7f7f7f; text-decoration-color: #7f7f7f\">               </span>\n",
       "<span style=\"color: #7fbfbf; text-decoration-color: #7fbfbf\">                    </span>         ro_datasets\\pandas\\csv_dataset.py:<span style=\"color: #008080; text-decoration-color: #008080; font-weight: bold\">163</span>: DtypeWarning: Columns           <span style=\"color: #7f7f7f; text-decoration-color: #7f7f7f\">               </span>\n",
       "<span style=\"color: #7fbfbf; text-decoration-color: #7fbfbf\">                    </span>         <span style=\"font-weight: bold\">(</span><span style=\"color: #008080; text-decoration-color: #008080; font-weight: bold\">1</span>,<span style=\"color: #008080; text-decoration-color: #008080; font-weight: bold\">2</span>,<span style=\"color: #008080; text-decoration-color: #008080; font-weight: bold\">5</span>,<span style=\"color: #008080; text-decoration-color: #008080; font-weight: bold\">6</span>,<span style=\"color: #008080; text-decoration-color: #008080; font-weight: bold\">11</span>,<span style=\"color: #008080; text-decoration-color: #008080; font-weight: bold\">21</span>,<span style=\"color: #008080; text-decoration-color: #008080; font-weight: bold\">22</span>,<span style=\"color: #008080; text-decoration-color: #008080; font-weight: bold\">25</span><span style=\"font-weight: bold\">)</span> have mixed types. Specify dtype option on import <span style=\"color: #7f7f7f; text-decoration-color: #7f7f7f\">               </span>\n",
       "<span style=\"color: #7fbfbf; text-decoration-color: #7fbfbf\">                    </span>         or set <span style=\"color: #808000; text-decoration-color: #808000\">low_memory</span>=<span style=\"color: #ff0000; text-decoration-color: #ff0000; font-style: italic\">False</span>.                                               <span style=\"color: #7f7f7f; text-decoration-color: #7f7f7f\">               </span>\n",
       "<span style=\"color: #7fbfbf; text-decoration-color: #7fbfbf\">                    </span>           return <span style=\"color: #800080; text-decoration-color: #800080; font-weight: bold\">pd.read_csv</span><span style=\"font-weight: bold\">(</span>load_path, **self._load_args<span style=\"font-weight: bold\">)</span>                     <span style=\"color: #7f7f7f; text-decoration-color: #7f7f7f\">               </span>\n",
       "<span style=\"color: #7fbfbf; text-decoration-color: #7fbfbf\">                    </span>                                                                                <span style=\"color: #7f7f7f; text-decoration-color: #7f7f7f\">               </span>\n",
       "</pre>\n"
      ],
      "text/plain": [
       "\u001b[2;36m[07/08/24 15:56:05]\u001b[0m\u001b[2;36m \u001b[0m\u001b[31mWARNING \u001b[0m C:\\Users\\carga\\AppData\\Local\\Packages\\PythonSoftwareFoundation.Python. \u001b[2mwarnings.py\u001b[0m\u001b[2m:\u001b[0m\u001b[2m109\u001b[0m\n",
       "\u001b[2;36m                    \u001b[0m         \u001b[1;36m3.\u001b[0m8_qbz5n2kfra8p0\\LocalCache\\local-packages\\Python38\\site-packages\\ked \u001b[2m               \u001b[0m\n",
       "\u001b[2;36m                    \u001b[0m         ro_datasets\\pandas\\csv_dataset.py:\u001b[1;36m163\u001b[0m: DtypeWarning: Columns           \u001b[2m               \u001b[0m\n",
       "\u001b[2;36m                    \u001b[0m         \u001b[1m(\u001b[0m\u001b[1;36m1\u001b[0m,\u001b[1;36m2\u001b[0m,\u001b[1;36m5\u001b[0m,\u001b[1;36m6\u001b[0m,\u001b[1;36m11\u001b[0m,\u001b[1;36m21\u001b[0m,\u001b[1;36m22\u001b[0m,\u001b[1;36m25\u001b[0m\u001b[1m)\u001b[0m have mixed types. Specify dtype option on import \u001b[2m               \u001b[0m\n",
       "\u001b[2;36m                    \u001b[0m         or set \u001b[33mlow_memory\u001b[0m=\u001b[3;91mFalse\u001b[0m.                                               \u001b[2m               \u001b[0m\n",
       "\u001b[2;36m                    \u001b[0m           return \u001b[1;35mpd.read_csv\u001b[0m\u001b[1m(\u001b[0mload_path, **self._load_args\u001b[1m)\u001b[0m                     \u001b[2m               \u001b[0m\n",
       "\u001b[2;36m                    \u001b[0m                                                                                \u001b[2m               \u001b[0m\n"
      ]
     },
     "metadata": {},
     "output_type": "display_data"
    }
   ],
   "source": [
    "table = catalog.load('input_table')"
   ]
  },
  {
   "cell_type": "code",
   "execution_count": 4,
   "metadata": {},
   "outputs": [
    {
     "data": {
      "text/html": [
       "<pre style=\"white-space:pre;overflow-x:auto;line-height:normal;font-family:Menlo,'DejaVu Sans Mono',consolas,'Courier New',monospace\"></pre>\n"
      ],
      "text/plain": []
     },
     "metadata": {},
     "output_type": "display_data"
    },
    {
     "data": {
      "text/plain": [
       "\n",
       "\u001b[1;35mIndex\u001b[0m\u001b[1m(\u001b[0m\u001b[1m[\u001b[0m\u001b[32m'DISPATCHED_FIRE_STATION_ID'\u001b[0m, \u001b[32m'INCIDENT_CATEGORY'\u001b[0m, \u001b[32m'INCIDENT_TYPE'\u001b[0m,\n",
       "       \u001b[32m'UNITS_DEPLOYED'\u001b[0m, \u001b[32m'INCIDENT_ID'\u001b[0m, \u001b[32m'CREATION_DATE'\u001b[0m, \u001b[32m'CREATION_TIME'\u001b[0m,\n",
       "       \u001b[32m'day_of_week'\u001b[0m, \u001b[32m'month'\u001b[0m, \u001b[32m'year'\u001b[0m, \u001b[32m'hour'\u001b[0m, \u001b[32m'time_of_day'\u001b[0m, \u001b[32m'index_mesh'\u001b[0m,\n",
       "       \u001b[32m'FIRE_STATION_ID'\u001b[0m, \u001b[32m'grid_long'\u001b[0m, \u001b[32m'grid_lat'\u001b[0m, \u001b[32m'ASSESSMENT_ID'\u001b[0m,\n",
       "       \u001b[32m'ABOVE_GROUND_FLOORS'\u001b[0m, \u001b[32m'HOUSING_UNITS'\u001b[0m, \u001b[32m'YEAR_CONSTRUCTION'\u001b[0m, \u001b[32m'USE_CODE'\u001b[0m,\n",
       "       \u001b[32m'USE_DESCRIPTION'\u001b[0m, \u001b[32m'USE_CATEGORY'\u001b[0m, \u001b[32m'AREA_LAND'\u001b[0m, \u001b[32m'AREA_BUILDING'\u001b[0m,\n",
       "       \u001b[32m'DGUID'\u001b[0m, \u001b[32m'AVERAGE_FAMILY_SIZE'\u001b[0m, \u001b[32m'POPULATION_DENSITY'\u001b[0m, \u001b[32m'2021_POPULATION'\u001b[0m,\n",
       "       \u001b[32m'building_age'\u001b[0m, \u001b[32m'LATITUDE_firestation'\u001b[0m, \u001b[32m'LONGITUDE_firestation'\u001b[0m,\n",
       "       \u001b[32m'distance_to_fire_station'\u001b[0m, \u001b[32m'is_fire'\u001b[0m\u001b[1m]\u001b[0m,\n",
       "      \u001b[33mdtype\u001b[0m=\u001b[32m'object'\u001b[0m\u001b[1m)\u001b[0m"
      ]
     },
     "execution_count": 4,
     "metadata": {},
     "output_type": "execute_result"
    }
   ],
   "source": [
    "table.columns"
   ]
  },
  {
   "cell_type": "code",
   "execution_count": 5,
   "metadata": {},
   "outputs": [
    {
     "data": {
      "text/html": [
       "<pre style=\"white-space:pre;overflow-x:auto;line-height:normal;font-family:Menlo,'DejaVu Sans Mono',consolas,'Courier New',monospace\"></pre>\n"
      ],
      "text/plain": []
     },
     "metadata": {},
     "output_type": "display_data"
    },
    {
     "data": {
      "text/html": [
       "<div>\n",
       "<style scoped>\n",
       "    .dataframe tbody tr th:only-of-type {\n",
       "        vertical-align: middle;\n",
       "    }\n",
       "\n",
       "    .dataframe tbody tr th {\n",
       "        vertical-align: top;\n",
       "    }\n",
       "\n",
       "    .dataframe thead th {\n",
       "        text-align: right;\n",
       "    }\n",
       "</style>\n",
       "<table border=\"1\" class=\"dataframe\">\n",
       "  <thead>\n",
       "    <tr style=\"text-align: right;\">\n",
       "      <th></th>\n",
       "      <th>DISPATCHED_FIRE_STATION_ID</th>\n",
       "      <th>INCIDENT_CATEGORY</th>\n",
       "      <th>INCIDENT_TYPE</th>\n",
       "      <th>UNITS_DEPLOYED</th>\n",
       "      <th>INCIDENT_ID</th>\n",
       "      <th>CREATION_DATE</th>\n",
       "      <th>CREATION_TIME</th>\n",
       "      <th>day_of_week</th>\n",
       "      <th>month</th>\n",
       "      <th>year</th>\n",
       "      <th>...</th>\n",
       "      <th>AREA_BUILDING</th>\n",
       "      <th>DGUID</th>\n",
       "      <th>AVERAGE_FAMILY_SIZE</th>\n",
       "      <th>POPULATION_DENSITY</th>\n",
       "      <th>2021_POPULATION</th>\n",
       "      <th>building_age</th>\n",
       "      <th>LATITUDE_firestation</th>\n",
       "      <th>LONGITUDE_firestation</th>\n",
       "      <th>distance_to_fire_station</th>\n",
       "      <th>is_fire</th>\n",
       "    </tr>\n",
       "  </thead>\n",
       "  <tbody>\n",
       "    <tr>\n",
       "      <th>0</th>\n",
       "      <td>18.0</td>\n",
       "      <td>Sans incendie</td>\n",
       "      <td>Inondation</td>\n",
       "      <td>1.0</td>\n",
       "      <td>0.0</td>\n",
       "      <td>2005-01-01</td>\n",
       "      <td>00:03:47</td>\n",
       "      <td>5.0</td>\n",
       "      <td>1.0</td>\n",
       "      <td>2005.0</td>\n",
       "      <td>...</td>\n",
       "      <td>NaN</td>\n",
       "      <td>NaN</td>\n",
       "      <td>NaN</td>\n",
       "      <td>NaN</td>\n",
       "      <td>NaN</td>\n",
       "      <td>NaN</td>\n",
       "      <td>45.616611</td>\n",
       "      <td>-73.621505</td>\n",
       "      <td>0.477624</td>\n",
       "      <td>False</td>\n",
       "    </tr>\n",
       "    <tr>\n",
       "      <th>1</th>\n",
       "      <td>18.0</td>\n",
       "      <td>Sans incendie</td>\n",
       "      <td>Inondation</td>\n",
       "      <td>1.0</td>\n",
       "      <td>844.0</td>\n",
       "      <td>2005-01-07</td>\n",
       "      <td>14:29:14</td>\n",
       "      <td>4.0</td>\n",
       "      <td>1.0</td>\n",
       "      <td>2005.0</td>\n",
       "      <td>...</td>\n",
       "      <td>NaN</td>\n",
       "      <td>NaN</td>\n",
       "      <td>NaN</td>\n",
       "      <td>NaN</td>\n",
       "      <td>NaN</td>\n",
       "      <td>NaN</td>\n",
       "      <td>45.616611</td>\n",
       "      <td>-73.621505</td>\n",
       "      <td>0.477624</td>\n",
       "      <td>False</td>\n",
       "    </tr>\n",
       "    <tr>\n",
       "      <th>2</th>\n",
       "      <td>18.0</td>\n",
       "      <td>Sans incendie</td>\n",
       "      <td>Matières dangereuses / 10-22</td>\n",
       "      <td>2.0</td>\n",
       "      <td>1398.0</td>\n",
       "      <td>2005-01-12</td>\n",
       "      <td>17:13:34</td>\n",
       "      <td>2.0</td>\n",
       "      <td>1.0</td>\n",
       "      <td>2005.0</td>\n",
       "      <td>...</td>\n",
       "      <td>NaN</td>\n",
       "      <td>NaN</td>\n",
       "      <td>NaN</td>\n",
       "      <td>NaN</td>\n",
       "      <td>NaN</td>\n",
       "      <td>NaN</td>\n",
       "      <td>45.616611</td>\n",
       "      <td>-73.621505</td>\n",
       "      <td>0.477624</td>\n",
       "      <td>False</td>\n",
       "    </tr>\n",
       "    <tr>\n",
       "      <th>3</th>\n",
       "      <td>18.0</td>\n",
       "      <td>Sans incendie</td>\n",
       "      <td>10-22 sans feu</td>\n",
       "      <td>1.0</td>\n",
       "      <td>2733.0</td>\n",
       "      <td>2005-01-21</td>\n",
       "      <td>13:15:29</td>\n",
       "      <td>4.0</td>\n",
       "      <td>1.0</td>\n",
       "      <td>2005.0</td>\n",
       "      <td>...</td>\n",
       "      <td>NaN</td>\n",
       "      <td>NaN</td>\n",
       "      <td>NaN</td>\n",
       "      <td>NaN</td>\n",
       "      <td>NaN</td>\n",
       "      <td>NaN</td>\n",
       "      <td>45.616611</td>\n",
       "      <td>-73.621505</td>\n",
       "      <td>0.477624</td>\n",
       "      <td>False</td>\n",
       "    </tr>\n",
       "    <tr>\n",
       "      <th>4</th>\n",
       "      <td>18.0</td>\n",
       "      <td>Sans incendie</td>\n",
       "      <td>Odeur suspecte - gaz</td>\n",
       "      <td>1.0</td>\n",
       "      <td>2793.0</td>\n",
       "      <td>2005-01-21</td>\n",
       "      <td>18:17:47</td>\n",
       "      <td>4.0</td>\n",
       "      <td>1.0</td>\n",
       "      <td>2005.0</td>\n",
       "      <td>...</td>\n",
       "      <td>NaN</td>\n",
       "      <td>NaN</td>\n",
       "      <td>NaN</td>\n",
       "      <td>NaN</td>\n",
       "      <td>NaN</td>\n",
       "      <td>NaN</td>\n",
       "      <td>45.616611</td>\n",
       "      <td>-73.621505</td>\n",
       "      <td>0.477624</td>\n",
       "      <td>False</td>\n",
       "    </tr>\n",
       "  </tbody>\n",
       "</table>\n",
       "<p>5 rows × 34 columns</p>\n",
       "</div>"
      ],
      "text/plain": [
       "\n",
       "   DISPATCHED_FIRE_STATION_ID INCIDENT_CATEGORY                 INCIDENT_TYPE  \\\n",
       "\u001b[1;36m0\u001b[0m                        \u001b[1;36m18.0\u001b[0m     Sans incendie                    Inondation   \n",
       "\u001b[1;36m1\u001b[0m                        \u001b[1;36m18.0\u001b[0m     Sans incendie                    Inondation   \n",
       "\u001b[1;36m2\u001b[0m                        \u001b[1;36m18.0\u001b[0m     Sans incendie  Matières dangereuses \u001b[35m/\u001b[0m \u001b[1;36m10\u001b[0m-\u001b[1;36m22\u001b[0m   \n",
       "\u001b[1;36m3\u001b[0m                        \u001b[1;36m18.0\u001b[0m     Sans incendie                \u001b[1;36m10\u001b[0m-\u001b[1;36m22\u001b[0m sans feu   \n",
       "\u001b[1;36m4\u001b[0m                        \u001b[1;36m18.0\u001b[0m     Sans incendie          Odeur suspecte - gaz   \n",
       "\n",
       "   UNITS_DEPLOYED  INCIDENT_ID CREATION_DATE CREATION_TIME  day_of_week  \\\n",
       "\u001b[1;36m0\u001b[0m             \u001b[1;36m1.0\u001b[0m          \u001b[1;36m0.0\u001b[0m    \u001b[1;36m2005\u001b[0m-\u001b[1;36m01\u001b[0m-\u001b[1;36m01\u001b[0m      \u001b[1;92m00:03:47\u001b[0m          \u001b[1;36m5.0\u001b[0m   \n",
       "\u001b[1;36m1\u001b[0m             \u001b[1;36m1.0\u001b[0m        \u001b[1;36m844.0\u001b[0m    \u001b[1;36m2005\u001b[0m-\u001b[1;36m01\u001b[0m-\u001b[1;36m07\u001b[0m      \u001b[1;92m14:29:14\u001b[0m          \u001b[1;36m4.0\u001b[0m   \n",
       "\u001b[1;36m2\u001b[0m             \u001b[1;36m2.0\u001b[0m       \u001b[1;36m1398.0\u001b[0m    \u001b[1;36m2005\u001b[0m-\u001b[1;36m01\u001b[0m-\u001b[1;36m12\u001b[0m      \u001b[1;92m17:13:34\u001b[0m          \u001b[1;36m2.0\u001b[0m   \n",
       "\u001b[1;36m3\u001b[0m             \u001b[1;36m1.0\u001b[0m       \u001b[1;36m2733.0\u001b[0m    \u001b[1;36m2005\u001b[0m-\u001b[1;36m01\u001b[0m-\u001b[1;36m21\u001b[0m      \u001b[1;92m13:15:29\u001b[0m          \u001b[1;36m4.0\u001b[0m   \n",
       "\u001b[1;36m4\u001b[0m             \u001b[1;36m1.0\u001b[0m       \u001b[1;36m2793.0\u001b[0m    \u001b[1;36m2005\u001b[0m-\u001b[1;36m01\u001b[0m-\u001b[1;36m21\u001b[0m      \u001b[1;92m18:17:47\u001b[0m          \u001b[1;36m4.0\u001b[0m   \n",
       "\n",
       "   month    year  \u001b[33m...\u001b[0m  AREA_BUILDING DGUID  AVERAGE_FAMILY_SIZE  \\\n",
       "\u001b[1;36m0\u001b[0m    \u001b[1;36m1.0\u001b[0m  \u001b[1;36m2005.0\u001b[0m  \u001b[33m...\u001b[0m            NaN   NaN                  NaN   \n",
       "\u001b[1;36m1\u001b[0m    \u001b[1;36m1.0\u001b[0m  \u001b[1;36m2005.0\u001b[0m  \u001b[33m...\u001b[0m            NaN   NaN                  NaN   \n",
       "\u001b[1;36m2\u001b[0m    \u001b[1;36m1.0\u001b[0m  \u001b[1;36m2005.0\u001b[0m  \u001b[33m...\u001b[0m            NaN   NaN                  NaN   \n",
       "\u001b[1;36m3\u001b[0m    \u001b[1;36m1.0\u001b[0m  \u001b[1;36m2005.0\u001b[0m  \u001b[33m...\u001b[0m            NaN   NaN                  NaN   \n",
       "\u001b[1;36m4\u001b[0m    \u001b[1;36m1.0\u001b[0m  \u001b[1;36m2005.0\u001b[0m  \u001b[33m...\u001b[0m            NaN   NaN                  NaN   \n",
       "\n",
       "   POPULATION_DENSITY  2021_POPULATION  building_age  LATITUDE_firestation  \\\n",
       "\u001b[1;36m0\u001b[0m                 NaN              NaN           NaN             \u001b[1;36m45.616611\u001b[0m   \n",
       "\u001b[1;36m1\u001b[0m                 NaN              NaN           NaN             \u001b[1;36m45.616611\u001b[0m   \n",
       "\u001b[1;36m2\u001b[0m                 NaN              NaN           NaN             \u001b[1;36m45.616611\u001b[0m   \n",
       "\u001b[1;36m3\u001b[0m                 NaN              NaN           NaN             \u001b[1;36m45.616611\u001b[0m   \n",
       "\u001b[1;36m4\u001b[0m                 NaN              NaN           NaN             \u001b[1;36m45.616611\u001b[0m   \n",
       "\n",
       "   LONGITUDE_firestation  distance_to_fire_station  is_fire  \n",
       "\u001b[1;36m0\u001b[0m             \u001b[1;36m-73.621505\u001b[0m                  \u001b[1;36m0.477624\u001b[0m    \u001b[3;91mFalse\u001b[0m  \n",
       "\u001b[1;36m1\u001b[0m             \u001b[1;36m-73.621505\u001b[0m                  \u001b[1;36m0.477624\u001b[0m    \u001b[3;91mFalse\u001b[0m  \n",
       "\u001b[1;36m2\u001b[0m             \u001b[1;36m-73.621505\u001b[0m                  \u001b[1;36m0.477624\u001b[0m    \u001b[3;91mFalse\u001b[0m  \n",
       "\u001b[1;36m3\u001b[0m             \u001b[1;36m-73.621505\u001b[0m                  \u001b[1;36m0.477624\u001b[0m    \u001b[3;91mFalse\u001b[0m  \n",
       "\u001b[1;36m4\u001b[0m             \u001b[1;36m-73.621505\u001b[0m                  \u001b[1;36m0.477624\u001b[0m    \u001b[3;91mFalse\u001b[0m  \n",
       "\n",
       "\u001b[1m[\u001b[0m\u001b[1;36m5\u001b[0m rows x \u001b[1;36m34\u001b[0m columns\u001b[1m]\u001b[0m"
      ]
     },
     "execution_count": 5,
     "metadata": {},
     "output_type": "execute_result"
    }
   ],
   "source": [
    "table.head()"
   ]
  },
  {
   "cell_type": "code",
   "execution_count": 6,
   "metadata": {},
   "outputs": [
    {
     "data": {
      "text/html": [
       "<pre style=\"white-space:pre;overflow-x:auto;line-height:normal;font-family:Menlo,'DejaVu Sans Mono',consolas,'Courier New',monospace\"></pre>\n"
      ],
      "text/plain": []
     },
     "metadata": {},
     "output_type": "display_data"
    },
    {
     "data": {
      "text/html": [
       "<div>\n",
       "<style scoped>\n",
       "    .dataframe tbody tr th:only-of-type {\n",
       "        vertical-align: middle;\n",
       "    }\n",
       "\n",
       "    .dataframe tbody tr th {\n",
       "        vertical-align: top;\n",
       "    }\n",
       "\n",
       "    .dataframe thead th {\n",
       "        text-align: right;\n",
       "    }\n",
       "</style>\n",
       "<table border=\"1\" class=\"dataframe\">\n",
       "  <thead>\n",
       "    <tr style=\"text-align: right;\">\n",
       "      <th></th>\n",
       "      <th>DISPATCHED_FIRE_STATION_ID</th>\n",
       "      <th>UNITS_DEPLOYED</th>\n",
       "      <th>INCIDENT_ID</th>\n",
       "      <th>day_of_week</th>\n",
       "      <th>month</th>\n",
       "      <th>year</th>\n",
       "      <th>hour</th>\n",
       "      <th>index_mesh</th>\n",
       "      <th>FIRE_STATION_ID</th>\n",
       "      <th>grid_long</th>\n",
       "      <th>...</th>\n",
       "      <th>USE_CODE</th>\n",
       "      <th>AREA_LAND</th>\n",
       "      <th>AREA_BUILDING</th>\n",
       "      <th>AVERAGE_FAMILY_SIZE</th>\n",
       "      <th>POPULATION_DENSITY</th>\n",
       "      <th>2021_POPULATION</th>\n",
       "      <th>building_age</th>\n",
       "      <th>LATITUDE_firestation</th>\n",
       "      <th>LONGITUDE_firestation</th>\n",
       "      <th>distance_to_fire_station</th>\n",
       "    </tr>\n",
       "  </thead>\n",
       "  <tbody>\n",
       "    <tr>\n",
       "      <th>count</th>\n",
       "      <td>1.922726e+06</td>\n",
       "      <td>1.922726e+06</td>\n",
       "      <td>1.922726e+06</td>\n",
       "      <td>1.922726e+06</td>\n",
       "      <td>1.922726e+06</td>\n",
       "      <td>1.922726e+06</td>\n",
       "      <td>1.922726e+06</td>\n",
       "      <td>2.434594e+06</td>\n",
       "      <td>2.434594e+06</td>\n",
       "      <td>2.434594e+06</td>\n",
       "      <td>...</td>\n",
       "      <td>508655.000000</td>\n",
       "      <td>5.086550e+05</td>\n",
       "      <td>508655.000000</td>\n",
       "      <td>3207.000000</td>\n",
       "      <td>3213.000000</td>\n",
       "      <td>3213.000000</td>\n",
       "      <td>486191.000000</td>\n",
       "      <td>2.434594e+06</td>\n",
       "      <td>2.434594e+06</td>\n",
       "      <td>2.434594e+06</td>\n",
       "    </tr>\n",
       "    <tr>\n",
       "      <th>mean</th>\n",
       "      <td>3.819830e+01</td>\n",
       "      <td>1.961628e+00</td>\n",
       "      <td>9.743102e+05</td>\n",
       "      <td>2.991628e+00</td>\n",
       "      <td>6.605530e+00</td>\n",
       "      <td>2.014847e+03</td>\n",
       "      <td>1.298369e+01</td>\n",
       "      <td>4.084242e+03</td>\n",
       "      <td>3.905992e+01</td>\n",
       "      <td>-7.362710e+01</td>\n",
       "      <td>...</td>\n",
       "      <td>1417.326656</td>\n",
       "      <td>7.902437e+02</td>\n",
       "      <td>272.720766</td>\n",
       "      <td>2.890708</td>\n",
       "      <td>10539.503610</td>\n",
       "      <td>622.802988</td>\n",
       "      <td>53.798094</td>\n",
       "      <td>4.552470e+01</td>\n",
       "      <td>-7.362743e+01</td>\n",
       "      <td>1.112307e+00</td>\n",
       "    </tr>\n",
       "    <tr>\n",
       "      <th>std</th>\n",
       "      <td>2.065316e+01</td>\n",
       "      <td>2.323149e+00</td>\n",
       "      <td>5.693817e+05</td>\n",
       "      <td>1.986634e+00</td>\n",
       "      <td>3.440964e+00</td>\n",
       "      <td>5.034160e+00</td>\n",
       "      <td>6.219825e+00</td>\n",
       "      <td>1.552319e+03</td>\n",
       "      <td>2.070077e+01</td>\n",
       "      <td>8.832343e-02</td>\n",
       "      <td>...</td>\n",
       "      <td>1541.980957</td>\n",
       "      <td>1.721335e+04</td>\n",
       "      <td>2056.219003</td>\n",
       "      <td>0.308065</td>\n",
       "      <td>8185.125931</td>\n",
       "      <td>332.085534</td>\n",
       "      <td>33.964440</td>\n",
       "      <td>5.851046e-02</td>\n",
       "      <td>8.821036e-02</td>\n",
       "      <td>7.872462e-01</td>\n",
       "    </tr>\n",
       "    <tr>\n",
       "      <th>min</th>\n",
       "      <td>0.000000e+00</td>\n",
       "      <td>0.000000e+00</td>\n",
       "      <td>0.000000e+00</td>\n",
       "      <td>0.000000e+00</td>\n",
       "      <td>1.000000e+00</td>\n",
       "      <td>2.005000e+03</td>\n",
       "      <td>0.000000e+00</td>\n",
       "      <td>0.000000e+00</td>\n",
       "      <td>3.000000e+00</td>\n",
       "      <td>-7.397439e+01</td>\n",
       "      <td>...</td>\n",
       "      <td>1000.000000</td>\n",
       "      <td>0.000000e+00</td>\n",
       "      <td>0.000000</td>\n",
       "      <td>2.100000</td>\n",
       "      <td>3.000000</td>\n",
       "      <td>5.000000</td>\n",
       "      <td>0.000000</td>\n",
       "      <td>4.541778e+01</td>\n",
       "      <td>-7.395002e+01</td>\n",
       "      <td>1.064710e-02</td>\n",
       "    </tr>\n",
       "    <tr>\n",
       "      <th>25%</th>\n",
       "      <td>2.000000e+01</td>\n",
       "      <td>1.000000e+00</td>\n",
       "      <td>4.809562e+05</td>\n",
       "      <td>1.000000e+00</td>\n",
       "      <td>4.000000e+00</td>\n",
       "      <td>2.011000e+03</td>\n",
       "      <td>9.000000e+00</td>\n",
       "      <td>3.117000e+03</td>\n",
       "      <td>2.100000e+01</td>\n",
       "      <td>-7.365263e+01</td>\n",
       "      <td>...</td>\n",
       "      <td>1000.000000</td>\n",
       "      <td>6.700000e+01</td>\n",
       "      <td>87.000000</td>\n",
       "      <td>2.700000</td>\n",
       "      <td>4697.600000</td>\n",
       "      <td>460.000000</td>\n",
       "      <td>24.000000</td>\n",
       "      <td>4.548999e+01</td>\n",
       "      <td>-7.365101e+01</td>\n",
       "      <td>5.745001e-01</td>\n",
       "    </tr>\n",
       "    <tr>\n",
       "      <th>50%</th>\n",
       "      <td>3.700000e+01</td>\n",
       "      <td>1.000000e+00</td>\n",
       "      <td>9.636835e+05</td>\n",
       "      <td>3.000000e+00</td>\n",
       "      <td>7.000000e+00</td>\n",
       "      <td>2.015000e+03</td>\n",
       "      <td>1.300000e+01</td>\n",
       "      <td>4.181000e+03</td>\n",
       "      <td>3.800000e+01</td>\n",
       "      <td>-7.360681e+01</td>\n",
       "      <td>...</td>\n",
       "      <td>1000.000000</td>\n",
       "      <td>2.370000e+02</td>\n",
       "      <td>135.000000</td>\n",
       "      <td>2.900000</td>\n",
       "      <td>9275.600000</td>\n",
       "      <td>552.000000</td>\n",
       "      <td>54.000000</td>\n",
       "      <td>4.551776e+01</td>\n",
       "      <td>-7.360780e+01</td>\n",
       "      <td>9.374420e-01</td>\n",
       "    </tr>\n",
       "    <tr>\n",
       "      <th>75%</th>\n",
       "      <td>5.500000e+01</td>\n",
       "      <td>2.000000e+00</td>\n",
       "      <td>1.467638e+06</td>\n",
       "      <td>5.000000e+00</td>\n",
       "      <td>1.000000e+01</td>\n",
       "      <td>2.019000e+03</td>\n",
       "      <td>1.800000e+01</td>\n",
       "      <td>5.234000e+03</td>\n",
       "      <td>5.600000e+01</td>\n",
       "      <td>-7.356864e+01</td>\n",
       "      <td>...</td>\n",
       "      <td>1000.000000</td>\n",
       "      <td>4.460000e+02</td>\n",
       "      <td>219.000000</td>\n",
       "      <td>3.100000</td>\n",
       "      <td>14141.400000</td>\n",
       "      <td>679.000000</td>\n",
       "      <td>73.000000</td>\n",
       "      <td>4.556375e+01</td>\n",
       "      <td>-7.356685e+01</td>\n",
       "      <td>1.438678e+00</td>\n",
       "    </tr>\n",
       "    <tr>\n",
       "      <th>max</th>\n",
       "      <td>7.900000e+01</td>\n",
       "      <td>2.750000e+02</td>\n",
       "      <td>1.971909e+06</td>\n",
       "      <td>6.000000e+00</td>\n",
       "      <td>1.200000e+01</td>\n",
       "      <td>2.023000e+03</td>\n",
       "      <td>2.300000e+01</td>\n",
       "      <td>6.754000e+03</td>\n",
       "      <td>7.800000e+01</td>\n",
       "      <td>-7.347777e+01</td>\n",
       "      <td>...</td>\n",
       "      <td>9900.000000</td>\n",
       "      <td>5.424280e+06</td>\n",
       "      <td>947140.000000</td>\n",
       "      <td>5.800000</td>\n",
       "      <td>122189.800000</td>\n",
       "      <td>5845.000000</td>\n",
       "      <td>424.000000</td>\n",
       "      <td>4.569705e+01</td>\n",
       "      <td>-7.349237e+01</td>\n",
       "      <td>7.705092e+00</td>\n",
       "    </tr>\n",
       "  </tbody>\n",
       "</table>\n",
       "<p>8 rows × 25 columns</p>\n",
       "</div>"
      ],
      "text/plain": [
       "\n",
       "       DISPATCHED_FIRE_STATION_ID  UNITS_DEPLOYED   INCIDENT_ID   day_of_week  \\\n",
       "count                \u001b[1;36m1.922726e+06\u001b[0m    \u001b[1;36m1.922726e+06\u001b[0m  \u001b[1;36m1.922726e+06\u001b[0m  \u001b[1;36m1.922726e+06\u001b[0m   \n",
       "mean                 \u001b[1;36m3.819830e+01\u001b[0m    \u001b[1;36m1.961628e+00\u001b[0m  \u001b[1;36m9.743102e+05\u001b[0m  \u001b[1;36m2.991628e+00\u001b[0m   \n",
       "std                  \u001b[1;36m2.065316e+01\u001b[0m    \u001b[1;36m2.323149e+00\u001b[0m  \u001b[1;36m5.693817e+05\u001b[0m  \u001b[1;36m1.986634e+00\u001b[0m   \n",
       "min                  \u001b[1;36m0.000000e+00\u001b[0m    \u001b[1;36m0.000000e+00\u001b[0m  \u001b[1;36m0.000000e+00\u001b[0m  \u001b[1;36m0.000000e+00\u001b[0m   \n",
       "\u001b[1;36m25\u001b[0m%                  \u001b[1;36m2.000000e+01\u001b[0m    \u001b[1;36m1.000000e+00\u001b[0m  \u001b[1;36m4.809562e+05\u001b[0m  \u001b[1;36m1.000000e+00\u001b[0m   \n",
       "\u001b[1;36m50\u001b[0m%                  \u001b[1;36m3.700000e+01\u001b[0m    \u001b[1;36m1.000000e+00\u001b[0m  \u001b[1;36m9.636835e+05\u001b[0m  \u001b[1;36m3.000000e+00\u001b[0m   \n",
       "\u001b[1;36m75\u001b[0m%                  \u001b[1;36m5.500000e+01\u001b[0m    \u001b[1;36m2.000000e+00\u001b[0m  \u001b[1;36m1.467638e+06\u001b[0m  \u001b[1;36m5.000000e+00\u001b[0m   \n",
       "max                  \u001b[1;36m7.900000e+01\u001b[0m    \u001b[1;36m2.750000e+02\u001b[0m  \u001b[1;36m1.971909e+06\u001b[0m  \u001b[1;36m6.000000e+00\u001b[0m   \n",
       "\n",
       "              month          year          hour    index_mesh  \\\n",
       "count  \u001b[1;36m1.922726e+06\u001b[0m  \u001b[1;36m1.922726e+06\u001b[0m  \u001b[1;36m1.922726e+06\u001b[0m  \u001b[1;36m2.434594e+06\u001b[0m   \n",
       "mean   \u001b[1;36m6.605530e+00\u001b[0m  \u001b[1;36m2.014847e+03\u001b[0m  \u001b[1;36m1.298369e+01\u001b[0m  \u001b[1;36m4.084242e+03\u001b[0m   \n",
       "std    \u001b[1;36m3.440964e+00\u001b[0m  \u001b[1;36m5.034160e+00\u001b[0m  \u001b[1;36m6.219825e+00\u001b[0m  \u001b[1;36m1.552319e+03\u001b[0m   \n",
       "min    \u001b[1;36m1.000000e+00\u001b[0m  \u001b[1;36m2.005000e+03\u001b[0m  \u001b[1;36m0.000000e+00\u001b[0m  \u001b[1;36m0.000000e+00\u001b[0m   \n",
       "\u001b[1;36m25\u001b[0m%    \u001b[1;36m4.000000e+00\u001b[0m  \u001b[1;36m2.011000e+03\u001b[0m  \u001b[1;36m9.000000e+00\u001b[0m  \u001b[1;36m3.117000e+03\u001b[0m   \n",
       "\u001b[1;36m50\u001b[0m%    \u001b[1;36m7.000000e+00\u001b[0m  \u001b[1;36m2.015000e+03\u001b[0m  \u001b[1;36m1.300000e+01\u001b[0m  \u001b[1;36m4.181000e+03\u001b[0m   \n",
       "\u001b[1;36m75\u001b[0m%    \u001b[1;36m1.000000e+01\u001b[0m  \u001b[1;36m2.019000e+03\u001b[0m  \u001b[1;36m1.800000e+01\u001b[0m  \u001b[1;36m5.234000e+03\u001b[0m   \n",
       "max    \u001b[1;36m1.200000e+01\u001b[0m  \u001b[1;36m2.023000e+03\u001b[0m  \u001b[1;36m2.300000e+01\u001b[0m  \u001b[1;36m6.754000e+03\u001b[0m   \n",
       "\n",
       "       FIRE_STATION_ID     grid_long  \u001b[33m...\u001b[0m       USE_CODE     AREA_LAND  \\\n",
       "count     \u001b[1;36m2.434594e+06\u001b[0m  \u001b[1;36m2.434594e+06\u001b[0m  \u001b[33m...\u001b[0m  \u001b[1;36m508655.000000\u001b[0m  \u001b[1;36m5.086550e+05\u001b[0m   \n",
       "mean      \u001b[1;36m3.905992e+01\u001b[0m \u001b[1;36m-7.362710e+01\u001b[0m  \u001b[33m...\u001b[0m    \u001b[1;36m1417.326656\u001b[0m  \u001b[1;36m7.902437e+02\u001b[0m   \n",
       "std       \u001b[1;36m2.070077e+01\u001b[0m  \u001b[1;36m8.832343e-02\u001b[0m  \u001b[33m...\u001b[0m    \u001b[1;36m1541.980957\u001b[0m  \u001b[1;36m1.721335e+04\u001b[0m   \n",
       "min       \u001b[1;36m3.000000e+00\u001b[0m \u001b[1;36m-7.397439e+01\u001b[0m  \u001b[33m...\u001b[0m    \u001b[1;36m1000.000000\u001b[0m  \u001b[1;36m0.000000e+00\u001b[0m   \n",
       "\u001b[1;36m25\u001b[0m%       \u001b[1;36m2.100000e+01\u001b[0m \u001b[1;36m-7.365263e+01\u001b[0m  \u001b[33m...\u001b[0m    \u001b[1;36m1000.000000\u001b[0m  \u001b[1;36m6.700000e+01\u001b[0m   \n",
       "\u001b[1;36m50\u001b[0m%       \u001b[1;36m3.800000e+01\u001b[0m \u001b[1;36m-7.360681e+01\u001b[0m  \u001b[33m...\u001b[0m    \u001b[1;36m1000.000000\u001b[0m  \u001b[1;36m2.370000e+02\u001b[0m   \n",
       "\u001b[1;36m75\u001b[0m%       \u001b[1;36m5.600000e+01\u001b[0m \u001b[1;36m-7.356864e+01\u001b[0m  \u001b[33m...\u001b[0m    \u001b[1;36m1000.000000\u001b[0m  \u001b[1;36m4.460000e+02\u001b[0m   \n",
       "max       \u001b[1;36m7.800000e+01\u001b[0m \u001b[1;36m-7.347777e+01\u001b[0m  \u001b[33m...\u001b[0m    \u001b[1;36m9900.000000\u001b[0m  \u001b[1;36m5.424280e+06\u001b[0m   \n",
       "\n",
       "       AREA_BUILDING  AVERAGE_FAMILY_SIZE  POPULATION_DENSITY  \\\n",
       "count  \u001b[1;36m508655.000000\u001b[0m          \u001b[1;36m3207.000000\u001b[0m         \u001b[1;36m3213.000000\u001b[0m   \n",
       "mean      \u001b[1;36m272.720766\u001b[0m             \u001b[1;36m2.890708\u001b[0m        \u001b[1;36m10539.503610\u001b[0m   \n",
       "std      \u001b[1;36m2056.219003\u001b[0m             \u001b[1;36m0.308065\u001b[0m         \u001b[1;36m8185.125931\u001b[0m   \n",
       "min         \u001b[1;36m0.000000\u001b[0m             \u001b[1;36m2.100000\u001b[0m            \u001b[1;36m3.000000\u001b[0m   \n",
       "\u001b[1;36m25\u001b[0m%        \u001b[1;36m87.000000\u001b[0m             \u001b[1;36m2.700000\u001b[0m         \u001b[1;36m4697.600000\u001b[0m   \n",
       "\u001b[1;36m50\u001b[0m%       \u001b[1;36m135.000000\u001b[0m             \u001b[1;36m2.900000\u001b[0m         \u001b[1;36m9275.600000\u001b[0m   \n",
       "\u001b[1;36m75\u001b[0m%       \u001b[1;36m219.000000\u001b[0m             \u001b[1;36m3.100000\u001b[0m        \u001b[1;36m14141.400000\u001b[0m   \n",
       "max    \u001b[1;36m947140.000000\u001b[0m             \u001b[1;36m5.800000\u001b[0m       \u001b[1;36m122189.800000\u001b[0m   \n",
       "\n",
       "       2021_POPULATION   building_age  LATITUDE_firestation  \\\n",
       "count      \u001b[1;36m3213.000000\u001b[0m  \u001b[1;36m486191.000000\u001b[0m          \u001b[1;36m2.434594e+06\u001b[0m   \n",
       "mean        \u001b[1;36m622.802988\u001b[0m      \u001b[1;36m53.798094\u001b[0m          \u001b[1;36m4.552470e+01\u001b[0m   \n",
       "std         \u001b[1;36m332.085534\u001b[0m      \u001b[1;36m33.964440\u001b[0m          \u001b[1;36m5.851046e-02\u001b[0m   \n",
       "min           \u001b[1;36m5.000000\u001b[0m       \u001b[1;36m0.000000\u001b[0m          \u001b[1;36m4.541778e+01\u001b[0m   \n",
       "\u001b[1;36m25\u001b[0m%         \u001b[1;36m460.000000\u001b[0m      \u001b[1;36m24.000000\u001b[0m          \u001b[1;36m4.548999e+01\u001b[0m   \n",
       "\u001b[1;36m50\u001b[0m%         \u001b[1;36m552.000000\u001b[0m      \u001b[1;36m54.000000\u001b[0m          \u001b[1;36m4.551776e+01\u001b[0m   \n",
       "\u001b[1;36m75\u001b[0m%         \u001b[1;36m679.000000\u001b[0m      \u001b[1;36m73.000000\u001b[0m          \u001b[1;36m4.556375e+01\u001b[0m   \n",
       "max        \u001b[1;36m5845.000000\u001b[0m     \u001b[1;36m424.000000\u001b[0m          \u001b[1;36m4.569705e+01\u001b[0m   \n",
       "\n",
       "       LONGITUDE_firestation  distance_to_fire_station  \n",
       "count           \u001b[1;36m2.434594e+06\u001b[0m              \u001b[1;36m2.434594e+06\u001b[0m  \n",
       "mean           \u001b[1;36m-7.362743e+01\u001b[0m              \u001b[1;36m1.112307e+00\u001b[0m  \n",
       "std             \u001b[1;36m8.821036e-02\u001b[0m              \u001b[1;36m7.872462e-01\u001b[0m  \n",
       "min            \u001b[1;36m-7.395002e+01\u001b[0m              \u001b[1;36m1.064710e-02\u001b[0m  \n",
       "\u001b[1;36m25\u001b[0m%            \u001b[1;36m-7.365101e+01\u001b[0m              \u001b[1;36m5.745001e-01\u001b[0m  \n",
       "\u001b[1;36m50\u001b[0m%            \u001b[1;36m-7.360780e+01\u001b[0m              \u001b[1;36m9.374420e-01\u001b[0m  \n",
       "\u001b[1;36m75\u001b[0m%            \u001b[1;36m-7.356685e+01\u001b[0m              \u001b[1;36m1.438678e+00\u001b[0m  \n",
       "max            \u001b[1;36m-7.349237e+01\u001b[0m              \u001b[1;36m7.705092e+00\u001b[0m  \n",
       "\n",
       "\u001b[1m[\u001b[0m\u001b[1;36m8\u001b[0m rows x \u001b[1;36m25\u001b[0m columns\u001b[1m]\u001b[0m"
      ]
     },
     "execution_count": 6,
     "metadata": {},
     "output_type": "execute_result"
    }
   ],
   "source": [
    "table.describe()"
   ]
  },
  {
   "cell_type": "code",
   "execution_count": 7,
   "metadata": {},
   "outputs": [
    {
     "data": {
      "text/html": [
       "<pre style=\"white-space:pre;overflow-x:auto;line-height:normal;font-family:Menlo,'DejaVu Sans Mono',consolas,'Courier New',monospace\"></pre>\n"
      ],
      "text/plain": []
     },
     "metadata": {},
     "output_type": "display_data"
    },
    {
     "data": {
      "text/plain": [
       "\u001b[1;35marray\u001b[0m\u001b[1m(\u001b[0m\u001b[1m[\u001b[0mnan, \u001b[32m'Regular'\u001b[0m, \u001b[32m'Condominium'\u001b[0m, \u001b[32m'Infrastructure'\u001b[0m\u001b[1m]\u001b[0m, \u001b[33mdtype\u001b[0m=\u001b[35mobject\u001b[0m\u001b[1m)\u001b[0m"
      ]
     },
     "execution_count": 7,
     "metadata": {},
     "output_type": "execute_result"
    }
   ],
   "source": [
    "table['USE_CATEGORY'].unique()"
   ]
  },
  {
   "cell_type": "code",
   "execution_count": 15,
   "metadata": {},
   "outputs": [
    {
     "data": {
      "text/html": [
       "<pre style=\"white-space:pre;overflow-x:auto;line-height:normal;font-family:Menlo,'DejaVu Sans Mono',consolas,'Courier New',monospace\"></pre>\n"
      ],
      "text/plain": []
     },
     "metadata": {},
     "output_type": "display_data"
    },
    {
     "data": {
      "text/plain": [
       "\n",
       "YEAR_CONSTRUCTION\n",
       "\u001b[1;36m1910.0\u001b[0m    \u001b[1;36m14700\u001b[0m\n",
       "\u001b[1;36m1987.0\u001b[0m     \u001b[1;36m9837\u001b[0m\n",
       "\u001b[1;36m1955.0\u001b[0m     \u001b[1;36m9723\u001b[0m\n",
       "\u001b[1;36m1900.0\u001b[0m     \u001b[1;36m9088\u001b[0m\n",
       "\u001b[1;36m2012.0\u001b[0m     \u001b[1;36m8390\u001b[0m\n",
       "          \u001b[33m...\u001b[0m  \n",
       "\u001b[1;36m1658.0\u001b[0m        \u001b[1;36m1\u001b[0m\n",
       "\u001b[1;36m1772.0\u001b[0m        \u001b[1;36m1\u001b[0m\n",
       "\u001b[1;36m1848.0\u001b[0m        \u001b[1;36m1\u001b[0m\n",
       "\u001b[1;36m1684.0\u001b[0m        \u001b[1;36m1\u001b[0m\n",
       "\u001b[1;36m1786.0\u001b[0m        \u001b[1;36m1\u001b[0m\n",
       "Name: count, Length: \u001b[1;36m243\u001b[0m, dtype: int64"
      ]
     },
     "execution_count": 15,
     "metadata": {},
     "output_type": "execute_result"
    }
   ],
   "source": [
    "table['YEAR_CONSTRUCTION'].value_counts()"
   ]
  },
  {
   "cell_type": "code",
   "execution_count": 16,
   "metadata": {},
   "outputs": [
    {
     "data": {
      "text/html": [
       "<pre style=\"white-space:pre;overflow-x:auto;line-height:normal;font-family:Menlo,'DejaVu Sans Mono',consolas,'Courier New',monospace\"></pre>\n"
      ],
      "text/plain": []
     },
     "metadata": {},
     "output_type": "display_data"
    },
    {
     "data": {
      "text/plain": [
       "\u001b[1;36m1948403\u001b[0m"
      ]
     },
     "execution_count": 16,
     "metadata": {},
     "output_type": "execute_result"
    }
   ],
   "source": [
    "table['YEAR_CONSTRUCTION'].isna().sum()"
   ]
  },
  {
   "cell_type": "code",
   "execution_count": 17,
   "metadata": {},
   "outputs": [
    {
     "data": {
      "text/html": [
       "<pre style=\"white-space:pre;overflow-x:auto;line-height:normal;font-family:Menlo,'DejaVu Sans Mono',consolas,'Courier New',monospace\"></pre>\n"
      ],
      "text/plain": []
     },
     "metadata": {},
     "output_type": "display_data"
    },
    {
     "data": {
      "text/plain": [
       "\u001b[1;36m486191\u001b[0m"
      ]
     },
     "execution_count": 17,
     "metadata": {},
     "output_type": "execute_result"
    }
   ],
   "source": [
    "table['YEAR_CONSTRUCTION']"
   ]
  },
  {
   "cell_type": "code",
   "execution_count": 57,
   "metadata": {},
   "outputs": [
    {
     "data": {
      "text/html": [
       "<pre style=\"white-space:pre;overflow-x:auto;line-height:normal;font-family:Menlo,'DejaVu Sans Mono',consolas,'Courier New',monospace\"></pre>\n"
      ],
      "text/plain": []
     },
     "metadata": {},
     "output_type": "display_data"
    },
    {
     "data": {
      "image/png": "[encoded data removed]",
      "text/plain": [
       "\u001b[1m<\u001b[0m\u001b[1;95mFigure\u001b[0m\u001b[39m size 100\u001b[0m\u001b[1;36m0x800\u001b[0m\u001b[39m with \u001b[0m\u001b[1;36m1\u001b[0m\u001b[39m Axes\u001b[0m\u001b[1m>\u001b[0m"
      ]
     },
     "metadata": {},
     "output_type": "display_data"
    }
   ],
   "source": [
    "import matplotlib.pyplot as plt\n",
    "\n",
    "# Plot grouped feature importances\n",
    "fig, ax = plt.subplots(1, 1, figsize=(10, 8))\n",
    "table['distance_to_fire_station'].plot(ax=ax)\n",
    "plt.show()"
   ]
  }
 ],
 "metadata": {
  "kernelspec": {
   "display_name": "Python 3",
   "language": "python",
   "name": "python3"
  },
  "language_info": {
   "codemirror_mode": {
    "name": "ipython",
    "version": 3
   },
   "file_extension": ".py",
   "mimetype": "text/x-python",
   "name": "python",
   "nbconvert_exporter": "python",
   "pygments_lexer": "ipython3",
   "version": "3.8.10"
  }
 },
 "nbformat": 4,
 "nbformat_minor": 2
}
